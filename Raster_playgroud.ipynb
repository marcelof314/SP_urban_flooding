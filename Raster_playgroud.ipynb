{
 "cells": [
  {
   "cell_type": "code",
   "id": "629a5a76018e1cde",
   "metadata": {
    "collapsed": true,
    "ExecuteTime": {
     "end_time": "2024-06-02T22:07:59.875671Z",
     "start_time": "2024-06-02T22:07:59.868302Z"
    }
   },
   "source": [
    "import rasterio\n",
    "import rasterio.features\n",
    "import rasterio.warp"
   ],
   "execution_count": 3,
   "outputs": []
  },
  {
   "metadata": {
    "ExecuteTime": {
     "end_time": "2024-06-02T22:07:56.422072Z",
     "start_time": "2024-06-02T22:07:56.418335Z"
    }
   },
   "cell_type": "code",
   "source": "arquivo_raster = '/Users/marcelofernandes/Library/CloudStorage/GoogleDrive-marcelo.fernandes@alumni.usp.br/.shortcut-targets-by-id/1M--OnzbTYagrNv5Ss9fjWlBxCMmasz-Y/10_Mestrado_2021_Marcelo Fernandes/4_Códigos/Qualificação/14_106.tif'",
   "id": "b438ca1094d944dc",
   "execution_count": 2,
   "outputs": []
  },
  {
   "metadata": {
    "ExecuteTime": {
     "end_time": "2024-06-02T12:39:20.592737Z",
     "start_time": "2024-06-02T12:39:19.008851Z"
    }
   },
   "cell_type": "code",
   "source": [
    "with rasterio.open(arquivo_raster) as dataset:\n",
    "\n",
    "    # Read the dataset's valid data mask as a ndarray.\n",
    "    mask = dataset.dataset_mask()\n",
    "    banda1 = dataset.read(1)\n",
    "\n",
    "    # Extract feature shapes and values from the array.\n",
    "    for geom, val in rasterio.features.shapes(\n",
    "            mask, transform=dataset.transform):\n",
    "\n",
    "        # Transform shapes from the dataset's own coordinate\n",
    "        # reference system to CRS84 (EPSG:4326).\n",
    "        geom = rasterio.warp.transform_geom(\n",
    "            dataset.crs, 'EPSG:4326', geom, precision=6)\n",
    "\n",
    "        # Print GeoJSON shapes to stdout.\n",
    "        print(geom)"
   ],
   "id": "initial_id",
   "execution_count": 12,
   "outputs": []
  },
  {
   "metadata": {},
   "cell_type": "markdown",
   "source": "A dataset band is an array of values representing the partial distribution of a single variable in 2-dimensional (2D) space. All band arrays of a dataset have the same number of rows and columns.",
   "id": "841ad25e2b4a08fb"
  },
  {
   "metadata": {
    "ExecuteTime": {
     "end_time": "2024-06-02T12:33:14.222023Z",
     "start_time": "2024-06-02T12:33:14.215493Z"
    }
   },
   "cell_type": "code",
   "source": "dataset.width",
   "id": "fbb127c7076e2ca7",
   "execution_count": 4,
   "outputs": []
  },
  {
   "metadata": {
    "ExecuteTime": {
     "end_time": "2024-06-02T12:33:23.395976Z",
     "start_time": "2024-06-02T12:33:23.391754Z"
    }
   },
   "cell_type": "code",
   "source": "dataset.height",
   "id": "478f47b2b809c55a",
   "execution_count": 5,
   "outputs": []
  },
  {
   "metadata": {},
   "cell_type": "markdown",
   "source": "Some dataset attributes expose the properties of all dataset bands via a tuple of values, one per band. To get a mapping of band indexes to variable data types, apply a dictionary comprehension to the zip() product of a dataset’s indexes and dtypes attributes.",
   "id": "269da803cb3f9569"
  },
  {
   "metadata": {
    "ExecuteTime": {
     "end_time": "2024-06-02T12:34:45.955406Z",
     "start_time": "2024-06-02T12:34:45.950960Z"
    }
   },
   "cell_type": "code",
   "source": "{i: dtype for i, dtype in zip(dataset.indexes, dataset.dtypes)}",
   "id": "42a38e19ebeeb957",
   "execution_count": 6,
   "outputs": []
  },
  {
   "metadata": {},
   "cell_type": "markdown",
   "source": "A GIS raster dataset is different from an ordinary image; its elements (or “pixels”) are mapped to regions on the earth’s surface. Every pixels of a dataset is contained within a spatial bounding box.",
   "id": "2a10dab6f4568907"
  },
  {
   "metadata": {
    "ExecuteTime": {
     "end_time": "2024-06-02T12:36:39.129932Z",
     "start_time": "2024-06-02T12:36:39.125477Z"
    }
   },
   "cell_type": "code",
   "source": "dataset.bounds",
   "id": "d230e8d8a4dc2c3c",
   "execution_count": 7,
   "outputs": []
  },
  {
   "metadata": {
    "ExecuteTime": {
     "end_time": "2024-06-02T12:37:13.375462Z",
     "start_time": "2024-06-02T12:37:13.371397Z"
    }
   },
   "cell_type": "code",
   "source": "dataset.transform",
   "id": "fd31ca14c56344c",
   "execution_count": 8,
   "outputs": []
  },
  {
   "metadata": {
    "ExecuteTime": {
     "end_time": "2024-06-02T12:37:45.523071Z",
     "start_time": "2024-06-02T12:37:45.518642Z"
    }
   },
   "cell_type": "code",
   "source": "dataset.crs",
   "id": "7b4e003a4c6765ea",
   "execution_count": 9,
   "outputs": []
  },
  {
   "metadata": {
    "ExecuteTime": {
     "end_time": "2024-06-02T12:38:21.422793Z",
     "start_time": "2024-06-02T12:38:21.416177Z"
    }
   },
   "cell_type": "code",
   "source": "dataset.indexes",
   "id": "ce9a35f61c117b13",
   "execution_count": 10,
   "outputs": []
  },
  {
   "metadata": {
    "ExecuteTime": {
     "end_time": "2024-06-02T12:39:31.356475Z",
     "start_time": "2024-06-02T12:39:31.351498Z"
    }
   },
   "cell_type": "code",
   "source": "banda1",
   "id": "9cada9318b73647f",
   "execution_count": 13,
   "outputs": []
  },
  {
   "metadata": {
    "ExecuteTime": {
     "end_time": "2024-06-02T12:44:53.810723Z",
     "start_time": "2024-06-02T12:44:53.634952Z"
    }
   },
   "cell_type": "code",
   "source": [
    "from matplotlib import pyplot as plt\n",
    "dataset = rasterio.open(arquivo_raster)\n",
    "plt.imshow(dataset.read(1), cmap='viridis')\n",
    "plt.show()"
   ],
   "id": "d8d1c5058f72a99a",
   "execution_count": 17,
   "outputs": []
  },
  {
   "metadata": {
    "ExecuteTime": {
     "end_time": "2024-06-02T12:46:23.461636Z",
     "start_time": "2024-06-02T12:46:23.266114Z"
    }
   },
   "cell_type": "code",
   "source": [
    "from rasterio.plot import show_hist\n",
    "show_hist(\n",
    "    dataset, bins=1, lw=0.0, stacked=False, alpha=0.3,\n",
    "    histtype='stepfilled', title=\"Histogram\")"
   ],
   "id": "cf9b97708d060a59",
   "execution_count": 20,
   "outputs": []
  },
  {
   "metadata": {
    "ExecuteTime": {
     "end_time": "2024-06-02T12:47:48.456913Z",
     "start_time": "2024-06-02T12:47:48.452167Z"
    }
   },
   "cell_type": "code",
   "source": "dataset.shape",
   "id": "b7ff5c2510ea3962",
   "execution_count": 21,
   "outputs": []
  },
  {
   "metadata": {
    "ExecuteTime": {
     "end_time": "2024-06-02T12:48:04.674258Z",
     "start_time": "2024-06-02T12:48:04.670430Z"
    }
   },
   "cell_type": "code",
   "source": "dataset.dtypes",
   "id": "87812bfb5b4cfb0a",
   "execution_count": 22,
   "outputs": []
  },
  {
   "metadata": {
    "ExecuteTime": {
     "end_time": "2024-06-02T12:48:25.886718Z",
     "start_time": "2024-06-02T12:48:25.883043Z"
    }
   },
   "cell_type": "code",
   "source": "dataset.nodatavals",
   "id": "3dd4af007857a32b",
   "execution_count": 23,
   "outputs": []
  },
  {
   "metadata": {
    "ExecuteTime": {
     "end_time": "2024-06-02T12:48:37.502993Z",
     "start_time": "2024-06-02T12:48:37.500206Z"
    }
   },
   "cell_type": "code",
   "source": "dataset.nodata",
   "id": "bc460d95f1819e89",
   "execution_count": 24,
   "outputs": []
  },
  {
   "metadata": {
    "ExecuteTime": {
     "end_time": "2024-06-02T12:49:42.595202Z",
     "start_time": "2024-06-02T12:49:42.590579Z"
    }
   },
   "cell_type": "code",
   "source": [
    "msk = dataset.read_masks(1)\n",
    "msk.shape\n",
    "msk"
   ],
   "id": "631fab690b622413",
   "execution_count": 25,
   "outputs": []
  },
  {
   "metadata": {
    "ExecuteTime": {
     "end_time": "2024-06-02T12:52:01.865440Z",
     "start_time": "2024-06-02T12:52:01.633498Z"
    }
   },
   "cell_type": "code",
   "source": "plt.imshow(msk, alpha=0.3, cmap='viridis')",
   "id": "b2667c26e72202d3",
   "execution_count": 27,
   "outputs": []
  },
  {
   "metadata": {
    "ExecuteTime": {
     "end_time": "2024-06-02T13:12:20.972399Z",
     "start_time": "2024-06-02T13:12:20.715702Z"
    }
   },
   "cell_type": "code",
   "source": "rasterio.plot.show(dataset)",
   "id": "3c1b521765fed568",
   "execution_count": 28,
   "outputs": []
  },
  {
   "metadata": {
    "ExecuteTime": {
     "end_time": "2024-06-02T13:13:20.953327Z",
     "start_time": "2024-06-02T13:13:20.946430Z"
    }
   },
   "cell_type": "code",
   "source": "dataset.meta",
   "id": "2976b4c7ac9235ca",
   "execution_count": 29,
   "outputs": []
  },
  {
   "metadata": {
    "ExecuteTime": {
     "end_time": "2024-06-02T22:08:08.813357Z",
     "start_time": "2024-06-02T22:08:08.686017Z"
    }
   },
   "cell_type": "code",
   "source": [
    "import rasterio\n",
    "import geopandas as gpd\n",
    "import numpy as np\n",
    "from shapely.geometry import Point\n",
    "\n",
    "# Carregar o raster\n",
    "with rasterio.open(arquivo_raster) as src:\n",
    "    raster = src.read(1)\n",
    "    transform = src.transform\n",
    "\n",
    "# Identificar os pontos de alagamento\n",
    "# Supondo que a altura mínima da lâmina de água para considerar alagamento é maior que zero\n",
    "threshold = 0  # Defina o threshold conforme necessário\n",
    "flood_points = np.argwhere(raster > threshold)"
   ],
   "id": "493c10afde6e0aff",
   "execution_count": 4,
   "outputs": []
  },
  {
   "metadata": {
    "ExecuteTime": {
     "end_time": "2024-06-02T22:10:53.815460Z",
     "start_time": "2024-06-02T22:10:53.807393Z"
    }
   },
   "cell_type": "code",
   "source": "flood_points",
   "id": "b98bbf8e97370f1",
   "execution_count": 5,
   "outputs": []
  },
  {
   "metadata": {
    "ExecuteTime": {
     "end_time": "2024-06-02T22:13:00.563962Z",
     "start_time": "2024-06-02T22:13:00.535987Z"
    }
   },
   "cell_type": "code",
   "source": [
    "import rasterio\n",
    "import numpy as np\n",
    "\n",
    "# Carregar o raster\n",
    "with rasterio.open(arquivo_raster) as src:\n",
    "    raster = src.read(1)\n",
    "\n",
    "# Remover valores de no data se houver\n",
    "no_data_value = src.nodata\n",
    "if no_data_value is not None:\n",
    "    raster = np.ma.masked_equal(raster, no_data_value)\n",
    "\n",
    "# Calcular estatísticas descritivas\n",
    "mean_value = np.mean(raster)\n",
    "median_value = np.median(raster)\n",
    "std_dev = np.std(raster)\n",
    "min_value = np.min(raster)\n",
    "max_value = np.max(raster)\n",
    "percentiles = np.percentile(raster, [25, 50, 75])\n",
    "\n",
    "# Exibir os resultados\n",
    "print(f'Média: {mean_value}')\n",
    "print(f'Mediana: {median_value}')\n",
    "print(f'Desvio Padrão: {std_dev}')\n",
    "print(f'Valor Mínimo: {min_value}')\n",
    "print(f'Valor Máximo: {max_value}')\n",
    "print(f'Percentil 25: {percentiles[0]}')\n",
    "print(f'Percentil 50: {percentiles[1]}')\n",
    "print(f'Percentil 75: {percentiles[2]}')\n"
   ],
   "id": "9aee88e1e1e3e5bc",
   "execution_count": 6,
   "outputs": []
  },
  {
   "metadata": {
    "ExecuteTime": {
     "end_time": "2024-06-02T22:15:50.097715Z",
     "start_time": "2024-06-02T22:15:50.085759Z"
    }
   },
   "cell_type": "code",
   "source": [
    "import rasterio\n",
    "\n",
    "# Carregar o raster\n",
    "with rasterio.open(arquivo_raster) as src:\n",
    "    # Exibir metadados\n",
    "    print(src.meta)\n",
    "    print(src.tags())\n"
   ],
   "id": "a7727ea51504a254",
   "execution_count": 7,
   "outputs": []
  },
  {
   "metadata": {
    "ExecuteTime": {
     "end_time": "2024-06-02T22:17:25.010680Z",
     "start_time": "2024-06-02T22:17:24.987734Z"
    }
   },
   "cell_type": "code",
   "source": [
    "import rasterio\n",
    "\n",
    "# Carregar o raster\n",
    "with rasterio.open(arquivo_raster) as src:\n",
    "    scale_factor = src.tags().get('scale_factor', 1)\n",
    "    add_offset = src.tags().get('add_offset', 0)\n",
    "    raster = src.read(1)\n",
    "    # Aplicar escala e offset\n",
    "    raster_converted = raster * float(scale_factor) + float(add_offset)\n",
    "\n",
    "print(raster_converted)\n"
   ],
   "id": "1aa308c2083b3ba8",
   "execution_count": 8,
   "outputs": []
  },
  {
   "metadata": {
    "ExecuteTime": {
     "end_time": "2024-06-02T22:18:00.311496Z",
     "start_time": "2024-06-02T22:18:00.306164Z"
    }
   },
   "cell_type": "code",
   "source": "src.tags().get('scale_factor', 1)",
   "id": "3969318fe668ee52",
   "execution_count": 9,
   "outputs": []
  },
  {
   "metadata": {
    "ExecuteTime": {
     "end_time": "2024-06-02T22:39:36.506204Z",
     "start_time": "2024-06-02T22:39:36.233186Z"
    }
   },
   "cell_type": "code",
   "source": [
    "from osgeo import gdal\n",
    "\n",
    "# Abrir o raster\n",
    "dataset = gdal.Open(arquivo_raster)\n",
    "band = dataset.GetRasterBand(1)\n",
    "\n",
    "# Obter a tabela de atributos\n",
    "rat = band.GetDefaultRAT()\n",
    "if rat:\n",
    "    for i in range(rat.GetColumnCount()):\n",
    "        print(rat.GetNameOfCol(i), rat.GetTypeOfCol(i))\n",
    "\n",
    "    for row in range(rat.GetRowCount()):\n",
    "        print([rat.GetValueAsString(row, col) for col in range(rat.GetColumnCount())])\n",
    "else:\n",
    "    print(\"Não há tabela de atributos associada.\")\n"
   ],
   "id": "279c1d176f9bb55c",
   "execution_count": 10,
   "outputs": []
  },
  {
   "metadata": {},
   "cell_type": "code",
   "execution_count": null,
   "source": [
    "\n",
    "# Converter coordenadas de pixel para coordenadas geográficas\n",
    "flood_geoms = [Point(rasterio.transform.xy(transform, row, col)) for row, col in flood_points]\n",
    "\n",
    "# Criar um GeoDataFrame dos pontos de alagamento\n",
    "flood_gdf = gpd.GeoDataFrame(geometry=flood_geoms)\n",
    "flood_gdf['water_height'] = raster[flood_points[:, 0], flood_points[:, 1]]\n",
    "\n",
    "# Transferir os valores de altura da lâmina de água para a rede viária\n",
    "def get_max_water_height(line, flood_gdf):\n",
    "    intersected_points = flood_gdf[flood_gdf.intersects(line)]\n",
    "    if not intersected_points.empty:\n",
    "        return intersected_points['water_height'].max()\n",
    "    return 0\n",
    "\n",
    "edges2['max_water_height'] = edges2['geometry'].apply(lambda line: get_max_water_height(line, flood_gdf))\n",
    "\n",
    "# Salvar o GeoDataFrame atualizado\n",
    "edges2.to_file('caminho/para/seu/edges2_com_agua.shp')\n"
   ],
   "id": "90ae85f881197d6e",
   "outputs": []
  },
  {
   "metadata": {
    "ExecuteTime": {
     "end_time": "2024-06-02T23:29:12.999552Z",
     "start_time": "2024-06-02T23:29:11.941523Z"
    }
   },
   "cell_type": "code",
   "source": [
    "import rasterio\n",
    "import numpy as np\n",
    "import matplotlib.pyplot as plt\n",
    "from rasterio.plot import show\n",
    "\n",
    "# Abrir o raster e ler os dados\n",
    "with rasterio.open(arquivo_raster) as src:\n",
    "    raster = src.read(1)\n",
    "    no_data_value = src.nodata\n",
    "    \n",
    "    # Se houver um valor de no data, mascará-lo\n",
    "    if no_data_value is not None:\n",
    "        raster = np.ma.masked_equal(raster, no_data_value)\n",
    "\n",
    "    # Verificar e converter o tipo de dados do raster\n",
    "    if raster.dtype.kind in 'UO':  # Se os dados forem unicode ou objeto, convertê-los\n",
    "        raster = raster.astype(np.float32)\n",
    "    else:\n",
    "        raster = raster.astype(np.float32)  # Assegurar que os dados sejam float32 para plotagem\n",
    "\n",
    "# Plotar o raster\n",
    "fig, ax = plt.subplots(figsize=(10, 10))\n",
    "show(raster, ax=ax, title='Raster Plot')\n",
    "\n",
    "# Adicionar contornos\n",
    "contours = ax.contour(raster, levels=np.arange(0,9, 1), colors='white')\n",
    "ax.clabel(contours, inline=True, fontsize=8)\n",
    "\n",
    "#Ajustar os limites dos eixos para dar zoom\n",
    "ax.set_xlim(300,380)\n",
    "ax.set_ylim(290,250)\n",
    "\n",
    "plt.show()\n"
   ],
   "id": "f19eed6e1d74aa0b",
   "execution_count": 22,
   "outputs": []
  },
  {
   "metadata": {},
   "cell_type": "code",
   "execution_count": null,
   "source": "",
   "id": "d6544f01219b4551",
   "outputs": []
  }
 ],
 "metadata": {
  "kernelspec": {
   "display_name": "Python 3",
   "language": "python",
   "name": "python3"
  },
  "language_info": {
   "codemirror_mode": {
    "name": "ipython",
    "version": 2
   },
   "file_extension": ".py",
   "mimetype": "text/x-python",
   "name": "python",
   "nbconvert_exporter": "python",
   "pygments_lexer": "ipython2",
   "version": "2.7.6"
  }
 },
 "nbformat": 4,
 "nbformat_minor": 5
}
