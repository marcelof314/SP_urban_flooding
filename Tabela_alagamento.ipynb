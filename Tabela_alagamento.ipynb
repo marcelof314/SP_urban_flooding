{
 "cells": [
  {
   "cell_type": "code",
   "execution_count": 2,
   "metadata": {},
   "outputs": [],
   "source": [
    "import requests\n",
    "from bs4 import BeautifulSoup\n",
    "from datetime import date, timedelta\n",
    "import time\n",
    "import pandas as pd\n",
    "import re"
   ]
  },
  {
   "cell_type": "code",
   "execution_count": 3,
   "metadata": {},
   "outputs": [],
   "source": [
    "# Cria dataframe para receber o conteúdo\n",
    "Campos = ['Data',\n",
    "           'Alagamento',\n",
    "           'Região',\n",
    "           'Bairro',\n",
    "           'Tipo',\n",
    "           'Horário Inicial',\n",
    "           'Horário Final',\n",
    "           'Endereço',\n",
    "           'Sentido',\n",
    "           'Referência'\n",
    "           ]\n",
    "df = pd.DataFrame(columns=Campos)"
   ]
  },
  {
   "cell_type": "code",
   "execution_count": 6,
   "metadata": {},
   "outputs": [],
   "source": [
    "# Montagem dinâmica das datas a serem varridas:\n",
    "start = date(2023, 1, 1)\n",
    "end = date(2023, 1, 5)\n",
    "# Quando a função estiver totalmente funcional\n",
    "# end = date.today()\n",
    "data_pesquisada = start\n",
    "dia = timedelta(days=1)"
   ]
  },
  {
   "cell_type": "code",
   "execution_count": null,
   "metadata": {},
   "outputs": [],
   "source": [
    "# Loop para baixar vários dias. Ainda não está pronto\n",
    "while data_pesquisada < end:\n",
    "    data_formatada = data_pesquisada.strftime('%m')+'%2F'+data_pesquisada.strftime('%d')+'%2F'+data_pesquisada.strftime('%Y')\n",
    "    URL_pesquisada = 'https://www.cgesp.org/v3/alagamentos.jsp?dataBusca='+data_formatada+'&enviaBusca=Buscar'\n",
    "#    print(URL_pesquisada)\n",
    "    \n",
    "    # Faz a requisição para a página\n",
    "    response = requests.get(URL_pesquisada)\n",
    "    \n",
    "    # Analisa o HTML da página com o BeautifulSoup\n",
    "    soup = BeautifulSoup(response.content, 'html.parser')\n",
    "    \n",
    "    print('Data pesquisada:',data_pesquisada)\n",
    "    for el in soup.find_all('div',{\"class\": 'yui3-u col-alagamentos'}):\n",
    "        print(el.get_text())\n",
    "    \n",
    "    data_pesquisada = data_pesquisada + dia\n",
    "    time.sleep(1)"
   ]
  },
  {
   "cell_type": "code",
   "execution_count": 7,
   "metadata": {},
   "outputs": [],
   "source": [
    "URL = 'https://www.cgesp.org/v3/alagamentos.jsp?dataBusca=04%2F01%2F2023&enviaBusca=Buscar'\n",
    "# Faz a requisição para a página\n",
    "response = requests.get(URL)\n",
    "    \n",
    "# Analisa o HTML da página com o BeautifulSoup\n",
    "soup = BeautifulSoup(response.content, 'html.parser')"
   ]
  },
  {
   "cell_type": "code",
   "execution_count": 13,
   "metadata": {},
   "outputs": [
    {
     "name": "stdout",
     "output_type": "stream",
     "text": [
      "<div class=\"ponto-de-alagamento\">\n",
      "<ul>\n",
      "<li class=\"inativo-intransitavel\" title=\"Inativo Intransitável\"></li>\n",
      "<li class=\"espaco\"></li>\n",
      "<li class=\"arial-descr-alag col-local\">De 16:49 a 17:03<br/>R MANOEL DUTRA</li>\n",
      "<li class=\"ln-vert\"></li>\n",
      "<li class=\"arial-descr-alag\">Sentido: AMBOS<br/>Referência: PRAÇA 14 BIS</li>\n",
      "</ul>\n",
      "</div>\n",
      "O número de alagamentos encontrados foi:  2\n"
     ]
    },
    {
     "ename": "AttributeError",
     "evalue": "'NoneType' object has no attribute 'get_text'",
     "output_type": "error",
     "traceback": [
      "\u001b[0;31m---------------------------------------------------------------------------\u001b[0m",
      "\u001b[0;31mAttributeError\u001b[0m                            Traceback (most recent call last)",
      "Cell \u001b[0;32mIn [13], line 19\u001b[0m\n\u001b[1;32m     16\u001b[0m df\u001b[39m.\u001b[39mat[index,\u001b[39m'\u001b[39m\u001b[39mAlagamento\u001b[39m\u001b[39m'\u001b[39m] \u001b[39m=\u001b[39m \u001b[39m1\u001b[39m\n\u001b[1;32m     18\u001b[0m \u001b[39m#'Região'\u001b[39;00m\n\u001b[0;32m---> 19\u001b[0m df\u001b[39m.\u001b[39mat[index,\u001b[39m'\u001b[39m\u001b[39mRegião\u001b[39m\u001b[39m'\u001b[39m] \u001b[39m=\u001b[39m tabelas\u001b[39m.\u001b[39mfind(\u001b[39m'\u001b[39m\u001b[39mh1\u001b[39m\u001b[39m'\u001b[39m,{\u001b[39m'\u001b[39m\u001b[39mclass\u001b[39m\u001b[39m'\u001b[39m:\u001b[39m'\u001b[39m\u001b[39mtit-bairros\u001b[39m\u001b[39m'\u001b[39m})\u001b[39m.\u001b[39mget_text()\n\u001b[1;32m     21\u001b[0m \u001b[39m#'Bairro',\u001b[39;00m\n\u001b[1;32m     22\u001b[0m df\u001b[39m.\u001b[39mat[index,\u001b[39m'\u001b[39m\u001b[39mBairro\u001b[39m\u001b[39m'\u001b[39m] \u001b[39m=\u001b[39m tabelas\u001b[39m.\u001b[39mfind(\u001b[39m'\u001b[39m\u001b[39mtd\u001b[39m\u001b[39m'\u001b[39m,{\u001b[39m'\u001b[39m\u001b[39mclass\u001b[39m\u001b[39m'\u001b[39m:\u001b[39m'\u001b[39m\u001b[39mbairro arial-bairros-alag linha-pontilhada\u001b[39m\u001b[39m'\u001b[39m})\u001b[39m.\u001b[39mget_text(strip\u001b[39m=\u001b[39m\u001b[39mTrue\u001b[39;00m)\n",
      "\u001b[0;31mAttributeError\u001b[0m: 'NoneType' object has no attribute 'get_text'"
     ]
    }
   ],
   "source": [
    "index = 0\n",
    "alagamento = 1\n",
    "\n",
    "for tabelas in soup.findAll('div',{'class':'ponto-de-alagamento'}):\n",
    "    # Primeiro, vamos achar a quantidade de pontos de alagamento\n",
    "    print(tabelas)\n",
    "    string = soup.find('td',{'class':'total-pts arial-bairros-alag'}).get_text()\n",
    "    no_alagamentos = int(string[0:string.find('pt')-1])\n",
    "    print('O número de alagamentos encontrados foi: ',no_alagamentos)\n",
    "\n",
    "    while alagamento < no_alagamentos+1:\n",
    "        # Data: a mais fácil. É o dia que está sendo iterado\n",
    "        df.at[index,'Data'] =  data_pesquisada\n",
    "\n",
    "        # Alagamento: este campo é para indicar que se choveu ou não nesse dia\n",
    "        df.at[index,'Alagamento'] = 1\n",
    "\n",
    "        #'Região'\n",
    "        df.at[index,'Região'] = tabelas.find('h1',{'class':'tit-bairros'}).get_text()\n",
    "\n",
    "        #'Bairro',\n",
    "        df.at[index,'Bairro'] = tabelas.find('td',{'class':'bairro arial-bairros-alag linha-pontilhada'}).get_text(strip=True)\n",
    "\n",
    "        #'Tipo',\n",
    "        filho = tabelas.find('div',{'class':'ponto-de-alagamento'})\n",
    "        filhos = filho.findChildren()\n",
    "        df.at[index,'Tipo'] = filhos[1]['title']\n",
    "\n",
    "        #'Horário Inicial',\n",
    "        texto=filhos[3].text\n",
    "        horas =re.findall('(?:(\\d\\d?):)?([0-5][0-9])',texto)\n",
    "        df.at[index,'Horário Inicial'] = str(horas[0][0])+':'+str(horas[0][1])\n",
    "\n",
    "        #'Horário Final'\n",
    "        df.at[index,'Horário Final'] = str(horas[1][0])+':'+str(horas[1][1])\n",
    "\n",
    "        # Endereço\n",
    "        df.at[index,'Endereço'] = texto[texto.find(horas[1][1])+2:len(texto)]\n",
    "\n",
    "        #'Sentido',\n",
    "        texto = filhos[6].text\n",
    "        info = texto.find('Ref')\n",
    "        df.at[index,'Sentido'] = texto[8:texto.find('Ref')]\n",
    "\n",
    "        #'Referência'\n",
    "        df.at[index,'Referência'] = texto[texto.find('Ref')+11:len(texto)]\n",
    "\n",
    "        index = index + 1\n",
    "        alagamento = alagamento + 1\n"
   ]
  },
  {
   "cell_type": "code",
   "execution_count": 9,
   "metadata": {},
   "outputs": [
    {
     "name": "stdout",
     "output_type": "stream",
     "text": [
      "         Data Alagamento  Região Bairro                   Tipo  \\\n",
      "0  2023-01-01          1  Centro     Sé  Inativo Intransitável   \n",
      "1  2023-01-01          1  Centro     Sé  Inativo Intransitável   \n",
      "\n",
      "  Horário Inicial Horário Final        Endereço Sentido     Referência  \n",
      "0           16:49         17:03  R MANOEL DUTRA   AMBOS   PRAÇA 14 BIS  \n",
      "1           16:49         17:03  R MANOEL DUTRA   AMBOS   PRAÇA 14 BIS  \n"
     ]
    }
   ],
   "source": [
    "print(df)"
   ]
  },
  {
   "cell_type": "code",
   "execution_count": null,
   "metadata": {},
   "outputs": [],
   "source": [
    "string = soup.find('td',{'class':'total-pts arial-bairros-alag'}).get_text()"
   ]
  },
  {
   "cell_type": "code",
   "execution_count": null,
   "metadata": {},
   "outputs": [],
   "source": [
    "filho = soup.findAll('div',{'class':'ponto-de-alagamento'})\n",
    "filho"
   ]
  }
 ],
 "metadata": {
  "kernelspec": {
   "display_name": "Python 3",
   "language": "python",
   "name": "python3"
  },
  "language_info": {
   "codemirror_mode": {
    "name": "ipython",
    "version": 3
   },
   "file_extension": ".py",
   "mimetype": "text/x-python",
   "name": "python",
   "nbconvert_exporter": "python",
   "pygments_lexer": "ipython3",
   "version": "3.9.16"
  },
  "orig_nbformat": 4,
  "vscode": {
   "interpreter": {
    "hash": "ac2eaa0ea0ebeafcc7822e65e46aa9d4f966f30b695406963e145ea4a91cd4fc"
   }
  }
 },
 "nbformat": 4,
 "nbformat_minor": 2
}
