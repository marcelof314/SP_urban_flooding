{
 "cells": [
  {
   "cell_type": "code",
   "execution_count": 41,
   "metadata": {},
   "outputs": [],
   "source": [
    "import requests\n",
    "from bs4 import BeautifulSoup\n",
    "from datetime import date, timedelta\n",
    "import time\n",
    "import pandas as pd\n",
    "import re\n",
    "from tqdm.auto import tqdm"
   ]
  },
  {
   "cell_type": "code",
   "execution_count": 3,
   "metadata": {},
   "outputs": [],
   "source": [
    "# Função para determinar se houve alagamento ou não em um determinado dia\n",
    "def houve_alag(soup):\n",
    "    # Texto padrão quando não houve alagamentos\n",
    "    texto = 'Não há registros de alagamentos para essa data.'\n",
    "\n",
    "    # Variável para alagamento. 0, sem alagamento. 1, com alagamento\n",
    "    flag_alag = 0\n",
    "\n",
    "    alag = soup.find_all(string = re.compile('registros'))\n",
    "    \n",
    "    if (alag == []):\n",
    "        flag_alag = 1\n",
    "        return flag_alag\n",
    "    else:\n",
    "        flag_alag = 0\n",
    "        return flag_alag"
   ]
  },
  {
   "cell_type": "code",
   "execution_count": 92,
   "metadata": {},
   "outputs": [
    {
     "data": {
      "application/vnd.jupyter.widget-view+json": {
       "model_id": "32d4a2d2d7854fd5b60a84ed0aa2f159",
       "version_major": 2,
       "version_minor": 0
      },
      "text/plain": [
       "Pontos de Alagamento:   0%|          | 0/7 [00:00<?, ?it/s]"
      ]
     },
     "metadata": {},
     "output_type": "display_data"
    },
    {
     "data": {
      "application/vnd.jupyter.widget-view+json": {
       "model_id": "5ab253df09f847e3a3fc78120b8bd282",
       "version_major": 2,
       "version_minor": 0
      },
      "text/plain": [
       "Pontos de Alagamento:   0%|          | 0/2 [00:00<?, ?it/s]"
      ]
     },
     "metadata": {},
     "output_type": "display_data"
    },
    {
     "data": {
      "application/vnd.jupyter.widget-view+json": {
       "model_id": "bf7dfaa92d7947a19ab9b645c7b5b587",
       "version_major": 2,
       "version_minor": 0
      },
      "text/plain": [
       "Pontos de Alagamento:   0%|          | 0/9 [00:00<?, ?it/s]"
      ]
     },
     "metadata": {},
     "output_type": "display_data"
    },
    {
     "data": {
      "application/vnd.jupyter.widget-view+json": {
       "model_id": "ff43d2583c104b27aca2a750d93909ca",
       "version_major": 2,
       "version_minor": 0
      },
      "text/plain": [
       "Pontos de Alagamento:   0%|          | 0/5 [00:00<?, ?it/s]"
      ]
     },
     "metadata": {},
     "output_type": "display_data"
    },
    {
     "data": {
      "application/vnd.jupyter.widget-view+json": {
       "model_id": "5e41b9de02e641819ee2a21b8f049e7e",
       "version_major": 2,
       "version_minor": 0
      },
      "text/plain": [
       "Pontos de Alagamento:   0%|          | 0/7 [00:00<?, ?it/s]"
      ]
     },
     "metadata": {},
     "output_type": "display_data"
    },
    {
     "data": {
      "application/vnd.jupyter.widget-view+json": {
       "model_id": "bdeba02439e1400781efafcbfeab7330",
       "version_major": 2,
       "version_minor": 0
      },
      "text/plain": [
       "Pontos de Alagamento:   0%|          | 0/2 [00:00<?, ?it/s]"
      ]
     },
     "metadata": {},
     "output_type": "display_data"
    },
    {
     "data": {
      "application/vnd.jupyter.widget-view+json": {
       "model_id": "c9cf97aeee624eb8b948de02b8691470",
       "version_major": 2,
       "version_minor": 0
      },
      "text/plain": [
       "Pontos de Alagamento:   0%|          | 0/2 [00:00<?, ?it/s]"
      ]
     },
     "metadata": {},
     "output_type": "display_data"
    },
    {
     "data": {
      "application/vnd.jupyter.widget-view+json": {
       "model_id": "72a55233cfef443081a509da422644a6",
       "version_major": 2,
       "version_minor": 0
      },
      "text/plain": [
       "Pontos de Alagamento:   0%|          | 0/1 [00:00<?, ?it/s]"
      ]
     },
     "metadata": {},
     "output_type": "display_data"
    },
    {
     "data": {
      "application/vnd.jupyter.widget-view+json": {
       "model_id": "b568a8a5eea14665bd99f6680951b8ab",
       "version_major": 2,
       "version_minor": 0
      },
      "text/plain": [
       "Pontos de Alagamento:   0%|          | 0/7 [00:00<?, ?it/s]"
      ]
     },
     "metadata": {},
     "output_type": "display_data"
    },
    {
     "data": {
      "application/vnd.jupyter.widget-view+json": {
       "model_id": "9763c9709d9e4cde82a476b431774c56",
       "version_major": 2,
       "version_minor": 0
      },
      "text/plain": [
       "Pontos de Alagamento:   0%|          | 0/13 [00:00<?, ?it/s]"
      ]
     },
     "metadata": {},
     "output_type": "display_data"
    },
    {
     "data": {
      "text/html": [
       "<div>\n",
       "<style scoped>\n",
       "    .dataframe tbody tr th:only-of-type {\n",
       "        vertical-align: middle;\n",
       "    }\n",
       "\n",
       "    .dataframe tbody tr th {\n",
       "        vertical-align: top;\n",
       "    }\n",
       "\n",
       "    .dataframe thead th {\n",
       "        text-align: right;\n",
       "    }\n",
       "</style>\n",
       "<table border=\"1\" class=\"dataframe\">\n",
       "  <thead>\n",
       "    <tr style=\"text-align: right;\">\n",
       "      <th></th>\n",
       "      <th>Data</th>\n",
       "      <th>Alagamento</th>\n",
       "      <th>Bairro</th>\n",
       "      <th>Tipo</th>\n",
       "      <th>Horário Inicial</th>\n",
       "      <th>Horário Final</th>\n",
       "      <th>Endereço</th>\n",
       "      <th>Sentido</th>\n",
       "      <th>Referência</th>\n",
       "    </tr>\n",
       "  </thead>\n",
       "  <tbody>\n",
       "    <tr>\n",
       "      <th>0</th>\n",
       "      <td>2017-01-01</td>\n",
       "      <td>0</td>\n",
       "      <td>0</td>\n",
       "      <td>0</td>\n",
       "      <td>0</td>\n",
       "      <td>0</td>\n",
       "      <td>0</td>\n",
       "      <td>0</td>\n",
       "      <td>0</td>\n",
       "    </tr>\n",
       "    <tr>\n",
       "      <th>1</th>\n",
       "      <td>2017-01-02</td>\n",
       "      <td>1</td>\n",
       "      <td>Vila Maria/ Vila Guilherme</td>\n",
       "      <td>Inativo Transitável</td>\n",
       "      <td>18:27</td>\n",
       "      <td>19:16</td>\n",
       "      <td>MARGINAL TIETE ASCB EXPRESSA</td>\n",
       "      <td>A SENNA/CASTELO B</td>\n",
       "      <td>PTE DA VILA GUILHERME</td>\n",
       "    </tr>\n",
       "    <tr>\n",
       "      <th>2</th>\n",
       "      <td>2017-01-02</td>\n",
       "      <td>1</td>\n",
       "      <td>Vila Maria/ Vila Guilherme</td>\n",
       "      <td>Inativo Transitável</td>\n",
       "      <td>18:36</td>\n",
       "      <td>19:01</td>\n",
       "      <td>AV MORVAN DIAS DE FIGUEIREDO</td>\n",
       "      <td>A SENNA/CASTELO B</td>\n",
       "      <td>R DA COROA</td>\n",
       "    </tr>\n",
       "    <tr>\n",
       "      <th>3</th>\n",
       "      <td>2017-01-02</td>\n",
       "      <td>1</td>\n",
       "      <td>Itaquera</td>\n",
       "      <td>Inativo Transitável</td>\n",
       "      <td>18:43</td>\n",
       "      <td>19:18</td>\n",
       "      <td>:43 a 19:18AV JACU-PESSEGO N TRABALHADORES</td>\n",
       "      <td>MAUA/A SENNA</td>\n",
       "      <td>R MONTANHAS</td>\n",
       "    </tr>\n",
       "    <tr>\n",
       "      <th>4</th>\n",
       "      <td>2017-01-02</td>\n",
       "      <td>1</td>\n",
       "      <td>Mooca</td>\n",
       "      <td>Inativo Transitável</td>\n",
       "      <td>18:56</td>\n",
       "      <td>19:01</td>\n",
       "      <td>AV CELSO GARCIA,</td>\n",
       "      <td>CENTRO/BAIRRO</td>\n",
       "      <td>AV ALVARO RAMOS</td>\n",
       "    </tr>\n",
       "    <tr>\n",
       "      <th>...</th>\n",
       "      <td>...</td>\n",
       "      <td>...</td>\n",
       "      <td>...</td>\n",
       "      <td>...</td>\n",
       "      <td>...</td>\n",
       "      <td>...</td>\n",
       "      <td>...</td>\n",
       "      <td>...</td>\n",
       "      <td>...</td>\n",
       "    </tr>\n",
       "    <tr>\n",
       "      <th>117</th>\n",
       "      <td>2017-01-16</td>\n",
       "      <td>1</td>\n",
       "      <td>Santo Amaro</td>\n",
       "      <td>Inativo Intransitável</td>\n",
       "      <td>22:51</td>\n",
       "      <td>23:00</td>\n",
       "      <td>AV DAS NACOES UNIDAS</td>\n",
       "      <td>INTERLAGOS/CASTELO</td>\n",
       "      <td>R PROF CAMPOS DE OLIVEIRA</td>\n",
       "    </tr>\n",
       "    <tr>\n",
       "      <th>118</th>\n",
       "      <td>2017-01-16</td>\n",
       "      <td>1</td>\n",
       "      <td>Santo Amaro</td>\n",
       "      <td>Inativo Transitável</td>\n",
       "      <td>22:53</td>\n",
       "      <td>02:48</td>\n",
       "      <td>AV VITOR MANZINI</td>\n",
       "      <td>CENTRO/BAIRRO</td>\n",
       "      <td>ALTURA DO NÚMERO 260</td>\n",
       "    </tr>\n",
       "    <tr>\n",
       "      <th>119</th>\n",
       "      <td>2017-01-16</td>\n",
       "      <td>1</td>\n",
       "      <td>Santo Amaro</td>\n",
       "      <td>Inativo Intransitável</td>\n",
       "      <td>23:33</td>\n",
       "      <td>01:19</td>\n",
       "      <td>AV STO AMARO</td>\n",
       "      <td>BAIRRO/CENTRO - ÚNICA</td>\n",
       "      <td>AV ROQUE PETRONI JUNIOR</td>\n",
       "    </tr>\n",
       "    <tr>\n",
       "      <th>120</th>\n",
       "      <td>2017-01-16</td>\n",
       "      <td>1</td>\n",
       "      <td>Ipiranga</td>\n",
       "      <td>Inativo Intransitável</td>\n",
       "      <td>23:40</td>\n",
       "      <td>00:46</td>\n",
       "      <td>AV PROF ABRAAO DE MORAIS,</td>\n",
       "      <td>ÚNICA</td>\n",
       "      <td>R RIBEIRO LACERDA</td>\n",
       "    </tr>\n",
       "    <tr>\n",
       "      <th>121</th>\n",
       "      <td>2017-01-16</td>\n",
       "      <td>1</td>\n",
       "      <td>Vila Mariana</td>\n",
       "      <td>Inativo Intransitável</td>\n",
       "      <td>23:29</td>\n",
       "      <td>00:34</td>\n",
       "      <td>R VERGUEIRO</td>\n",
       "      <td>ÚNICA</td>\n",
       "      <td>AV DR RICARDO JAFET</td>\n",
       "    </tr>\n",
       "  </tbody>\n",
       "</table>\n",
       "<p>122 rows × 9 columns</p>\n",
       "</div>"
      ],
      "text/plain": [
       "           Data Alagamento                      Bairro                   Tipo  \\\n",
       "0    2017-01-01          0                           0                      0   \n",
       "1    2017-01-02          1  Vila Maria/ Vila Guilherme    Inativo Transitável   \n",
       "2    2017-01-02          1  Vila Maria/ Vila Guilherme    Inativo Transitável   \n",
       "3    2017-01-02          1                    Itaquera    Inativo Transitável   \n",
       "4    2017-01-02          1                       Mooca    Inativo Transitável   \n",
       "..          ...        ...                         ...                    ...   \n",
       "117  2017-01-16          1                 Santo Amaro  Inativo Intransitável   \n",
       "118  2017-01-16          1                 Santo Amaro    Inativo Transitável   \n",
       "119  2017-01-16          1                 Santo Amaro  Inativo Intransitável   \n",
       "120  2017-01-16          1                    Ipiranga  Inativo Intransitável   \n",
       "121  2017-01-16          1                Vila Mariana  Inativo Intransitável   \n",
       "\n",
       "    Horário Inicial Horário Final                                    Endereço  \\\n",
       "0                 0             0                                           0   \n",
       "1             18:27         19:16                MARGINAL TIETE ASCB EXPRESSA   \n",
       "2             18:36         19:01                AV MORVAN DIAS DE FIGUEIREDO   \n",
       "3             18:43         19:18  :43 a 19:18AV JACU-PESSEGO N TRABALHADORES   \n",
       "4             18:56         19:01                            AV CELSO GARCIA,   \n",
       "..              ...           ...                                         ...   \n",
       "117           22:51         23:00                        AV DAS NACOES UNIDAS   \n",
       "118           22:53         02:48                            AV VITOR MANZINI   \n",
       "119           23:33         01:19                                AV STO AMARO   \n",
       "120           23:40         00:46                   AV PROF ABRAAO DE MORAIS,   \n",
       "121           23:29         00:34                                 R VERGUEIRO   \n",
       "\n",
       "                    Sentido                  Referência  \n",
       "0                         0                           0  \n",
       "1         A SENNA/CASTELO B       PTE DA VILA GUILHERME  \n",
       "2         A SENNA/CASTELO B                  R DA COROA  \n",
       "3              MAUA/A SENNA                 R MONTANHAS  \n",
       "4             CENTRO/BAIRRO             AV ALVARO RAMOS  \n",
       "..                      ...                         ...  \n",
       "117      INTERLAGOS/CASTELO   R PROF CAMPOS DE OLIVEIRA  \n",
       "118           CENTRO/BAIRRO        ALTURA DO NÚMERO 260  \n",
       "119   BAIRRO/CENTRO - ÚNICA     AV ROQUE PETRONI JUNIOR  \n",
       "120                   ÚNICA           R RIBEIRO LACERDA  \n",
       "121                   ÚNICA         AV DR RICARDO JAFET  \n",
       "\n",
       "[122 rows x 9 columns]"
      ]
     },
     "execution_count": 92,
     "metadata": {},
     "output_type": "execute_result"
    }
   ],
   "source": [
    "# Cria dataframe para receber o conteúdo\n",
    "Campos = ['Data',\n",
    "           'Alagamento',\n",
    "           'Bairro',\n",
    "           'Tipo',\n",
    "           'Horário Inicial',\n",
    "           'Horário Final',\n",
    "           'Endereço',\n",
    "           'Sentido',\n",
    "           'Referência'\n",
    "           ]\n",
    "df = pd.DataFrame(columns=Campos)\n",
    "\n",
    "# Montagem dinâmica das datas a serem varridas:\n",
    "start = date(2017, 1, 1)\n",
    "end = date(2017, 1, 17)\n",
    "\n",
    "# Datas com problemas\n",
    "# 13/01/2019\n",
    "# 15/11/2019\n",
    "# 22/06/2021\n",
    "# 29/10/2022\n",
    "# 12/03/2023\n",
    "# 17/01/2017\n",
    "\n",
    "# Quando a função estiver totalmente funcional\n",
    "# end = date.today()\n",
    "data_pesquisada = start\n",
    "dia = timedelta(days=1)\n",
    "\n",
    "index= 0\n",
    "\n",
    "# Inicia o preenchimento do dataframe\n",
    "while data_pesquisada < end:\n",
    "    data_formatada = data_pesquisada.strftime('%d')+'%2F'+data_pesquisada.strftime('%m')+'%2F'+data_pesquisada.strftime('%Y')\n",
    "    URL_pesquisada = 'https://www.cgesp.org/v3/alagamentos.jsp?dataBusca='+data_formatada+'&enviaBusca=Buscar'\n",
    "    #print(URL_pesquisada)\n",
    "\n",
    "    # Faz a requisição para a página\n",
    "    try:\n",
    "        response = requests.get(URL_pesquisada)\n",
    "    except requests.exceptions.Timeout:\n",
    "        print('Timeout informado pelo sistema')\n",
    "    except requests.exceptions.TooManyRedirects:\n",
    "        print('Problema na formação da URL. Favor tentar com outra')\n",
    "    except requests.exceptions.RequestException as e:\n",
    "        print('Erro catastrófico')\n",
    "        raise SystemExit(e)\n",
    "\n",
    "    # Analisa o HTML da página com o BeautifulSoup\n",
    "    soup = BeautifulSoup(response.content, 'html.parser')\n",
    "        \n",
    "    if (houve_alag(soup)==0):\n",
    "        #print(f\"Em {data_pesquisada} não houve registros de alagamentos.\")\n",
    "        df.at[index,'Data'] =  data_pesquisada\n",
    "        df.at[index,'Alagamento'] = 0\n",
    "        df.at[index,'Bairro'] = 0\n",
    "        df.at[index,'Tipo'] = 0\n",
    "        df.at[index,'Horário Inicial'] = 0\n",
    "        df.at[index,'Horário Final'] = 0\n",
    "        df.at[index,'Endereço'] = 0\n",
    "        df.at[index,'Sentido'] = 0\n",
    "        df.at[index,'Referência'] = 0\n",
    "        index = index +1 \n",
    "    else:\n",
    "        index_linhas = 0\n",
    "        for pontos in tqdm(soup.find_all('td', {'class':'total-pts arial-bairros-alag'}), desc='Pontos de Alagamento'):\n",
    "            texto = pontos.string\n",
    "            no_alag = int(texto[0:texto.find('pt')-1])\n",
    "            #print(f'Data: {data_pesquisada}, No. alagamentos: {no_alag}')\n",
    "\n",
    "            linhas = soup.find_all('div',{'class':'ponto-de-alagamento'})\n",
    "            \n",
    "\n",
    "            # Vamos iterar sobre a quantidade de pontos de alagamento\n",
    "            for pt_alag in range(no_alag):\n",
    "            \n",
    "                df.at[index,'Data'] =  data_pesquisada\n",
    "                df.at[index,'Alagamento'] = 1\n",
    "\n",
    "                pai = pontos.parent\n",
    "            \n",
    "                df.at[index,'Bairro'] = pai.find('td',{'class':'bairro arial-bairros-alag linha-pontilhada'}).text.strip()\n",
    "                df.at[index,'Tipo'] = linhas[index_linhas].find('li')['title']\n",
    "            \n",
    "                #'Horário Inicial',\n",
    "                texto1 = linhas[index_linhas].find('li', {'class':'arial-descr-alag col-local'}).text\n",
    "                horas =re.findall('(?:(\\d\\d?):)?([0-5][0-9])',texto1)\n",
    "                df.at[index,'Horário Inicial'] = str(horas[0][0])+':'+str(horas[0][1])\n",
    "                \n",
    "                #'Horário Final'\n",
    "                df.at[index,'Horário Final'] = str(horas[1][0])+':'+str(horas[1][1])\n",
    "\n",
    "                # Endereço\n",
    "                df.at[index,'Endereço'] = texto1[texto1.find(horas[1][1])+2:len(texto1)]\n",
    "\n",
    "                #'Sentido',\n",
    "                texto2 = linhas[index_linhas].find_all('li', {'class':'arial-descr-alag'})\n",
    "                info = texto2[1].get_text()\n",
    "                df.at[index,'Sentido'] = info[8:info.find('Ref')]\n",
    "\n",
    "                #'Referência'\n",
    "                df.at[index,'Referência'] = info[info.find('Ref')+11:len(info)]\n",
    "            \n",
    "                index = index +1 \n",
    "                index_linhas = index_linhas +1\n",
    "    data_pesquisada = data_pesquisada + dia\n",
    "    time.sleep(1)\n",
    "df"
   ]
  },
  {
   "cell_type": "code",
   "execution_count": 91,
   "metadata": {},
   "outputs": [
    {
     "data": {
      "text/plain": [
       "datetime.date(2017, 1, 17)"
      ]
     },
     "execution_count": 91,
     "metadata": {},
     "output_type": "execute_result"
    }
   ],
   "source": [
    "data_pesquisada"
   ]
  },
  {
   "cell_type": "code",
   "execution_count": 94,
   "metadata": {},
   "outputs": [],
   "source": [
    "df.to_csv('Alagamentos_SP.csv', encoding='utf-8-sig')"
   ]
  }
 ],
 "metadata": {
  "kernelspec": {
   "display_name": "Python 3",
   "language": "python",
   "name": "python3"
  },
  "language_info": {
   "codemirror_mode": {
    "name": "ipython",
    "version": 3
   },
   "file_extension": ".py",
   "mimetype": "text/x-python",
   "name": "python",
   "nbconvert_exporter": "python",
   "pygments_lexer": "ipython3",
   "version": "3.9.16"
  },
  "orig_nbformat": 4,
  "vscode": {
   "interpreter": {
    "hash": "ac2eaa0ea0ebeafcc7822e65e46aa9d4f966f30b695406963e145ea4a91cd4fc"
   }
  }
 },
 "nbformat": 4,
 "nbformat_minor": 2
}
