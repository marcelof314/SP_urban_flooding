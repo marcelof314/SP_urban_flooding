{
 "cells": [
  {
   "cell_type": "code",
   "execution_count": null,
   "id": "initial_id",
   "metadata": {
    "collapsed": true
   },
   "outputs": [],
   "source": [
    ""
   ]
  },
  {
   "metadata": {},
   "cell_type": "markdown",
   "source": "### Bibliotecas",
   "id": "89d89f4728ad38aa"
  },
  {
   "metadata": {
    "ExecuteTime": {
     "end_time": "2024-10-06T23:56:11.062731Z",
     "start_time": "2024-10-06T23:56:09.856085Z"
    }
   },
   "cell_type": "code",
   "source": [
    "import pandas as pd\n",
    "import geopandas as gpd"
   ],
   "id": "89dd8b28a66bacd2",
   "outputs": [],
   "execution_count": 3
  },
  {
   "metadata": {},
   "cell_type": "markdown",
   "source": "### Localização dos arquivos",
   "id": "a470c1d090316e85"
  },
  {
   "metadata": {
    "ExecuteTime": {
     "end_time": "2024-10-06T23:55:58.916095Z",
     "start_time": "2024-10-06T23:55:58.912358Z"
    }
   },
   "cell_type": "code",
   "source": [
    "arquivo_cge = '/Users/marcelofernandes/Library/CloudStorage/GoogleDrive-marcelo.fernandes@alumni.usp.br/.shortcut-targets-by-id/1M--OnzbTYagrNv5Ss9fjWlBxCMmasz-Y/10_Mestrado_2021_Marcelo Fernandes/8_Dados/Alagamentos_CGESP/Alagamentos_SP_2013.csv'\n",
    "\n",
    "arquivo_incidentes = '/Users/marcelofernandes/Library/CloudStorage/GoogleDrive-marcelo.fernandes@alumni.usp.br/.shortcut-targets-by-id/1M--OnzbTYagrNv5Ss9fjWlBxCMmasz-Y/10_Mestrado_2021_Marcelo Fernandes/8_Dados/SIRGAS_SHP_riscoocorrencia/SIRGAS_SHP_riscoocorrencia_2013.shp'"
   ],
   "id": "bb94d0041bc21c31",
   "outputs": [],
   "execution_count": 2
  },
  {
   "metadata": {},
   "cell_type": "markdown",
   "source": "### Carregamento e validações dos incidentes do Geosampa",
   "id": "9a8816eb449b3e98"
  },
  {
   "metadata": {
    "ExecuteTime": {
     "end_time": "2024-10-06T23:56:47.610920Z",
     "start_time": "2024-10-06T23:56:47.558871Z"
    }
   },
   "cell_type": "code",
   "source": "gdf_incidentes = gpd.read_file(arquivo_incidentes)",
   "id": "94ff14a64f8bd16b",
   "outputs": [],
   "execution_count": null
  },
  {
   "metadata": {
    "ExecuteTime": {
     "end_time": "2024-10-07T00:22:19.328175Z",
     "start_time": "2024-10-07T00:22:19.315482Z"
    }
   },
   "cell_type": "code",
   "source": "print(gdf_incidentes['ocorrencia'].unique())",
   "id": "fbc450851e0ff10b",
   "outputs": [
    {
     "name": "stdout",
     "output_type": "stream",
     "text": [
      "['QUEDA DE ARVORE' 'ALAGAMENTO' 'INUNDACAO' 'DESLIZAMENTO']\n",
      "<class 'geopandas.geodataframe.GeoDataFrame'>\n",
      "RangeIndex: 2614 entries, 0 to 2613\n",
      "Data columns (total 6 columns):\n",
      " #   Column           Non-Null Count  Dtype         \n",
      "---  ------           --------------  -----         \n",
      " 0   data             2614 non-null   datetime64[ms]\n",
      " 1   ocorrencia       2614 non-null   object        \n",
      " 2   subprefeit       2614 non-null   object        \n",
      " 3   name             2614 non-null   object        \n",
      " 4   geometry         2614 non-null   geometry      \n",
      " 5   Correspondencia  2614 non-null   bool          \n",
      "dtypes: bool(1), datetime64[ms](1), geometry(1), object(3)\n",
      "memory usage: 104.8+ KB\n"
     ]
    }
   ],
   "execution_count": 36
  },
  {
   "metadata": {
    "ExecuteTime": {
     "end_time": "2024-10-07T00:24:40.058100Z",
     "start_time": "2024-10-07T00:24:40.048643Z"
    }
   },
   "cell_type": "code",
   "source": [
    "# Lista de valores que você deseja excluir\n",
    "valores_excluir = ['QUEDA DE ARVORE', 'DESLIZAMENTO']\n",
    "\n",
    "# Excluir os valores indesejados diretamente no próprio gdf\n",
    "gdf_incidentes = gdf_incidentes[~gdf_incidentes['ocorrencia'].isin(valores_excluir)]\n",
    "\n",
    "# Verifique o resultado\n",
    "print(gdf_incidentes)"
   ],
   "id": "93cb50d656f9ccce",
   "outputs": [
    {
     "name": "stdout",
     "output_type": "stream",
     "text": [
      "           data  ocorrencia               subprefeit   name  \\\n",
      "2    2013-12-10  ALAGAMENTO         SA - SANTO AMARO  45361   \n",
      "15   2013-12-25  ALAGAMENTO                  SE - SE  46709   \n",
      "17   2013-12-26   INUNDACAO  EM - ERMELINO MATARAZZO  46740   \n",
      "18   2013-12-26   INUNDACAO  EM - ERMELINO MATARAZZO  46737   \n",
      "19   2013-12-26   INUNDACAO  EM - ERMELINO MATARAZZO  46738   \n",
      "...         ...         ...                      ...    ...   \n",
      "2594 2013-10-15  ALAGAMENTO                  SE - SE  39375   \n",
      "2597 2013-10-15  ALAGAMENTO  AF - ARICANDUVA/FORMOSA  39388   \n",
      "2603 2013-11-06  ALAGAMENTO         SA - SANTO AMARO  41926   \n",
      "2610 2013-12-25  ALAGAMENTO                LA - LAPA  46724   \n",
      "2611 2013-12-25  ALAGAMENTO                LA - LAPA  46705   \n",
      "\n",
      "                                geometry  Correspondencia  \n",
      "2      POINT Z (325784.879 7383070.03 0)             True  \n",
      "15    POINT Z (332700.975 7394728.537 0)             True  \n",
      "17    POINT Z (349044.816 7401930.694 0)            False  \n",
      "18     POINT Z (349027.883 7401918.56 0)            False  \n",
      "19     POINT Z (349027.883 7401918.56 0)            False  \n",
      "...                                  ...              ...  \n",
      "2594  POINT Z (331355.326 7393868.645 0)             True  \n",
      "2597       POINT Z (341825.07 7396372 0)             True  \n",
      "2603  POINT Z (326810.809 7382519.539 0)             True  \n",
      "2610   POINT Z (330566.92 7398268.541 0)             True  \n",
      "2611  POINT Z (328315.038 7397286.739 0)             True  \n",
      "\n",
      "[759 rows x 6 columns]\n"
     ]
    }
   ],
   "execution_count": 38
  },
  {
   "metadata": {
    "ExecuteTime": {
     "end_time": "2024-10-07T00:28:07.154628Z",
     "start_time": "2024-10-07T00:28:07.113303Z"
    }
   },
   "cell_type": "code",
   "source": "gdf_incidentes.info()",
   "id": "fdc2202603539c80",
   "outputs": [
    {
     "name": "stdout",
     "output_type": "stream",
     "text": [
      "<class 'geopandas.geodataframe.GeoDataFrame'>\n",
      "Index: 759 entries, 2 to 2611\n",
      "Data columns (total 6 columns):\n",
      " #   Column           Non-Null Count  Dtype         \n",
      "---  ------           --------------  -----         \n",
      " 0   data             759 non-null    datetime64[ms]\n",
      " 1   ocorrencia       759 non-null    object        \n",
      " 2   subprefeit       759 non-null    object        \n",
      " 3   name             759 non-null    object        \n",
      " 4   geometry         759 non-null    geometry      \n",
      " 5   Correspondencia  759 non-null    bool          \n",
      "dtypes: bool(1), datetime64[ms](1), geometry(1), object(3)\n",
      "memory usage: 36.3+ KB\n"
     ]
    }
   ],
   "execution_count": 44
  },
  {
   "metadata": {},
   "cell_type": "markdown",
   "source": "### Carregamento e validações dos dados de alagamento do CGE-SP",
   "id": "d758be3e3c9d25bb"
  },
  {
   "metadata": {
    "ExecuteTime": {
     "end_time": "2024-10-07T00:12:57.204533Z",
     "start_time": "2024-10-07T00:12:57.193826Z"
    }
   },
   "cell_type": "code",
   "source": [
    "df_cge = pd.read_csv(arquivo_cge, sep=';')\n",
    "formato_data = '%d/%m/%y'\n",
    "df_cge['Data']= pd.to_datetime(df_cge['Data'], format=formato_data)"
   ],
   "id": "820ef43786a199d9",
   "outputs": [],
   "execution_count": 23
  },
  {
   "metadata": {
    "ExecuteTime": {
     "end_time": "2024-10-07T00:25:10.774598Z",
     "start_time": "2024-10-07T00:25:10.763913Z"
    }
   },
   "cell_type": "code",
   "source": "df_cge.head()",
   "id": "ffcb802ee4568df0",
   "outputs": [
    {
     "data": {
      "text/plain": [
       "   Unnamed: 0       Data  Alagamento Bairro                 Tipo  \\\n",
       "0           0 2013-01-08           1     Sé  Inativo Transitável   \n",
       "1           1 2013-01-08           1     Sé  Inativo Transitável   \n",
       "2           2 2013-01-08           1     Sé  Inativo Transitável   \n",
       "3           3 2013-01-08           1     Sé  Inativo Transitável   \n",
       "4           4 2013-01-08           1     Sé  Inativo Transitável   \n",
       "\n",
       "  Horário Inicial Horário Final                          Endereço Sentido  \\\n",
       "0           19:16         22:36  VEL PRES ARTHUR DA COSTA E SILVA   AMBOS   \n",
       "1           19:19         21:01  VEL PRES ARTHUR DA COSTA E SILVA   AMBOS   \n",
       "2           19:27         20:29                   PÇ. DA BANDEIRA     C/B   \n",
       "3           19:32         22:36  VEL PRES ARTHUR DA COSTA E SILVA   LA/PE   \n",
       "4           20:01         22:28                  AV NOVE DE JULHO     B/C   \n",
       "\n",
       "                    Referência  \n",
       "0   AV GAL OLIMPIO DA SILVEIRA  \n",
       "1                     AL GLETE  \n",
       "2              RUA SANTO AMARO  \n",
       "3            ALTURA DO N. 2001  \n",
       "4        VD DR EUSEBIO STEVAUX  "
      ],
      "text/html": [
       "<div>\n",
       "<style scoped>\n",
       "    .dataframe tbody tr th:only-of-type {\n",
       "        vertical-align: middle;\n",
       "    }\n",
       "\n",
       "    .dataframe tbody tr th {\n",
       "        vertical-align: top;\n",
       "    }\n",
       "\n",
       "    .dataframe thead th {\n",
       "        text-align: right;\n",
       "    }\n",
       "</style>\n",
       "<table border=\"1\" class=\"dataframe\">\n",
       "  <thead>\n",
       "    <tr style=\"text-align: right;\">\n",
       "      <th></th>\n",
       "      <th>Unnamed: 0</th>\n",
       "      <th>Data</th>\n",
       "      <th>Alagamento</th>\n",
       "      <th>Bairro</th>\n",
       "      <th>Tipo</th>\n",
       "      <th>Horário Inicial</th>\n",
       "      <th>Horário Final</th>\n",
       "      <th>Endereço</th>\n",
       "      <th>Sentido</th>\n",
       "      <th>Referência</th>\n",
       "    </tr>\n",
       "  </thead>\n",
       "  <tbody>\n",
       "    <tr>\n",
       "      <th>0</th>\n",
       "      <td>0</td>\n",
       "      <td>2013-01-08</td>\n",
       "      <td>1</td>\n",
       "      <td>Sé</td>\n",
       "      <td>Inativo Transitável</td>\n",
       "      <td>19:16</td>\n",
       "      <td>22:36</td>\n",
       "      <td>VEL PRES ARTHUR DA COSTA E SILVA</td>\n",
       "      <td>AMBOS</td>\n",
       "      <td>AV GAL OLIMPIO DA SILVEIRA</td>\n",
       "    </tr>\n",
       "    <tr>\n",
       "      <th>1</th>\n",
       "      <td>1</td>\n",
       "      <td>2013-01-08</td>\n",
       "      <td>1</td>\n",
       "      <td>Sé</td>\n",
       "      <td>Inativo Transitável</td>\n",
       "      <td>19:19</td>\n",
       "      <td>21:01</td>\n",
       "      <td>VEL PRES ARTHUR DA COSTA E SILVA</td>\n",
       "      <td>AMBOS</td>\n",
       "      <td>AL GLETE</td>\n",
       "    </tr>\n",
       "    <tr>\n",
       "      <th>2</th>\n",
       "      <td>2</td>\n",
       "      <td>2013-01-08</td>\n",
       "      <td>1</td>\n",
       "      <td>Sé</td>\n",
       "      <td>Inativo Transitável</td>\n",
       "      <td>19:27</td>\n",
       "      <td>20:29</td>\n",
       "      <td>PÇ. DA BANDEIRA</td>\n",
       "      <td>C/B</td>\n",
       "      <td>RUA SANTO AMARO</td>\n",
       "    </tr>\n",
       "    <tr>\n",
       "      <th>3</th>\n",
       "      <td>3</td>\n",
       "      <td>2013-01-08</td>\n",
       "      <td>1</td>\n",
       "      <td>Sé</td>\n",
       "      <td>Inativo Transitável</td>\n",
       "      <td>19:32</td>\n",
       "      <td>22:36</td>\n",
       "      <td>VEL PRES ARTHUR DA COSTA E SILVA</td>\n",
       "      <td>LA/PE</td>\n",
       "      <td>ALTURA DO N. 2001</td>\n",
       "    </tr>\n",
       "    <tr>\n",
       "      <th>4</th>\n",
       "      <td>4</td>\n",
       "      <td>2013-01-08</td>\n",
       "      <td>1</td>\n",
       "      <td>Sé</td>\n",
       "      <td>Inativo Transitável</td>\n",
       "      <td>20:01</td>\n",
       "      <td>22:28</td>\n",
       "      <td>AV NOVE DE JULHO</td>\n",
       "      <td>B/C</td>\n",
       "      <td>VD DR EUSEBIO STEVAUX</td>\n",
       "    </tr>\n",
       "  </tbody>\n",
       "</table>\n",
       "</div>"
      ]
     },
     "execution_count": 39,
     "metadata": {},
     "output_type": "execute_result"
    }
   ],
   "execution_count": 39
  },
  {
   "metadata": {
    "ExecuteTime": {
     "end_time": "2024-10-07T00:13:03.987538Z",
     "start_time": "2024-10-07T00:13:03.979359Z"
    }
   },
   "cell_type": "code",
   "source": "df_cge.info()",
   "id": "81b38a9517f6ee54",
   "outputs": [
    {
     "name": "stdout",
     "output_type": "stream",
     "text": [
      "<class 'pandas.core.frame.DataFrame'>\n",
      "RangeIndex: 752 entries, 0 to 751\n",
      "Data columns (total 10 columns):\n",
      " #   Column           Non-Null Count  Dtype         \n",
      "---  ------           --------------  -----         \n",
      " 0   Unnamed: 0       752 non-null    int64         \n",
      " 1   Data             752 non-null    datetime64[ns]\n",
      " 2   Alagamento       752 non-null    int64         \n",
      " 3   Bairro           752 non-null    object        \n",
      " 4   Tipo             752 non-null    object        \n",
      " 5   Horário Inicial  752 non-null    object        \n",
      " 6   Horário Final    744 non-null    object        \n",
      " 7   Endereço         752 non-null    object        \n",
      " 8   Sentido          752 non-null    object        \n",
      " 9   Referência       752 non-null    object        \n",
      "dtypes: datetime64[ns](1), int64(2), object(7)\n",
      "memory usage: 58.9+ KB\n"
     ]
    }
   ],
   "execution_count": 25
  },
  {
   "metadata": {},
   "cell_type": "markdown",
   "source": "### Validações cruzadas entre GeoSampa e CGE-SP",
   "id": "e7982b28653a9436"
  },
  {
   "metadata": {
    "ExecuteTime": {
     "end_time": "2024-10-07T00:25:28.292397Z",
     "start_time": "2024-10-07T00:25:28.288456Z"
    }
   },
   "cell_type": "code",
   "source": [
    "datas_geosampa = gdf_incidentes['data']\n",
    "datas_cge = df_cge['Data']"
   ],
   "id": "869c24da54b8835e",
   "outputs": [],
   "execution_count": 40
  },
  {
   "metadata": {
    "ExecuteTime": {
     "end_time": "2024-10-07T00:25:31.105779Z",
     "start_time": "2024-10-07T00:25:31.094181Z"
    }
   },
   "cell_type": "code",
   "source": [
    "# Verificamos se todas as datas do gdf têm correspondência no df\n",
    "gdf_incidentes['Correspondencia'] = gdf_incidentes['data'].isin(datas_cge)\n",
    "\n",
    "# Exibe as linhas do gdf que NÃO têm correspondência no df\n",
    "gdf_sem_correspondencia = gdf_incidentes[gdf_incidentes['Correspondencia'] == False]\n",
    "\n",
    "# Exibe os resultados\n",
    "print(gdf_sem_correspondencia)"
   ],
   "id": "3916498481231225",
   "outputs": [
    {
     "name": "stdout",
     "output_type": "stream",
     "text": [
      "           data  ocorrencia                subprefeit   name  \\\n",
      "17   2013-12-26   INUNDACAO   EM - ERMELINO MATARAZZO  46740   \n",
      "18   2013-12-26   INUNDACAO   EM - ERMELINO MATARAZZO  46737   \n",
      "19   2013-12-26   INUNDACAO   EM - ERMELINO MATARAZZO  46738   \n",
      "243  2013-11-07  ALAGAMENTO                   SE - SE  41966   \n",
      "373  2013-10-17  ALAGAMENTO             IP - IPIRANGA  39696   \n",
      "376  2013-10-17  ALAGAMENTO                   SE - SE  39748   \n",
      "549  2013-08-06  ALAGAMENTO    CS - CAPELA DO SOCORRO  33295   \n",
      "732  2013-06-03  ALAGAMENTO    CS - CAPELA DO SOCORRO  27964   \n",
      "813  2013-04-15   INUNDACAO    CS - CAPELA DO SOCORRO  24449   \n",
      "838  2013-04-16   INUNDACAO    CS - CAPELA DO SOCORRO  24600   \n",
      "914  2013-02-05  ALAGAMENTO          SA - SANTO AMARO  16196   \n",
      "1317 2013-02-17   INUNDACAO                PR - PERUS  17642   \n",
      "1325 2013-02-17   INUNDACAO     PJ - PIRITUBA/JARAGUA  17633   \n",
      "1812 2013-01-24  ALAGAMENTO                   SE - SE  15073   \n",
      "1815 2013-01-23  ALAGAMENTO      JT - JACANA/TREMEMBE  14998   \n",
      "1851 2013-01-17   INUNDACAO  MP - SAO MIGUEL PAULISTA  14324   \n",
      "1906 2013-01-11  ALAGAMENTO             IP - IPIRANGA  13669   \n",
      "1941 2013-01-01  ALAGAMENTO            PI - PINHEIROS   8324   \n",
      "1978 2013-01-07  ALAGAMENTO            G - GUAIANASES  13525   \n",
      "2092 2013-01-11  ALAGAMENTO             IP - IPIRANGA  13675   \n",
      "2093 2013-01-11  ALAGAMENTO             IP - IPIRANGA  13672   \n",
      "2094 2013-01-11  ALAGAMENTO             IP - IPIRANGA  13674   \n",
      "2095 2013-01-11  ALAGAMENTO             IP - IPIRANGA  13676   \n",
      "2097 2013-01-11  ALAGAMENTO       IT - ITAIM PAULISTA  13690   \n",
      "2171 2013-03-15  ALAGAMENTO        AD - CIDADE ADEMAR  21837   \n",
      "2375 2013-03-14   INUNDACAO   EM - ERMELINO MATARAZZO  21084   \n",
      "2491 2013-03-18  ALAGAMENTO              BT - BUTANTA  21380   \n",
      "2509 2013-03-11   INUNDACAO   EM - ERMELINO MATARAZZO  20643   \n",
      "2527 2013-03-11   INUNDACAO             IP - IPIRANGA  20610   \n",
      "\n",
      "                                geometry  Correspondencia  \n",
      "17    POINT Z (349044.816 7401930.694 0)            False  \n",
      "18     POINT Z (349027.883 7401918.56 0)            False  \n",
      "19     POINT Z (349027.883 7401918.56 0)            False  \n",
      "243   POINT Z (331807.453 7395518.097 0)            False  \n",
      "373   POINT Z (335958.454 7393263.015 0)            False  \n",
      "376   POINT Z (335958.454 7393263.015 0)            False  \n",
      "549   POINT Z (326227.907 7375455.048 0)            False  \n",
      "732   POINT Z (327661.512 7373170.247 0)            False  \n",
      "813    POINT Z (328581.08 7372435.192 0)            False  \n",
      "838   POINT Z (324691.781 7404549.114 0)            False  \n",
      "914   POINT Z (326050.526 7383468.311 0)            False  \n",
      "1317  POINT Z (315552.044 7406797.546 0)            False  \n",
      "1325   POINT Z (320725.294 7406142.81 0)            False  \n",
      "1812  POINT Z (335958.454 7393263.015 0)            False  \n",
      "1815  POINT Z (337194.296 7406713.442 0)            False  \n",
      "1851  POINT Z (356899.881 7401727.431 0)            False  \n",
      "1906  POINT Z (336984.883 7388342.056 0)            False  \n",
      "1941  POINT Z (328631.777 7393375.032 0)            False  \n",
      "1978  POINT Z (354079.563 7397172.328 0)            False  \n",
      "2092  POINT Z (333912.931 7386477.793 0)            False  \n",
      "2093   POINT Z (338592.006 7388025.03 0)            False  \n",
      "2094  POINT Z (336504.927 7391996.381 0)            False  \n",
      "2095  POINT Z (334009.749 7388273.541 0)            False  \n",
      "2097  POINT Z (357114.045 7400219.579 0)            False  \n",
      "2171  POINT Z (332312.473 7380590.916 0)            False  \n",
      "2375  POINT Z (347472.211 7397962.439 0)            False  \n",
      "2491  POINT Z (321089.113 7392529.215 0)            False  \n",
      "2509  POINT Z (347032.383 7398782.538 0)            False  \n",
      "2527   POINT Z (334720.471 7389771.01 0)            False  \n"
     ]
    }
   ],
   "execution_count": 41
  },
  {
   "metadata": {
    "ExecuteTime": {
     "end_time": "2024-10-07T00:35:42.167163Z",
     "start_time": "2024-10-07T00:35:42.156862Z"
    }
   },
   "cell_type": "code",
   "source": "gdf_sem_correspondencia['data'].unique()",
   "id": "d5c22cb69ec8dea4",
   "outputs": [
    {
     "data": {
      "text/plain": [
       "<DatetimeArray>\n",
       "['2013-12-26 00:00:00', '2013-11-07 00:00:00', '2013-10-17 00:00:00',\n",
       " '2013-08-06 00:00:00', '2013-06-03 00:00:00', '2013-04-15 00:00:00',\n",
       " '2013-04-16 00:00:00', '2013-02-05 00:00:00', '2013-02-17 00:00:00',\n",
       " '2013-01-24 00:00:00', '2013-01-23 00:00:00', '2013-01-17 00:00:00',\n",
       " '2013-01-11 00:00:00', '2013-01-01 00:00:00', '2013-01-07 00:00:00',\n",
       " '2013-03-15 00:00:00', '2013-03-14 00:00:00', '2013-03-18 00:00:00',\n",
       " '2013-03-11 00:00:00']\n",
       "Length: 19, dtype: datetime64[ms]"
      ]
     },
     "execution_count": 46,
     "metadata": {},
     "output_type": "execute_result"
    }
   ],
   "execution_count": 46
  },
  {
   "metadata": {
    "ExecuteTime": {
     "end_time": "2024-10-07T00:39:52.394821Z",
     "start_time": "2024-10-07T00:39:52.387197Z"
    }
   },
   "cell_type": "code",
   "source": [
    "# Adiciona a coluna 'Dia da Semana' ao gdf_sem_correspondencia usando .loc\n",
    "gdf_sem_correspondencia.loc[:, 'Dia da Semana'] = gdf_sem_correspondencia['data'].dt.day_name()\n",
    "\n",
    "# Exibe os resultados\n",
    "print(gdf_sem_correspondencia[['data', 'Dia da Semana']])"
   ],
   "id": "2caf023ecd679f6e",
   "outputs": [
    {
     "name": "stdout",
     "output_type": "stream",
     "text": [
      "           data Dia da Semana\n",
      "17   2013-12-26      Thursday\n",
      "18   2013-12-26      Thursday\n",
      "19   2013-12-26      Thursday\n",
      "243  2013-11-07      Thursday\n",
      "373  2013-10-17      Thursday\n",
      "376  2013-10-17      Thursday\n",
      "549  2013-08-06       Tuesday\n",
      "732  2013-06-03        Monday\n",
      "813  2013-04-15        Monday\n",
      "838  2013-04-16       Tuesday\n",
      "914  2013-02-05       Tuesday\n",
      "1317 2013-02-17        Sunday\n",
      "1325 2013-02-17        Sunday\n",
      "1812 2013-01-24      Thursday\n",
      "1815 2013-01-23     Wednesday\n",
      "1851 2013-01-17      Thursday\n",
      "1906 2013-01-11        Friday\n",
      "1941 2013-01-01       Tuesday\n",
      "1978 2013-01-07        Monday\n",
      "2092 2013-01-11        Friday\n",
      "2093 2013-01-11        Friday\n",
      "2094 2013-01-11        Friday\n",
      "2095 2013-01-11        Friday\n",
      "2097 2013-01-11        Friday\n",
      "2171 2013-03-15        Friday\n",
      "2375 2013-03-14      Thursday\n",
      "2491 2013-03-18        Monday\n",
      "2509 2013-03-11        Monday\n",
      "2527 2013-03-11        Monday\n"
     ]
    }
   ],
   "execution_count": 49
  },
  {
   "metadata": {
    "ExecuteTime": {
     "end_time": "2024-10-07T00:43:35.363734Z",
     "start_time": "2024-10-07T00:43:35.139803Z"
    }
   },
   "cell_type": "code",
   "source": [
    "import pandas as pd\n",
    "import matplotlib.pyplot as plt\n",
    "\n",
    "# Contar a frequência de cada dia da semana\n",
    "frequencia_dias = gdf_sem_correspondencia['Dia da Semana'].value_counts()\n",
    "\n",
    "# Reordenar o índice para que os dias da semana apareçam na ordem correta\n",
    "dias_da_semana = ['Monday', 'Tuesday', 'Wednesday', 'Thursday', 'Fruday', 'Saturday', 'Sunday']\n",
    "frequencia_dias = frequencia_dias.reindex(dias_da_semana, fill_value=0)\n",
    "\n",
    "# Gerar o histograma\n",
    "plt.figure(figsize=(10, 6))\n",
    "frequencia_dias.plot(kind='bar', color='skyblue')\n",
    "plt.title('Frequência de Ocorrências por Dia da Semana')\n",
    "plt.xlabel('Dia da Semana')\n",
    "plt.ylabel('Frequência')\n",
    "plt.xticks(rotation=45)\n",
    "plt.grid(axis='y')\n",
    "\n",
    "# Exibir o gráfico\n",
    "plt.tight_layout()  # Ajustar layout\n",
    "plt.show()"
   ],
   "id": "71c83b9820c552a5",
   "outputs": [
    {
     "data": {
      "text/plain": [
       "<Figure size 1000x600 with 1 Axes>"
      ],
      "image/png": "[encoded data removed]"
     },
     "metadata": {},
     "output_type": "display_data"
    }
   ],
   "execution_count": 55
  },
  {
   "metadata": {
    "ExecuteTime": {
     "end_time": "2024-10-07T00:25:46.963889Z",
     "start_time": "2024-10-07T00:25:46.959393Z"
    }
   },
   "cell_type": "code",
   "source": [
    "total_true = gdf_sem_correspondencia['Correspondencia'].sum()\n",
    "\n",
    "# Contar o total de valores False\n",
    "total_false = len(gdf_sem_correspondencia) - total_true\n",
    "\n",
    "# Exibir os resultados\n",
    "print(f\"Total True: {total_true}\")\n",
    "print(f\"Total False: {total_false}\")"
   ],
   "id": "7d3f6ee09f51374d",
   "outputs": [
    {
     "name": "stdout",
     "output_type": "stream",
     "text": [
      "Total True: 0\n",
      "Total False: 29\n"
     ]
    }
   ],
   "execution_count": 42
  },
  {
   "metadata": {
    "ExecuteTime": {
     "end_time": "2024-10-07T00:29:05.054596Z",
     "start_time": "2024-10-07T00:29:05.040369Z"
    }
   },
   "cell_type": "code",
   "source": [
    "data_filtro='2013-11-07'\n",
    "\n",
    "# Converta a string da data para o formato datetime (caso ainda não esteja nesse formato)\n",
    "data_filtro = pd.to_datetime(data_filtro)\n",
    "\n",
    "# Filtrar o GeoDataFrame para a data específica\n",
    "gdf_filtrado = gdf_incidentes[gdf_incidentes['data'] == data_filtro]\n",
    "\n",
    "# Exibir o resultado\n",
    "print(gdf_filtrado)"
   ],
   "id": "f1af588c96660336",
   "outputs": [
    {
     "name": "stdout",
     "output_type": "stream",
     "text": [
      "          data  ocorrencia subprefeit   name  \\\n",
      "243 2013-11-07  ALAGAMENTO    SE - SE  41966   \n",
      "\n",
      "                               geometry  Correspondencia  \n",
      "243  POINT Z (331807.453 7395518.097 0)            False  \n"
     ]
    }
   ],
   "execution_count": 45
  },
  {
   "metadata": {
    "ExecuteTime": {
     "end_time": "2024-10-07T00:46:16.154451Z",
     "start_time": "2024-10-07T00:46:16.149137Z"
    }
   },
   "cell_type": "code",
   "source": "gdf_incidentes['data'].unique()",
   "id": "969dab998aea6532",
   "outputs": [
    {
     "data": {
      "text/plain": [
       "<DatetimeArray>\n",
       "['2013-12-10 00:00:00', '2013-12-25 00:00:00', '2013-12-26 00:00:00',\n",
       " '2013-12-05 00:00:00', '2013-12-29 00:00:00', '2013-11-21 00:00:00',\n",
       " '2013-11-17 00:00:00', '2013-11-04 00:00:00', '2013-11-07 00:00:00',\n",
       " '2013-11-16 00:00:00', '2013-11-23 00:00:00', '2013-11-25 00:00:00',\n",
       " '2013-11-26 00:00:00', '2013-10-18 00:00:00', '2013-10-02 00:00:00',\n",
       " '2013-10-23 00:00:00', '2013-10-04 00:00:00', '2013-10-15 00:00:00',\n",
       " '2013-10-16 00:00:00', '2013-10-24 00:00:00', '2013-10-25 00:00:00',\n",
       " '2013-10-17 00:00:00', '2013-09-23 00:00:00', '2013-09-30 00:00:00',\n",
       " '2013-09-22 00:00:00', '2013-09-19 00:00:00', '2013-09-24 00:00:00',\n",
       " '2013-08-06 00:00:00', '2013-07-23 00:00:00', '2013-07-01 00:00:00',\n",
       " '2013-06-26 00:00:00', '2013-06-02 00:00:00', '2013-06-30 00:00:00',\n",
       " '2013-06-24 00:00:00', '2013-06-03 00:00:00', '2013-06-11 00:00:00',\n",
       " '2013-04-05 00:00:00', '2013-04-15 00:00:00', '2013-04-03 00:00:00',\n",
       " '2013-04-13 00:00:00', '2013-04-16 00:00:00', '2013-04-12 00:00:00',\n",
       " '2013-02-19 00:00:00', '2013-02-14 00:00:00', '2013-02-01 00:00:00',\n",
       " '2013-02-04 00:00:00', '2013-02-05 00:00:00', '2013-02-07 00:00:00',\n",
       " '2013-02-08 00:00:00', '2013-02-13 00:00:00', '2013-02-15 00:00:00',\n",
       " '2013-02-16 00:00:00', '2013-02-17 00:00:00', '2013-02-18 00:00:00',\n",
       " '2013-02-22 00:00:00', '2013-02-26 00:00:00', '2013-01-18 00:00:00',\n",
       " '2013-01-19 00:00:00', '2013-01-24 00:00:00', '2013-01-23 00:00:00',\n",
       " '2013-01-16 00:00:00', '2013-01-17 00:00:00', '2013-01-15 00:00:00',\n",
       " '2013-01-14 00:00:00', '2013-01-11 00:00:00', '2013-01-10 00:00:00',\n",
       " '2013-01-09 00:00:00', '2013-01-08 00:00:00', '2013-01-01 00:00:00',\n",
       " '2013-01-07 00:00:00', '2013-03-08 00:00:00', '2013-03-09 00:00:00',\n",
       " '2013-03-15 00:00:00', '2013-03-10 00:00:00', '2013-03-07 00:00:00',\n",
       " '2013-03-17 00:00:00', '2013-03-21 00:00:00', '2013-03-13 00:00:00',\n",
       " '2013-03-26 00:00:00', '2013-03-14 00:00:00', '2013-03-18 00:00:00',\n",
       " '2013-03-11 00:00:00', '2013-04-11 00:00:00', '2013-11-06 00:00:00']\n",
       "Length: 84, dtype: datetime64[ms]"
      ]
     },
     "execution_count": 57,
     "metadata": {},
     "output_type": "execute_result"
    }
   ],
   "execution_count": 57
  },
  {
   "metadata": {},
   "cell_type": "markdown",
   "source": "### Preparação dos pacotes de simulação",
   "id": "cfba6ec8390dae28"
  },
  {
   "metadata": {},
   "cell_type": "code",
   "outputs": [],
   "execution_count": null,
   "source": "",
   "id": "43f87bd095e1f1e4"
  }
 ],
 "metadata": {
  "kernelspec": {
   "display_name": "Python 3",
   "language": "python",
   "name": "python3"
  },
  "language_info": {
   "codemirror_mode": {
    "name": "ipython",
    "version": 2
   },
   "file_extension": ".py",
   "mimetype": "text/x-python",
   "name": "python",
   "nbconvert_exporter": "python",
   "pygments_lexer": "ipython2",
   "version": "2.7.6"
  }
 },
 "nbformat": 4,
 "nbformat_minor": 5
}
