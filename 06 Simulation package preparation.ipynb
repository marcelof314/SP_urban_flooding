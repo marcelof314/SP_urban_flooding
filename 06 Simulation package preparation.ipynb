{
 "cells": [
  {
   "cell_type": "code",
   "execution_count": null,
   "id": "initial_id",
   "metadata": {
    "collapsed": true
   },
   "outputs": [],
   "source": [
    ""
   ]
  },
  {
   "metadata": {},
   "cell_type": "markdown",
   "source": "### Bibliotecas",
   "id": "89d89f4728ad38aa"
  },
  {
   "metadata": {
    "ExecuteTime": {
     "end_time": "2024-10-08T00:57:17.825500Z",
     "start_time": "2024-10-08T00:57:16.178819Z"
    }
   },
   "cell_type": "code",
   "source": [
    "import pandas as pd\n",
    "import geopandas as gpd"
   ],
   "id": "89dd8b28a66bacd2",
   "outputs": [],
   "execution_count": 1
  },
  {
   "metadata": {},
   "cell_type": "markdown",
   "source": "### Localização dos arquivos",
   "id": "a470c1d090316e85"
  },
  {
   "metadata": {
    "ExecuteTime": {
     "end_time": "2024-10-08T01:07:51.787913Z",
     "start_time": "2024-10-08T01:07:51.784284Z"
    }
   },
   "cell_type": "code",
   "source": [
    "arquivo_cge = '/Users/marcelofernandes/Library/CloudStorage/GoogleDrive-marcelo.fernandes@alumni.usp.br/.shortcut-targets-by-id/1M--OnzbTYagrNv5Ss9fjWlBxCMmasz-Y/10_Mestrado_2021_Marcelo Fernandes/8_Dados/Alagamentos_CGESP/Alagamentos_SP_2015.csv'\n",
    "\n",
    "arquivo_incidentes = '/Users/marcelofernandes/Library/CloudStorage/GoogleDrive-marcelo.fernandes@alumni.usp.br/.shortcut-targets-by-id/1M--OnzbTYagrNv5Ss9fjWlBxCMmasz-Y/10_Mestrado_2021_Marcelo Fernandes/8_Dados/SIRGAS_SHP_riscoocorrencia/SIRGAS_SHP_riscoocorrencia_2015.shp'"
   ],
   "id": "bb94d0041bc21c31",
   "outputs": [],
   "execution_count": 17
  },
  {
   "metadata": {},
   "cell_type": "markdown",
   "source": "### Carregamento e validações dos incidentes do Geosampa",
   "id": "9a8816eb449b3e98"
  },
  {
   "metadata": {
    "ExecuteTime": {
     "end_time": "2024-10-08T01:07:58.492542Z",
     "start_time": "2024-10-08T01:07:54.875704Z"
    }
   },
   "cell_type": "code",
   "source": "gdf_incidentes = gpd.read_file(arquivo_incidentes)",
   "id": "94ff14a64f8bd16b",
   "outputs": [],
   "execution_count": 18
  },
  {
   "metadata": {
    "ExecuteTime": {
     "end_time": "2024-10-08T01:08:01.319466Z",
     "start_time": "2024-10-08T01:08:01.313951Z"
    }
   },
   "cell_type": "code",
   "source": "print(gdf_incidentes['ocorrencia'].unique())",
   "id": "fbc450851e0ff10b",
   "outputs": [
    {
     "name": "stdout",
     "output_type": "stream",
     "text": [
      "['ALAGAMENTO' 'DESLIZAMENTO' 'QUEDA DE ARVORE' 'INUNDACAO']\n"
     ]
    }
   ],
   "execution_count": 19
  },
  {
   "metadata": {
    "ExecuteTime": {
     "end_time": "2024-10-08T01:08:03.681969Z",
     "start_time": "2024-10-08T01:08:03.667912Z"
    }
   },
   "cell_type": "code",
   "source": [
    "# Lista de valores que você deseja excluir\n",
    "valores_excluir = ['QUEDA DE ARVORE', 'DESLIZAMENTO']\n",
    "\n",
    "# Excluir os valores indesejados diretamente no próprio gdf\n",
    "gdf_incidentes = gdf_incidentes[~gdf_incidentes['ocorrencia'].isin(valores_excluir)]\n",
    "\n",
    "# Verifique o resultado\n",
    "print(gdf_incidentes)"
   ],
   "id": "93cb50d656f9ccce",
   "outputs": [
    {
     "name": "stdout",
     "output_type": "stream",
     "text": [
      "           data  ocorrencia                      subprefeit    name  \\\n",
      "0    2015-12-27  ALAGAMENTO        MP - SAO MIGUEL PAULISTA  180771   \n",
      "1    2015-12-26  ALAGAMENTO                  PI - PINHEIROS  180651   \n",
      "2    2015-12-26  ALAGAMENTO        MP - SAO MIGUEL PAULISTA  180582   \n",
      "3    2015-12-26  ALAGAMENTO  MG - VILA MARIA/VILA GUILHERME  180638   \n",
      "6    2015-12-26  ALAGAMENTO                  PI - PINHEIROS  180660   \n",
      "...         ...         ...                             ...     ...   \n",
      "4742 2015-03-16  ALAGAMENTO         EM - ERMELINO MATARAZZO  127400   \n",
      "4744 2015-04-15  ALAGAMENTO                   IQ - ITAQUERA  131423   \n",
      "4751 2015-09-12  ALAGAMENTO                       LA - LAPA  151521   \n",
      "4755 2015-10-03  ALAGAMENTO                         SE - SE  157235   \n",
      "4768 2015-12-26  ALAGAMENTO                SA - SANTO AMARO  180657   \n",
      "\n",
      "                                geometry  \n",
      "0     POINT Z (357555.511 7401829.917 0)  \n",
      "1     POINT Z (327909.894 7390916.855 0)  \n",
      "2      POINT Z (357901.291 7401660.75 0)  \n",
      "3     POINT Z (335798.276 7399911.265 0)  \n",
      "6     POINT Z (325496.741 7385706.315 0)  \n",
      "...                                  ...  \n",
      "4742  POINT Z (347145.111 7399479.635 0)  \n",
      "4744  POINT Z (351403.778 7396405.886 0)  \n",
      "4751  POINT Z (327982.686 7398264.353 0)  \n",
      "4755  POINT Z (351373.274 7398668.167 0)  \n",
      "4768  POINT Z (327538.193 7385590.502 0)  \n",
      "\n",
      "[1404 rows x 5 columns]\n"
     ]
    }
   ],
   "execution_count": 20
  },
  {
   "metadata": {
    "ExecuteTime": {
     "end_time": "2024-10-08T01:08:09.242878Z",
     "start_time": "2024-10-08T01:08:09.230501Z"
    }
   },
   "cell_type": "code",
   "source": "gdf_incidentes.info()",
   "id": "fdc2202603539c80",
   "outputs": [
    {
     "name": "stdout",
     "output_type": "stream",
     "text": [
      "<class 'geopandas.geodataframe.GeoDataFrame'>\n",
      "Index: 1404 entries, 0 to 4768\n",
      "Data columns (total 5 columns):\n",
      " #   Column      Non-Null Count  Dtype         \n",
      "---  ------      --------------  -----         \n",
      " 0   data        1404 non-null   datetime64[ms]\n",
      " 1   ocorrencia  1404 non-null   object        \n",
      " 2   subprefeit  1404 non-null   object        \n",
      " 3   name        1404 non-null   object        \n",
      " 4   geometry    1404 non-null   geometry      \n",
      "dtypes: datetime64[ms](1), geometry(1), object(3)\n",
      "memory usage: 65.8+ KB\n"
     ]
    }
   ],
   "execution_count": 21
  },
  {
   "metadata": {},
   "cell_type": "markdown",
   "source": "### Carregamento e validações dos dados de alagamento do CGE-SP",
   "id": "d758be3e3c9d25bb"
  },
  {
   "metadata": {
    "ExecuteTime": {
     "end_time": "2024-10-13T13:37:01.005688Z",
     "start_time": "2024-10-13T13:37:01.001350Z"
    }
   },
   "cell_type": "code",
   "source": [
    "import os\n",
    "import pandas as pd"
   ],
   "id": "b00311ced136678d",
   "outputs": [],
   "execution_count": 8
  },
  {
   "metadata": {
    "ExecuteTime": {
     "end_time": "2024-10-13T13:38:06.298042Z",
     "start_time": "2024-10-13T13:38:06.292265Z"
    }
   },
   "cell_type": "code",
   "source": "diretorio_cge = '/Users/marcelofernandes/Library/CloudStorage/GoogleDrive-marcelo.fernandes@alumni.usp.br/.shortcut-targets-by-id/1M--OnzbTYagrNv5Ss9fjWlBxCMmasz-Y/10_Mestrado_2021_Marcelo Fernandes/8_Dados/Alagamentos_CGESP'",
   "id": "410a21fee4916bd1",
   "outputs": [],
   "execution_count": 10
  },
  {
   "metadata": {
    "ExecuteTime": {
     "end_time": "2024-10-13T13:43:07.504173Z",
     "start_time": "2024-10-13T13:43:07.498986Z"
    }
   },
   "cell_type": "code",
   "source": [
    "def listar_csv(diretorio):\n",
    "    arquivos_csv = []\n",
    "    \n",
    "    # Percorre os arquivos no diretório fornecido\n",
    "    for arquivo in os.listdir(diretorio):\n",
    "        # Verifica se o arquivo tem extensão .csv\n",
    "        if arquivo.endswith(\".csv\"):\n",
    "            arquivos_csv.append(arquivo)\n",
    "            \n",
    "     # Ordena a lista de arquivos com base nos quatro últimos dígitos (o ano)\n",
    "    arquivos_csv.sort(key=lambda x: int(x[-8:-4]))  # Captura os quatro últimos dígitos antes da extensão .csv\n",
    "    \n",
    "    return arquivos_csv"
   ],
   "id": "9505a188cb221bef",
   "outputs": [],
   "execution_count": 20
  },
  {
   "metadata": {
    "ExecuteTime": {
     "end_time": "2024-10-13T13:54:25.616763Z",
     "start_time": "2024-10-13T13:54:25.609215Z"
    }
   },
   "cell_type": "code",
   "source": [
    "def processar_csv(diretorio):\n",
    "    arquivos_csv = listar_csv(diretorio)\n",
    "    dataframes = []  # Lista para armazenar os DataFrames processados\n",
    "\n",
    "    for arquivo in arquivos_csv:\n",
    "        caminho_arquivo = os.path.join(diretorio, arquivo)\n",
    "\n",
    "        # Carrega o CSV e processa as colunas de Data e Horário\n",
    "        df_cge = pd.read_csv(caminho_arquivo, sep=';')\n",
    "\n",
    "        # Convertendo a coluna 'Data' para datetime\n",
    "        formato_data = '%d/%m/%y'\n",
    "        df_cge['Data'] = pd.to_datetime(df_cge['Data'], format=formato_data)\n",
    "\n",
    "        # Convertendo as colunas 'Horário Inicial' e 'Horário Final' para time\n",
    "        df_cge['Horário Inicial'] = pd.to_datetime(df_cge['Horário Inicial'], format='%H:%M').dt.time\n",
    "        df_cge['Horário Final'] = pd.to_datetime(df_cge['Horário Final'], format='%H:%M').dt.time\n",
    "\n",
    "        # Adiciona o DataFrame processado à lista\n",
    "        dataframes.append(df_cge)\n",
    "\n",
    "        # Concatena todos os DataFrames em um único DataFrame\n",
    "        df_final = pd.concat(dataframes, ignore_index=True)\n",
    "    \n",
    "    return df_final"
   ],
   "id": "f579f09d7171a8da",
   "outputs": [],
   "execution_count": 28
  },
  {
   "metadata": {
    "ExecuteTime": {
     "end_time": "2024-10-13T15:00:37.396452Z",
     "start_time": "2024-10-13T15:00:37.113490Z"
    }
   },
   "cell_type": "code",
   "source": [
    "# Exemplo de uso\n",
    "df_cge_processados = processar_csv(diretorio_cge)"
   ],
   "id": "a2d995efd67838b0",
   "outputs": [],
   "execution_count": 31
  },
  {
   "metadata": {
    "ExecuteTime": {
     "end_time": "2024-10-13T15:01:00.843938Z",
     "start_time": "2024-10-13T15:01:00.836980Z"
    }
   },
   "cell_type": "code",
   "source": [
    "# Exemplo para exibir o primeiro DataFrame\n",
    "print(df_cge_processados.head())"
   ],
   "id": "fa06ada97199ca54",
   "outputs": [
    {
     "name": "stdout",
     "output_type": "stream",
     "text": [
      "   Unnamed: 0       Data  Alagamento Bairro                 Tipo  \\\n",
      "0           0 2013-01-08           1     Sé  Inativo Transitável   \n",
      "1           1 2013-01-08           1     Sé  Inativo Transitável   \n",
      "2           2 2013-01-08           1     Sé  Inativo Transitável   \n",
      "3           3 2013-01-08           1     Sé  Inativo Transitável   \n",
      "4           4 2013-01-08           1     Sé  Inativo Transitável   \n",
      "\n",
      "  Horário Inicial Horário Final                          Endereço Sentido  \\\n",
      "0        19:16:00      22:36:00  VEL PRES ARTHUR DA COSTA E SILVA   AMBOS   \n",
      "1        19:19:00      21:01:00  VEL PRES ARTHUR DA COSTA E SILVA   AMBOS   \n",
      "2        19:27:00      20:29:00                   PÇ. DA BANDEIRA     C/B   \n",
      "3        19:32:00      22:36:00  VEL PRES ARTHUR DA COSTA E SILVA   LA/PE   \n",
      "4        20:01:00      22:28:00                  AV NOVE DE JULHO     B/C   \n",
      "\n",
      "                    Referência  \n",
      "0   AV GAL OLIMPIO DA SILVEIRA  \n",
      "1                     AL GLETE  \n",
      "2              RUA SANTO AMARO  \n",
      "3            ALTURA DO N. 2001  \n",
      "4        VD DR EUSEBIO STEVAUX  \n"
     ]
    }
   ],
   "execution_count": 32
  },
  {
   "metadata": {
    "ExecuteTime": {
     "end_time": "2024-10-13T15:25:37.743622Z",
     "start_time": "2024-10-13T15:25:37.617580Z"
    }
   },
   "cell_type": "code",
   "source": [
    "# Salvando o DataFrame em um arquivo CSV\n",
    "df_cge_processados.to_csv('alagamentos_cge_1324.csv', index=True)"
   ],
   "id": "77a936d388650809",
   "outputs": [],
   "execution_count": 42
  },
  {
   "metadata": {},
   "cell_type": "markdown",
   "source": "### Validações estatísticas no arquivo do CGE-SP",
   "id": "cd1cfad00b8f34ea"
  },
  {
   "metadata": {
    "ExecuteTime": {
     "end_time": "2024-10-13T15:01:19.887973Z",
     "start_time": "2024-10-13T15:01:19.865913Z"
    }
   },
   "cell_type": "code",
   "source": "df_cge_processados.info()",
   "id": "81b38a9517f6ee54",
   "outputs": [
    {
     "name": "stdout",
     "output_type": "stream",
     "text": [
      "<class 'pandas.core.frame.DataFrame'>\n",
      "RangeIndex: 9764 entries, 0 to 9763\n",
      "Data columns (total 10 columns):\n",
      " #   Column           Non-Null Count  Dtype         \n",
      "---  ------           --------------  -----         \n",
      " 0   Unnamed: 0       9764 non-null   int64         \n",
      " 1   Data             9764 non-null   datetime64[ns]\n",
      " 2   Alagamento       9764 non-null   int64         \n",
      " 3   Bairro           9764 non-null   object        \n",
      " 4   Tipo             9764 non-null   object        \n",
      " 5   Horário Inicial  9764 non-null   object        \n",
      " 6   Horário Final    9746 non-null   object        \n",
      " 7   Endereço         9764 non-null   object        \n",
      " 8   Sentido          9764 non-null   object        \n",
      " 9   Referência       9764 non-null   object        \n",
      "dtypes: datetime64[ns](1), int64(2), object(7)\n",
      "memory usage: 762.9+ KB\n"
     ]
    }
   ],
   "execution_count": 33
  },
  {
   "metadata": {
    "ExecuteTime": {
     "end_time": "2024-10-13T15:08:41.340404Z",
     "start_time": "2024-10-13T15:08:41.324038Z"
    }
   },
   "cell_type": "code",
   "source": [
    "# Extraindo o ano da coluna 'Data'\n",
    "df_cge_processados['Ano'] = df_cge_processados['Data'].dt.year\n",
    "df_cge_processados['Mês'] = df_cge_processados['Data'].dt.month\n",
    "    \n",
    "# Agrupando pelo ano e contando o número de ocorrências\n",
    "total_por_mes_ano = df_cge_processados.groupby(['Ano', 'Mês']).size()\n",
    "\n",
    "# Usando unstack para colocar os meses na horizontal\n",
    "total_por_mes_ano_horizontal = total_por_mes_ano.unstack(fill_value=0)    \n",
    "\n",
    "print(total_por_mes_ano_horizontal)"
   ],
   "id": "b7f99e6ff5f4ca33",
   "outputs": [
    {
     "name": "stdout",
     "output_type": "stream",
     "text": [
      "Mês    1    2    3    4   5   6   7   8    9    10   11   12\n",
      "Ano                                                         \n",
      "2013  114  284  135   22   0  41  14   0   26   37   40   39\n",
      "2014  152   64  119   20  11   0   0   3   16    1   57  180\n",
      "2015  158  129  184   30   2   0  38   8  140   43  127  146\n",
      "2016  142  225  212    3  11  76  13  27   10   48  104  100\n",
      "2017  275  181   71  112  70  88   0   7    2   15   62   29\n",
      "2018  107   34  193    8   4   2  21   5   59   54   55   98\n",
      "2019  190  285  258   85   9  36  64   0   11    7   99  137\n",
      "2020  276  394   52    0   1  49   6  16    1   94   62  133\n",
      "2021  168  189  115   16   7   1  12   3    2   26   24   53\n",
      "2022  179   31  199    4   8   2   0   0   50   26   63  106\n",
      "2023  145  242  214   45   5   4   0   5   11  116   64   42\n",
      "2024  173  108   95    5  17   0  11   0    4    6    0    0\n"
     ]
    }
   ],
   "execution_count": 37
  },
  {
   "metadata": {},
   "cell_type": "markdown",
   "source": "### Validações cruzadas entre GeoSampa e CGE-SP",
   "id": "e7982b28653a9436"
  },
  {
   "metadata": {
    "ExecuteTime": {
     "end_time": "2024-10-08T01:09:32.533564Z",
     "start_time": "2024-10-08T01:09:32.529647Z"
    }
   },
   "cell_type": "code",
   "source": [
    "datas_geosampa = gdf_incidentes['data']\n",
    "datas_cge = df_cge['Data']"
   ],
   "id": "869c24da54b8835e",
   "outputs": [],
   "execution_count": 25
  },
  {
   "metadata": {
    "ExecuteTime": {
     "end_time": "2024-10-08T01:09:35.807071Z",
     "start_time": "2024-10-08T01:09:35.794262Z"
    }
   },
   "cell_type": "code",
   "source": [
    "# Verificamos se todas as datas do gdf têm correspondência no df\n",
    "gdf_incidentes['Correspondencia'] = gdf_incidentes['data'].isin(datas_cge)\n",
    "\n",
    "# Exibe as linhas do gdf que NÃO têm correspondência no df\n",
    "gdf_sem_correspondencia = gdf_incidentes[gdf_incidentes['Correspondencia'] == False]\n",
    "\n",
    "# Exibe os resultados\n",
    "print(gdf_sem_correspondencia)"
   ],
   "id": "3916498481231225",
   "outputs": [
    {
     "name": "stdout",
     "output_type": "stream",
     "text": [
      "           data  ocorrencia                subprefeit    name  \\\n",
      "248  2015-12-23  ALAGAMENTO             IQ - ITAQUERA  180014   \n",
      "358  2015-11-21  ALAGAMENTO          SA - SANTO AMARO  171432   \n",
      "359  2015-11-21  ALAGAMENTO     ST - SANTANA/TUCURUVI  171424   \n",
      "438  2015-11-30  ALAGAMENTO                   SE - SE  173089   \n",
      "521  2015-12-15  ALAGAMENTO            PI - PINHEIROS  178480   \n",
      "...         ...         ...                       ...     ...   \n",
      "4465 2015-01-09   INUNDACAO  MP - SAO MIGUEL PAULISTA  114669   \n",
      "4466 2015-01-09   INUNDACAO  MP - SAO MIGUEL PAULISTA  114671   \n",
      "4726 2015-02-21   INUNDACAO  MP - SAO MIGUEL PAULISTA  125360   \n",
      "4732 2015-03-17   INUNDACAO  MP - SAO MIGUEL PAULISTA  129088   \n",
      "4751 2015-09-12  ALAGAMENTO                 LA - LAPA  151521   \n",
      "\n",
      "                                geometry  Correspondencia  \n",
      "248   POINT Z (352530.406 7392334.516 0)            False  \n",
      "358    POINT Z (327403.11 7385528.319 0)            False  \n",
      "359   POINT Z (335074.259 7399925.513 0)            False  \n",
      "438   POINT Z (333198.362 7395906.251 0)            False  \n",
      "521   POINT Z (326403.359 7392362.795 0)            False  \n",
      "...                                  ...              ...  \n",
      "4465   POINT Z (352990.93 7400149.376 0)            False  \n",
      "4466   POINT Z (352990.93 7400149.376 0)            False  \n",
      "4726    POINT Z (357594.27 7402080.91 0)            False  \n",
      "4732  POINT Z (353174.808 7400298.172 0)            False  \n",
      "4751  POINT Z (327982.686 7398264.353 0)            False  \n",
      "\n",
      "[360 rows x 6 columns]\n"
     ]
    }
   ],
   "execution_count": 26
  },
  {
   "metadata": {
    "ExecuteTime": {
     "end_time": "2024-10-08T01:09:37.879015Z",
     "start_time": "2024-10-08T01:09:37.872549Z"
    }
   },
   "cell_type": "code",
   "source": "gdf_sem_correspondencia['data'].unique()",
   "id": "d5c22cb69ec8dea4",
   "outputs": [
    {
     "data": {
      "text/plain": [
       "<DatetimeArray>\n",
       "['2015-12-23 00:00:00', '2015-11-21 00:00:00', '2015-11-30 00:00:00',\n",
       " '2015-12-15 00:00:00', '2015-12-17 00:00:00', '2015-11-16 00:00:00',\n",
       " '2015-10-01 00:00:00', '2015-09-04 00:00:00', '2015-05-29 00:00:00',\n",
       " '2015-05-31 00:00:00', '2015-08-04 00:00:00', '2015-08-18 00:00:00',\n",
       " '2015-03-25 00:00:00', '2015-04-07 00:00:00', '2015-04-18 00:00:00',\n",
       " '2015-03-17 00:00:00', '2015-03-18 00:00:00', '2015-02-27 00:00:00',\n",
       " '2015-03-02 00:00:00', '2015-02-21 00:00:00', '2015-02-22 00:00:00',\n",
       " '2015-02-26 00:00:00', '2015-02-20 00:00:00', '2015-02-19 00:00:00',\n",
       " '2015-02-12 00:00:00', '2015-01-18 00:00:00', '2015-01-29 00:00:00',\n",
       " '2015-01-30 00:00:00', '2015-01-13 00:00:00', '2015-01-09 00:00:00',\n",
       " '2015-09-12 00:00:00']\n",
       "Length: 31, dtype: datetime64[ms]"
      ]
     },
     "execution_count": 27,
     "metadata": {},
     "output_type": "execute_result"
    }
   ],
   "execution_count": 27
  },
  {
   "metadata": {
    "ExecuteTime": {
     "end_time": "2024-10-08T00:59:21.286021Z",
     "start_time": "2024-10-08T00:59:21.271328Z"
    }
   },
   "cell_type": "code",
   "source": [
    "# Adiciona a coluna 'Dia da Semana' ao gdf_sem_correspondencia usando .loc\n",
    "gdf_sem_correspondencia.loc[:, 'Dia da Semana'] = gdf_sem_correspondencia['data'].dt.day_name()\n",
    "\n",
    "# Exibe os resultados\n",
    "print(gdf_sem_correspondencia[['data', 'Dia da Semana']])"
   ],
   "id": "2caf023ecd679f6e",
   "outputs": [
    {
     "name": "stdout",
     "output_type": "stream",
     "text": [
      "           data Dia da Semana\n",
      "161  2014-11-14        Friday\n",
      "162  2014-11-15      Saturday\n",
      "186  2014-11-24        Monday\n",
      "357  2014-12-15        Monday\n",
      "484  2014-12-24     Wednesday\n",
      "...         ...           ...\n",
      "2555 2014-06-10       Tuesday\n",
      "2590 2014-07-08       Tuesday\n",
      "2598 2014-07-10      Thursday\n",
      "2724 2014-09-05        Friday\n",
      "2755 2014-09-21        Sunday\n",
      "\n",
      "[84 rows x 2 columns]\n"
     ]
    },
    {
     "name": "stderr",
     "output_type": "stream",
     "text": [
      "/Library/Frameworks/Python.framework/Versions/3.11/lib/python3.11/site-packages/geopandas/geodataframe.py:1819: SettingWithCopyWarning: \n",
      "A value is trying to be set on a copy of a slice from a DataFrame.\n",
      "Try using .loc[row_indexer,col_indexer] = value instead\n",
      "\n",
      "See the caveats in the documentation: https://pandas.pydata.org/pandas-docs/stable/user_guide/indexing.html#returning-a-view-versus-a-copy\n",
      "  super().__setitem__(key, value)\n"
     ]
    }
   ],
   "execution_count": 13
  },
  {
   "metadata": {
    "ExecuteTime": {
     "end_time": "2024-10-08T00:59:39.403958Z",
     "start_time": "2024-10-08T00:59:38.828414Z"
    }
   },
   "cell_type": "code",
   "source": [
    "import pandas as pd\n",
    "import matplotlib.pyplot as plt\n",
    "\n",
    "# Contar a frequência de cada dia da semana\n",
    "frequencia_dias = gdf_sem_correspondencia['Dia da Semana'].value_counts()\n",
    "\n",
    "# Reordenar o índice para que os dias da semana apareçam na ordem correta\n",
    "dias_da_semana = ['Monday', 'Tuesday', 'Wednesday', 'Thursday', 'Fruday', 'Saturday', 'Sunday']\n",
    "frequencia_dias = frequencia_dias.reindex(dias_da_semana, fill_value=0)\n",
    "\n",
    "# Gerar o histograma\n",
    "plt.figure(figsize=(10, 6))\n",
    "frequencia_dias.plot(kind='bar', color='skyblue')\n",
    "plt.title('Frequência de Ocorrências por Dia da Semana')\n",
    "plt.xlabel('Dia da Semana')\n",
    "plt.ylabel('Frequência')\n",
    "plt.xticks(rotation=45)\n",
    "plt.grid(axis='y')\n",
    "\n",
    "# Exibir o gráfico\n",
    "plt.tight_layout()  # Ajustar layout\n",
    "plt.show()"
   ],
   "id": "71c83b9820c552a5",
   "outputs": [
    {
     "data": {
      "text/plain": [
       "<Figure size 1000x600 with 1 Axes>"
      ],
      "image/png": "[encoded data removed]"
     },
     "metadata": {},
     "output_type": "display_data"
    }
   ],
   "execution_count": 14
  },
  {
   "metadata": {
    "ExecuteTime": {
     "end_time": "2024-10-08T00:59:52.389894Z",
     "start_time": "2024-10-08T00:59:52.383938Z"
    }
   },
   "cell_type": "code",
   "source": [
    "total_true = gdf_sem_correspondencia['Correspondencia'].sum()\n",
    "\n",
    "# Contar o total de valores False\n",
    "total_false = len(gdf_sem_correspondencia) - total_true\n",
    "\n",
    "# Exibir os resultados\n",
    "print(f\"Total True: {total_true}\")\n",
    "print(f\"Total False: {total_false}\")"
   ],
   "id": "7d3f6ee09f51374d",
   "outputs": [
    {
     "name": "stdout",
     "output_type": "stream",
     "text": [
      "Total True: 0\n",
      "Total False: 84\n"
     ]
    }
   ],
   "execution_count": 15
  },
  {
   "metadata": {
    "ExecuteTime": {
     "end_time": "2024-10-07T00:29:05.054596Z",
     "start_time": "2024-10-07T00:29:05.040369Z"
    }
   },
   "cell_type": "code",
   "source": [
    "data_filtro='2013-11-07'\n",
    "\n",
    "# Converta a string da data para o formato datetime (caso ainda não esteja nesse formato)\n",
    "data_filtro = pd.to_datetime(data_filtro)\n",
    "\n",
    "# Filtrar o GeoDataFrame para a data específica\n",
    "gdf_filtrado = gdf_incidentes[gdf_incidentes['data'] == data_filtro]\n",
    "\n",
    "# Exibir o resultado\n",
    "print(gdf_filtrado)"
   ],
   "id": "f1af588c96660336",
   "outputs": [
    {
     "name": "stdout",
     "output_type": "stream",
     "text": [
      "          data  ocorrencia subprefeit   name  \\\n",
      "243 2013-11-07  ALAGAMENTO    SE - SE  41966   \n",
      "\n",
      "                               geometry  Correspondencia  \n",
      "243  POINT Z (331807.453 7395518.097 0)            False  \n"
     ]
    }
   ],
   "execution_count": 45
  },
  {
   "metadata": {
    "ExecuteTime": {
     "end_time": "2024-10-08T01:00:37.485763Z",
     "start_time": "2024-10-08T01:00:37.477108Z"
    }
   },
   "cell_type": "code",
   "source": "gdf_incidentes['data'].unique()",
   "id": "969dab998aea6532",
   "outputs": [
    {
     "data": {
      "text/plain": [
       "<DatetimeArray>\n",
       "['2014-10-26 00:00:00', '2014-11-01 00:00:00', '2014-11-03 00:00:00',\n",
       " '2014-11-04 00:00:00', '2014-11-05 00:00:00', '2014-11-07 00:00:00',\n",
       " '2014-11-13 00:00:00', '2014-11-14 00:00:00', '2014-11-15 00:00:00',\n",
       " '2014-11-24 00:00:00', '2014-11-25 00:00:00', '2014-11-26 00:00:00',\n",
       " '2014-12-10 00:00:00', '2014-12-11 00:00:00', '2014-12-12 00:00:00',\n",
       " '2014-12-15 00:00:00', '2014-12-19 00:00:00', '2014-12-22 00:00:00',\n",
       " '2014-12-23 00:00:00', '2014-12-24 00:00:00', '2014-12-25 00:00:00',\n",
       " '2014-12-29 00:00:00', '2014-12-30 00:00:00', '2014-12-09 00:00:00',\n",
       " '2014-01-02 00:00:00', '2014-01-03 00:00:00', '2014-01-06 00:00:00',\n",
       " '2014-01-07 00:00:00', '2014-01-09 00:00:00', '2014-01-10 00:00:00',\n",
       " '2014-01-12 00:00:00', '2014-01-13 00:00:00', '2014-01-14 00:00:00',\n",
       " '2014-01-15 00:00:00', '2014-01-16 00:00:00', '2014-01-17 00:00:00',\n",
       " '2014-01-21 00:00:00', '2014-01-22 00:00:00', '2014-01-23 00:00:00',\n",
       " '2014-01-24 00:00:00', '2014-01-25 00:00:00', '2014-01-27 00:00:00',\n",
       " '2014-02-06 00:00:00', '2014-02-09 00:00:00', '2014-02-13 00:00:00',\n",
       " '2014-02-14 00:00:00', '2014-02-15 00:00:00', '2014-02-16 00:00:00',\n",
       " '2014-02-17 00:00:00', '2014-02-19 00:00:00', '2014-02-25 00:00:00',\n",
       " '2014-02-27 00:00:00', '2014-02-24 00:00:00', '2014-03-01 00:00:00',\n",
       " '2014-03-04 00:00:00', '2014-03-05 00:00:00', '2014-03-06 00:00:00',\n",
       " '2014-03-07 00:00:00', '2014-03-08 00:00:00', '2014-03-11 00:00:00',\n",
       " '2014-03-12 00:00:00', '2014-03-13 00:00:00', '2014-03-14 00:00:00',\n",
       " '2014-03-16 00:00:00', '2014-03-17 00:00:00', '2014-03-18 00:00:00',\n",
       " '2014-03-21 00:00:00', '2014-03-26 00:00:00', '2014-03-22 00:00:00',\n",
       " '2014-03-30 00:00:00', '2014-03-31 00:00:00', '2014-04-01 00:00:00',\n",
       " '2014-04-04 00:00:00', '2014-04-12 00:00:00', '2014-04-13 00:00:00',\n",
       " '2014-05-18 00:00:00', '2014-05-19 00:00:00', '2014-05-24 00:00:00',\n",
       " '2014-06-02 00:00:00', '2014-06-10 00:00:00', '2014-07-08 00:00:00',\n",
       " '2014-07-10 00:00:00', '2014-08-17 00:00:00', '2014-09-03 00:00:00',\n",
       " '2014-09-05 00:00:00', '2014-09-21 00:00:00', '2014-09-26 00:00:00']\n",
       "Length: 87, dtype: datetime64[ms]"
      ]
     },
     "execution_count": 16,
     "metadata": {},
     "output_type": "execute_result"
    }
   ],
   "execution_count": 16
  },
  {
   "metadata": {},
   "cell_type": "markdown",
   "source": "### Preparação dos pacotes de simulação",
   "id": "cfba6ec8390dae28"
  },
  {
   "metadata": {
    "ExecuteTime": {
     "end_time": "2024-10-10T00:13:44.090743Z",
     "start_time": "2024-10-10T00:13:44.084178Z"
    }
   },
   "cell_type": "code",
   "source": [
    "# Função para ajustar horários sem ultrapassar os limites do dia\n",
    "def ajustar_horarios(horario, ajuste, dia):\n",
    "    try:\n",
    "        # Convertendo o horário para datetime e aplicando o ajuste\n",
    "        horario_dt = pd.to_datetime(horario, format='%H:%M:%S', errors='coerce')\n",
    "        \n",
    "        # Se o horário for inválido, gerar erro\n",
    "#        if pd.isna(horario_dt):\n",
    "#            raise ValueError(f\"Formato de horário inválido: {horario}\")\n",
    "        \n",
    "        # Verificar se o horário foi convertido corretamente\n",
    "        if pd.isna(horario_dt):\n",
    "            print(f\"Formato de horário inválido: '{horario_dt}' na data {data}\")\n",
    "            return None  # Retorna None para horários inválidos\n",
    "        \n",
    "        # Combinar a data com o horário (para que ele carregue o dia correto)\n",
    "        horario_completo = datetime.combine(pd.to_datetime(dia).date(), horario_dt.time())\n",
    "        \n",
    "        # Aplicar o ajuste de horas\n",
    "        horario_ajustado = horario_completo + timedelta(hours=ajuste)\n",
    "       \n",
    "        # Aplicar o ajuste de horas\n",
    "        #horario_ajustado = horario_dt + timedelta(hours=ajuste)\n",
    "        #print(f'Função: horário original, {horario} e ajuste: {horario_ajustado}')\n",
    "        \n",
    "        # Garantir que a simulação comece e termine no mesmo dia\n",
    "        inicio_dia = pd.to_datetime(f\"{dia} 00:00:01\")\n",
    "        fim_dia = pd.to_datetime(f\"{dia} 23:59:59\")\n",
    "        \n",
    "        # Verificar se o horário ajustado ultrapassa os limites do dia\n",
    "        if horario_ajustado < inicio_dia:\n",
    "            #print(horario_ajustado, inicio_dia)\n",
    "            horario_ajustado = inicio_dia\n",
    "        elif horario_ajustado > fim_dia:\n",
    "            horario_ajustado = fim_dia\n",
    "        \n",
    "        # Retorna apenas o horário ajustado\n",
    "        #print(horario_ajustado)\n",
    "        return horario_ajustado.time()\n",
    "    \n",
    "    except Exception as e:\n",
    "        print(f\"Erro ao ajustar horário: {e}\")\n",
    "        return None"
   ],
   "id": "7719dc3c3b21e542",
   "outputs": [],
   "execution_count": 138
  },
  {
   "metadata": {
    "ExecuteTime": {
     "end_time": "2024-10-10T00:13:51.490351Z",
     "start_time": "2024-10-10T00:13:50.754166Z"
    }
   },
   "cell_type": "code",
   "source": [
    "from datetime import timedelta\n",
    "    \n",
    "# Parâmetros de ajuste\n",
    "ajuste_inicio = -2  # Duas horas antes do horário inicial\n",
    "ajuste_fim = 2  # Duas horas depois do horário final\n",
    "\n",
    "# Lista de resultados para armazenar os dados de cada iteração\n",
    "resultados = []\n",
    "\n",
    "# Extraindo todas as datas únicas do gdf_incidentes\n",
    "datas_unicas = gdf_incidentes['data'].dt.date.unique()\n",
    "\n",
    "# Iterando sobre cada data única\n",
    "for dia in datas_unicas:\n",
    "    \n",
    "    # Verificando se a data existe no df_cge\n",
    "    if dia in df_cge['Data'].dt.date.unique():\n",
    "        # Filtrando o DataFrame para a data específica\n",
    "        df_filtrado = df_cge[df_cge['Data'].dt.date == dia]\n",
    "        \n",
    "        # Selecionando o horário mais cedo e o mais tarde\n",
    "        horario_inicial = df_filtrado['Horário Inicial'].min()\n",
    "        #print('Horário mais cedo: ', horario_inicial)\n",
    "        horario_final = df_filtrado['Horário Final'].max()\n",
    "        #print('Horário mais tarde: ', horario_final)\n",
    "        \n",
    "        # Calculando os horários de simulação ajustados\n",
    "        simulacao_inicio = ajustar_horarios(horario_inicial, ajuste_inicio, dia)\n",
    "        simulacao_final = ajustar_horarios(horario_final, ajuste_fim, dia)\n",
    "        #print(f'Data mais cedo: {horario_inicial}, início da simulação: {simulacao_inicio}')\n",
    "        \n",
    "        # Adicionando as informações à lista de resultados\n",
    "        resultados.append({\n",
    "            'Data': dia,\n",
    "            'Horário Inicial': horario_inicial,\n",
    "            'Horário Final': horario_final,\n",
    "            'Simulação Início': simulacao_inicio,\n",
    "            'Simulação Final': simulacao_final,\n",
    "            'Tipo': 'Detalhado'\n",
    "        })\n",
    "        \n",
    "    else:\n",
    "        # Caso a data não exista no df_cge, adicionar o dia inteiro\n",
    "        horario_inicial = '00:00:00'\n",
    "        horario_final = '23:59:59'\n",
    "        \n",
    "        # Calculando os horários de simulação ajustados\n",
    "        simulacao_inicio = horario_inicial\n",
    "        simulacao_final = horario_final\n",
    "        \n",
    "        resultados.append({\n",
    "            'Data': dia,\n",
    "            'Horário Inicial': horario_inicial,\n",
    "            'Horário Final': horario_final,\n",
    "            'Simulação Início': simulacao_inicio,\n",
    "            'Simulação Final': simulacao_final,\n",
    "            'Tipo': 'Inteiro'\n",
    "        })\n",
    "\n",
    "# Criando um DataFrame a partir da lista de resultados\n",
    "novo_df = pd.DataFrame(resultados)\n",
    "\n",
    "# Exibindo o DataFrame final\n",
    "print(novo_df)"
   ],
   "id": "43f87bd095e1f1e4",
   "outputs": [
    {
     "name": "stdout",
     "output_type": "stream",
     "text": [
      "           Data Horário Inicial Horário Final Simulação Início  \\\n",
      "0    2015-12-27        01:44:00      18:43:00         00:00:01   \n",
      "1    2015-12-26        18:51:00      23:44:00         16:51:00   \n",
      "2    2015-12-29        01:07:00      23:06:00         00:00:01   \n",
      "3    2015-12-30        00:05:00      22:52:00         00:00:01   \n",
      "4    2015-12-20        15:28:00      22:20:00         13:28:00   \n",
      "..          ...             ...           ...              ...   \n",
      "116  2015-01-02        18:02:00      18:52:00         16:02:00   \n",
      "117  2015-01-03        18:20:00      22:42:00         16:20:00   \n",
      "118  2015-01-05        14:36:00      19:09:00         12:36:00   \n",
      "119  2015-01-06        17:22:00      20:01:00         15:22:00   \n",
      "120  2015-09-12        00:00:00      23:59:59         00:00:00   \n",
      "\n",
      "    Simulação Final       Tipo  \n",
      "0          20:43:00  Detalhado  \n",
      "1          23:59:59  Detalhado  \n",
      "2          23:59:59  Detalhado  \n",
      "3          23:59:59  Detalhado  \n",
      "4          23:59:59  Detalhado  \n",
      "..              ...        ...  \n",
      "116        20:52:00  Detalhado  \n",
      "117        23:59:59  Detalhado  \n",
      "118        21:09:00  Detalhado  \n",
      "119        22:01:00  Detalhado  \n",
      "120        23:59:59    Inteiro  \n",
      "\n",
      "[121 rows x 6 columns]\n"
     ]
    }
   ],
   "execution_count": 139
  },
  {
   "metadata": {
    "ExecuteTime": {
     "end_time": "2024-10-10T10:21:17.323098Z",
     "start_time": "2024-10-10T10:21:17.045839Z"
    }
   },
   "cell_type": "code",
   "source": [
    "# Filtrar o GeoDataFrame para a data específica\n",
    "df_filtrado = novo_df[novo_df['Tipo'] == 'Detalhado']\n",
    "\n",
    "# Exibir o resultado\n",
    "print(df_filtrado)"
   ],
   "id": "d7031ac54b0aea66",
   "outputs": [
    {
     "name": "stdout",
     "output_type": "stream",
     "text": [
      "           Data Horário Inicial Horário Final Simulação Início  \\\n",
      "0    2015-12-27        01:44:00      18:43:00         00:00:01   \n",
      "1    2015-12-26        18:51:00      23:44:00         16:51:00   \n",
      "2    2015-12-29        01:07:00      23:06:00         00:00:01   \n",
      "3    2015-12-30        00:05:00      22:52:00         00:00:01   \n",
      "4    2015-12-20        15:28:00      22:20:00         13:28:00   \n",
      "..          ...             ...           ...              ...   \n",
      "115  2015-01-01        18:52:00      20:35:00         16:52:00   \n",
      "116  2015-01-02        18:02:00      18:52:00         16:02:00   \n",
      "117  2015-01-03        18:20:00      22:42:00         16:20:00   \n",
      "118  2015-01-05        14:36:00      19:09:00         12:36:00   \n",
      "119  2015-01-06        17:22:00      20:01:00         15:22:00   \n",
      "\n",
      "    Simulação Final       Tipo  \n",
      "0          20:43:00  Detalhado  \n",
      "1          23:59:59  Detalhado  \n",
      "2          23:59:59  Detalhado  \n",
      "3          23:59:59  Detalhado  \n",
      "4          23:59:59  Detalhado  \n",
      "..              ...        ...  \n",
      "115        22:35:00  Detalhado  \n",
      "116        20:52:00  Detalhado  \n",
      "117        23:59:59  Detalhado  \n",
      "118        21:09:00  Detalhado  \n",
      "119        22:01:00  Detalhado  \n",
      "\n",
      "[90 rows x 6 columns]\n"
     ]
    }
   ],
   "execution_count": 147
  },
  {
   "metadata": {
    "ExecuteTime": {
     "end_time": "2024-10-10T00:23:16.647679Z",
     "start_time": "2024-10-10T00:23:16.426642Z"
    }
   },
   "cell_type": "code",
   "source": [
    "## Função para combinar data e hora (tratando strings e objetos time)\n",
    "def combinar_data_hora(data_str, horario):\n",
    "    data = pd.to_datetime(data_str)  # Converter string para datetime (apenas data)\n",
    "    \n",
    "    # Se o horário for string, converte para time, caso contrário, usa o time diretamente\n",
    "    if isinstance(horario, str):\n",
    "        horario = datetime.strptime(horario, '%H:%M').time()  # Converter string para time\n",
    "    \n",
    "    return datetime.combine(data.date(), horario)\n",
    "\n",
    "# Aplicar a função para combinar a data com os horários\n",
    "novo_df['Simulação Início Completo'] = novo_df.apply(lambda row: combinar_data_hora(row['Data'], row['Simulação Início']), axis=1)\n",
    "novo_df['Simulação Final Completo'] = novo_df.apply(lambda row: combinar_data_hora(row['Data'], row['Simulação Final']), axis=1)\n",
    "\n",
    "# Calcular a diferença em horas entre 'Simulação Início Completo' e 'Simulação Final Completo'\n",
    "novo_df['Diferença em Horas'] = (novo_df['Simulação Final Completo'] - novo_df['Simulação Início Completo']).dt.total_seconds() / 3600\n",
    "\n",
    "# Exibir o dataframe com a nova coluna\n",
    "print(novo_df[['Simulação Início Completo', 'Simulação Final Completo', 'Diferença em Horas']])"
   ],
   "id": "40a2397b16392df6",
   "outputs": [
    {
     "ename": "ValueError",
     "evalue": "unconverted data remains: :00",
     "output_type": "error",
     "traceback": [
      "\u001B[0;31m---------------------------------------------------------------------------\u001B[0m",
      "\u001B[0;31mValueError\u001B[0m                                Traceback (most recent call last)",
      "Cell \u001B[0;32mIn[143], line 12\u001B[0m\n\u001B[1;32m      9\u001B[0m     \u001B[38;5;28;01mreturn\u001B[39;00m datetime\u001B[38;5;241m.\u001B[39mcombine(data\u001B[38;5;241m.\u001B[39mdate(), horario)\n\u001B[1;32m     11\u001B[0m \u001B[38;5;66;03m# Aplicar a função para combinar a data com os horários\u001B[39;00m\n\u001B[0;32m---> 12\u001B[0m novo_df[\u001B[38;5;124m'\u001B[39m\u001B[38;5;124mSimulação Início Completo\u001B[39m\u001B[38;5;124m'\u001B[39m] \u001B[38;5;241m=\u001B[39m \u001B[43mnovo_df\u001B[49m\u001B[38;5;241;43m.\u001B[39;49m\u001B[43mapply\u001B[49m\u001B[43m(\u001B[49m\u001B[38;5;28;43;01mlambda\u001B[39;49;00m\u001B[43m \u001B[49m\u001B[43mrow\u001B[49m\u001B[43m:\u001B[49m\u001B[43m \u001B[49m\u001B[43mcombinar_data_hora\u001B[49m\u001B[43m(\u001B[49m\u001B[43mrow\u001B[49m\u001B[43m[\u001B[49m\u001B[38;5;124;43m'\u001B[39;49m\u001B[38;5;124;43mData\u001B[39;49m\u001B[38;5;124;43m'\u001B[39;49m\u001B[43m]\u001B[49m\u001B[43m,\u001B[49m\u001B[43m \u001B[49m\u001B[43mrow\u001B[49m\u001B[43m[\u001B[49m\u001B[38;5;124;43m'\u001B[39;49m\u001B[38;5;124;43mSimulação Início\u001B[39;49m\u001B[38;5;124;43m'\u001B[39;49m\u001B[43m]\u001B[49m\u001B[43m)\u001B[49m\u001B[43m,\u001B[49m\u001B[43m \u001B[49m\u001B[43maxis\u001B[49m\u001B[38;5;241;43m=\u001B[39;49m\u001B[38;5;241;43m1\u001B[39;49m\u001B[43m)\u001B[49m\n\u001B[1;32m     13\u001B[0m novo_df[\u001B[38;5;124m'\u001B[39m\u001B[38;5;124mSimulação Final Completo\u001B[39m\u001B[38;5;124m'\u001B[39m] \u001B[38;5;241m=\u001B[39m novo_df\u001B[38;5;241m.\u001B[39mapply(\u001B[38;5;28;01mlambda\u001B[39;00m row: combinar_data_hora(row[\u001B[38;5;124m'\u001B[39m\u001B[38;5;124mData\u001B[39m\u001B[38;5;124m'\u001B[39m], row[\u001B[38;5;124m'\u001B[39m\u001B[38;5;124mSimulação Final\u001B[39m\u001B[38;5;124m'\u001B[39m]), axis\u001B[38;5;241m=\u001B[39m\u001B[38;5;241m1\u001B[39m)\n\u001B[1;32m     15\u001B[0m \u001B[38;5;66;03m# Calcular a diferença em horas entre 'Simulação Início Completo' e 'Simulação Final Completo'\u001B[39;00m\n",
      "File \u001B[0;32m/Library/Frameworks/Python.framework/Versions/3.11/lib/python3.11/site-packages/pandas/core/frame.py:10374\u001B[0m, in \u001B[0;36mDataFrame.apply\u001B[0;34m(self, func, axis, raw, result_type, args, by_row, engine, engine_kwargs, **kwargs)\u001B[0m\n\u001B[1;32m  10360\u001B[0m \u001B[38;5;28;01mfrom\u001B[39;00m \u001B[38;5;21;01mpandas\u001B[39;00m\u001B[38;5;21;01m.\u001B[39;00m\u001B[38;5;21;01mcore\u001B[39;00m\u001B[38;5;21;01m.\u001B[39;00m\u001B[38;5;21;01mapply\u001B[39;00m \u001B[38;5;28;01mimport\u001B[39;00m frame_apply\n\u001B[1;32m  10362\u001B[0m op \u001B[38;5;241m=\u001B[39m frame_apply(\n\u001B[1;32m  10363\u001B[0m     \u001B[38;5;28mself\u001B[39m,\n\u001B[1;32m  10364\u001B[0m     func\u001B[38;5;241m=\u001B[39mfunc,\n\u001B[0;32m   (...)\u001B[0m\n\u001B[1;32m  10372\u001B[0m     kwargs\u001B[38;5;241m=\u001B[39mkwargs,\n\u001B[1;32m  10373\u001B[0m )\n\u001B[0;32m> 10374\u001B[0m \u001B[38;5;28;01mreturn\u001B[39;00m \u001B[43mop\u001B[49m\u001B[38;5;241;43m.\u001B[39;49m\u001B[43mapply\u001B[49m\u001B[43m(\u001B[49m\u001B[43m)\u001B[49m\u001B[38;5;241m.\u001B[39m__finalize__(\u001B[38;5;28mself\u001B[39m, method\u001B[38;5;241m=\u001B[39m\u001B[38;5;124m\"\u001B[39m\u001B[38;5;124mapply\u001B[39m\u001B[38;5;124m\"\u001B[39m)\n",
      "File \u001B[0;32m/Library/Frameworks/Python.framework/Versions/3.11/lib/python3.11/site-packages/pandas/core/apply.py:916\u001B[0m, in \u001B[0;36mFrameApply.apply\u001B[0;34m(self)\u001B[0m\n\u001B[1;32m    913\u001B[0m \u001B[38;5;28;01melif\u001B[39;00m \u001B[38;5;28mself\u001B[39m\u001B[38;5;241m.\u001B[39mraw:\n\u001B[1;32m    914\u001B[0m     \u001B[38;5;28;01mreturn\u001B[39;00m \u001B[38;5;28mself\u001B[39m\u001B[38;5;241m.\u001B[39mapply_raw(engine\u001B[38;5;241m=\u001B[39m\u001B[38;5;28mself\u001B[39m\u001B[38;5;241m.\u001B[39mengine, engine_kwargs\u001B[38;5;241m=\u001B[39m\u001B[38;5;28mself\u001B[39m\u001B[38;5;241m.\u001B[39mengine_kwargs)\n\u001B[0;32m--> 916\u001B[0m \u001B[38;5;28;01mreturn\u001B[39;00m \u001B[38;5;28;43mself\u001B[39;49m\u001B[38;5;241;43m.\u001B[39;49m\u001B[43mapply_standard\u001B[49m\u001B[43m(\u001B[49m\u001B[43m)\u001B[49m\n",
      "File \u001B[0;32m/Library/Frameworks/Python.framework/Versions/3.11/lib/python3.11/site-packages/pandas/core/apply.py:1063\u001B[0m, in \u001B[0;36mFrameApply.apply_standard\u001B[0;34m(self)\u001B[0m\n\u001B[1;32m   1061\u001B[0m \u001B[38;5;28;01mdef\u001B[39;00m \u001B[38;5;21mapply_standard\u001B[39m(\u001B[38;5;28mself\u001B[39m):\n\u001B[1;32m   1062\u001B[0m     \u001B[38;5;28;01mif\u001B[39;00m \u001B[38;5;28mself\u001B[39m\u001B[38;5;241m.\u001B[39mengine \u001B[38;5;241m==\u001B[39m \u001B[38;5;124m\"\u001B[39m\u001B[38;5;124mpython\u001B[39m\u001B[38;5;124m\"\u001B[39m:\n\u001B[0;32m-> 1063\u001B[0m         results, res_index \u001B[38;5;241m=\u001B[39m \u001B[38;5;28;43mself\u001B[39;49m\u001B[38;5;241;43m.\u001B[39;49m\u001B[43mapply_series_generator\u001B[49m\u001B[43m(\u001B[49m\u001B[43m)\u001B[49m\n\u001B[1;32m   1064\u001B[0m     \u001B[38;5;28;01melse\u001B[39;00m:\n\u001B[1;32m   1065\u001B[0m         results, res_index \u001B[38;5;241m=\u001B[39m \u001B[38;5;28mself\u001B[39m\u001B[38;5;241m.\u001B[39mapply_series_numba()\n",
      "File \u001B[0;32m/Library/Frameworks/Python.framework/Versions/3.11/lib/python3.11/site-packages/pandas/core/apply.py:1081\u001B[0m, in \u001B[0;36mFrameApply.apply_series_generator\u001B[0;34m(self)\u001B[0m\n\u001B[1;32m   1078\u001B[0m \u001B[38;5;28;01mwith\u001B[39;00m option_context(\u001B[38;5;124m\"\u001B[39m\u001B[38;5;124mmode.chained_assignment\u001B[39m\u001B[38;5;124m\"\u001B[39m, \u001B[38;5;28;01mNone\u001B[39;00m):\n\u001B[1;32m   1079\u001B[0m     \u001B[38;5;28;01mfor\u001B[39;00m i, v \u001B[38;5;129;01min\u001B[39;00m \u001B[38;5;28menumerate\u001B[39m(series_gen):\n\u001B[1;32m   1080\u001B[0m         \u001B[38;5;66;03m# ignore SettingWithCopy here in case the user mutates\u001B[39;00m\n\u001B[0;32m-> 1081\u001B[0m         results[i] \u001B[38;5;241m=\u001B[39m \u001B[38;5;28;43mself\u001B[39;49m\u001B[38;5;241;43m.\u001B[39;49m\u001B[43mfunc\u001B[49m\u001B[43m(\u001B[49m\u001B[43mv\u001B[49m\u001B[43m,\u001B[49m\u001B[43m \u001B[49m\u001B[38;5;241;43m*\u001B[39;49m\u001B[38;5;28;43mself\u001B[39;49m\u001B[38;5;241;43m.\u001B[39;49m\u001B[43margs\u001B[49m\u001B[43m,\u001B[49m\u001B[43m \u001B[49m\u001B[38;5;241;43m*\u001B[39;49m\u001B[38;5;241;43m*\u001B[39;49m\u001B[38;5;28;43mself\u001B[39;49m\u001B[38;5;241;43m.\u001B[39;49m\u001B[43mkwargs\u001B[49m\u001B[43m)\u001B[49m\n\u001B[1;32m   1082\u001B[0m         \u001B[38;5;28;01mif\u001B[39;00m \u001B[38;5;28misinstance\u001B[39m(results[i], ABCSeries):\n\u001B[1;32m   1083\u001B[0m             \u001B[38;5;66;03m# If we have a view on v, we need to make a copy because\u001B[39;00m\n\u001B[1;32m   1084\u001B[0m             \u001B[38;5;66;03m#  series_generator will swap out the underlying data\u001B[39;00m\n\u001B[1;32m   1085\u001B[0m             results[i] \u001B[38;5;241m=\u001B[39m results[i]\u001B[38;5;241m.\u001B[39mcopy(deep\u001B[38;5;241m=\u001B[39m\u001B[38;5;28;01mFalse\u001B[39;00m)\n",
      "Cell \u001B[0;32mIn[143], line 12\u001B[0m, in \u001B[0;36m<lambda>\u001B[0;34m(row)\u001B[0m\n\u001B[1;32m      9\u001B[0m     \u001B[38;5;28;01mreturn\u001B[39;00m datetime\u001B[38;5;241m.\u001B[39mcombine(data\u001B[38;5;241m.\u001B[39mdate(), horario)\n\u001B[1;32m     11\u001B[0m \u001B[38;5;66;03m# Aplicar a função para combinar a data com os horários\u001B[39;00m\n\u001B[0;32m---> 12\u001B[0m novo_df[\u001B[38;5;124m'\u001B[39m\u001B[38;5;124mSimulação Início Completo\u001B[39m\u001B[38;5;124m'\u001B[39m] \u001B[38;5;241m=\u001B[39m novo_df\u001B[38;5;241m.\u001B[39mapply(\u001B[38;5;28;01mlambda\u001B[39;00m row: \u001B[43mcombinar_data_hora\u001B[49m\u001B[43m(\u001B[49m\u001B[43mrow\u001B[49m\u001B[43m[\u001B[49m\u001B[38;5;124;43m'\u001B[39;49m\u001B[38;5;124;43mData\u001B[39;49m\u001B[38;5;124;43m'\u001B[39;49m\u001B[43m]\u001B[49m\u001B[43m,\u001B[49m\u001B[43m \u001B[49m\u001B[43mrow\u001B[49m\u001B[43m[\u001B[49m\u001B[38;5;124;43m'\u001B[39;49m\u001B[38;5;124;43mSimulação Início\u001B[39;49m\u001B[38;5;124;43m'\u001B[39;49m\u001B[43m]\u001B[49m\u001B[43m)\u001B[49m, axis\u001B[38;5;241m=\u001B[39m\u001B[38;5;241m1\u001B[39m)\n\u001B[1;32m     13\u001B[0m novo_df[\u001B[38;5;124m'\u001B[39m\u001B[38;5;124mSimulação Final Completo\u001B[39m\u001B[38;5;124m'\u001B[39m] \u001B[38;5;241m=\u001B[39m novo_df\u001B[38;5;241m.\u001B[39mapply(\u001B[38;5;28;01mlambda\u001B[39;00m row: combinar_data_hora(row[\u001B[38;5;124m'\u001B[39m\u001B[38;5;124mData\u001B[39m\u001B[38;5;124m'\u001B[39m], row[\u001B[38;5;124m'\u001B[39m\u001B[38;5;124mSimulação Final\u001B[39m\u001B[38;5;124m'\u001B[39m]), axis\u001B[38;5;241m=\u001B[39m\u001B[38;5;241m1\u001B[39m)\n\u001B[1;32m     15\u001B[0m \u001B[38;5;66;03m# Calcular a diferença em horas entre 'Simulação Início Completo' e 'Simulação Final Completo'\u001B[39;00m\n",
      "Cell \u001B[0;32mIn[143], line 7\u001B[0m, in \u001B[0;36mcombinar_data_hora\u001B[0;34m(data_str, horario)\u001B[0m\n\u001B[1;32m      5\u001B[0m \u001B[38;5;66;03m# Se o horário for string, converte para time, caso contrário, usa o time diretamente\u001B[39;00m\n\u001B[1;32m      6\u001B[0m \u001B[38;5;28;01mif\u001B[39;00m \u001B[38;5;28misinstance\u001B[39m(horario, \u001B[38;5;28mstr\u001B[39m):\n\u001B[0;32m----> 7\u001B[0m     horario \u001B[38;5;241m=\u001B[39m \u001B[43mdatetime\u001B[49m\u001B[38;5;241;43m.\u001B[39;49m\u001B[43mstrptime\u001B[49m\u001B[43m(\u001B[49m\u001B[43mhorario\u001B[49m\u001B[43m,\u001B[49m\u001B[43m \u001B[49m\u001B[38;5;124;43m'\u001B[39;49m\u001B[38;5;124;43m%\u001B[39;49m\u001B[38;5;124;43mH:\u001B[39;49m\u001B[38;5;124;43m%\u001B[39;49m\u001B[38;5;124;43mM\u001B[39;49m\u001B[38;5;124;43m'\u001B[39;49m\u001B[43m)\u001B[49m\u001B[38;5;241m.\u001B[39mtime()  \u001B[38;5;66;03m# Converter string para time\u001B[39;00m\n\u001B[1;32m      9\u001B[0m \u001B[38;5;28;01mreturn\u001B[39;00m datetime\u001B[38;5;241m.\u001B[39mcombine(data\u001B[38;5;241m.\u001B[39mdate(), horario)\n",
      "File \u001B[0;32m/Library/Frameworks/Python.framework/Versions/3.11/lib/python3.11/_strptime.py:568\u001B[0m, in \u001B[0;36m_strptime_datetime\u001B[0;34m(cls, data_string, format)\u001B[0m\n\u001B[1;32m    565\u001B[0m \u001B[38;5;28;01mdef\u001B[39;00m \u001B[38;5;21m_strptime_datetime\u001B[39m(\u001B[38;5;28mcls\u001B[39m, data_string, \u001B[38;5;28mformat\u001B[39m\u001B[38;5;241m=\u001B[39m\u001B[38;5;124m\"\u001B[39m\u001B[38;5;132;01m%a\u001B[39;00m\u001B[38;5;124m \u001B[39m\u001B[38;5;124m%\u001B[39m\u001B[38;5;124mb \u001B[39m\u001B[38;5;132;01m%d\u001B[39;00m\u001B[38;5;124m \u001B[39m\u001B[38;5;124m%\u001B[39m\u001B[38;5;124mH:\u001B[39m\u001B[38;5;124m%\u001B[39m\u001B[38;5;124mM:\u001B[39m\u001B[38;5;124m%\u001B[39m\u001B[38;5;124mS \u001B[39m\u001B[38;5;124m%\u001B[39m\u001B[38;5;124mY\u001B[39m\u001B[38;5;124m\"\u001B[39m):\n\u001B[1;32m    566\u001B[0m \u001B[38;5;250m    \u001B[39m\u001B[38;5;124;03m\"\"\"Return a class cls instance based on the input string and the\u001B[39;00m\n\u001B[1;32m    567\u001B[0m \u001B[38;5;124;03m    format string.\"\"\"\u001B[39;00m\n\u001B[0;32m--> 568\u001B[0m     tt, fraction, gmtoff_fraction \u001B[38;5;241m=\u001B[39m \u001B[43m_strptime\u001B[49m\u001B[43m(\u001B[49m\u001B[43mdata_string\u001B[49m\u001B[43m,\u001B[49m\u001B[43m \u001B[49m\u001B[38;5;28;43mformat\u001B[39;49m\u001B[43m)\u001B[49m\n\u001B[1;32m    569\u001B[0m     tzname, gmtoff \u001B[38;5;241m=\u001B[39m tt[\u001B[38;5;241m-\u001B[39m\u001B[38;5;241m2\u001B[39m:]\n\u001B[1;32m    570\u001B[0m     args \u001B[38;5;241m=\u001B[39m tt[:\u001B[38;5;241m6\u001B[39m] \u001B[38;5;241m+\u001B[39m (fraction,)\n",
      "File \u001B[0;32m/Library/Frameworks/Python.framework/Versions/3.11/lib/python3.11/_strptime.py:352\u001B[0m, in \u001B[0;36m_strptime\u001B[0;34m(data_string, format)\u001B[0m\n\u001B[1;32m    349\u001B[0m     \u001B[38;5;28;01mraise\u001B[39;00m \u001B[38;5;167;01mValueError\u001B[39;00m(\u001B[38;5;124m\"\u001B[39m\u001B[38;5;124mtime data \u001B[39m\u001B[38;5;132;01m%r\u001B[39;00m\u001B[38;5;124m does not match format \u001B[39m\u001B[38;5;132;01m%r\u001B[39;00m\u001B[38;5;124m\"\u001B[39m \u001B[38;5;241m%\u001B[39m\n\u001B[1;32m    350\u001B[0m                      (data_string, \u001B[38;5;28mformat\u001B[39m))\n\u001B[1;32m    351\u001B[0m \u001B[38;5;28;01mif\u001B[39;00m \u001B[38;5;28mlen\u001B[39m(data_string) \u001B[38;5;241m!=\u001B[39m found\u001B[38;5;241m.\u001B[39mend():\n\u001B[0;32m--> 352\u001B[0m     \u001B[38;5;28;01mraise\u001B[39;00m \u001B[38;5;167;01mValueError\u001B[39;00m(\u001B[38;5;124m\"\u001B[39m\u001B[38;5;124munconverted data remains: \u001B[39m\u001B[38;5;132;01m%s\u001B[39;00m\u001B[38;5;124m\"\u001B[39m \u001B[38;5;241m%\u001B[39m\n\u001B[1;32m    353\u001B[0m                       data_string[found\u001B[38;5;241m.\u001B[39mend():])\n\u001B[1;32m    355\u001B[0m iso_year \u001B[38;5;241m=\u001B[39m year \u001B[38;5;241m=\u001B[39m \u001B[38;5;28;01mNone\u001B[39;00m\n\u001B[1;32m    356\u001B[0m month \u001B[38;5;241m=\u001B[39m day \u001B[38;5;241m=\u001B[39m \u001B[38;5;241m1\u001B[39m\n",
      "\u001B[0;31mValueError\u001B[0m: unconverted data remains: :00"
     ]
    }
   ],
   "execution_count": 143
  },
  {
   "metadata": {
    "ExecuteTime": {
     "end_time": "2024-10-10T00:29:47.377100Z",
     "start_time": "2024-10-10T00:29:47.074067Z"
    }
   },
   "cell_type": "code",
   "source": [
    "#calculate time difference in hours\n",
    "#df['hours_diff'] = (df.end_time - df.start_time) / pd.Timedelta(hours=1)\n",
    "\n",
    "# Calcular a diferença em horas entre 'Simulação Início Completo' e 'Simulação Final Completo'\n",
    "novo_df['Delta Horas'] = (novo_df['Simulação Final'] - novo_df['Simulação Início'])/pd.Timedelta(hours=1)"
   ],
   "id": "2d16540c49471e60",
   "outputs": [
    {
     "ename": "TypeError",
     "evalue": "unsupported operand type(s) for -: 'datetime.time' and 'datetime.time'",
     "output_type": "error",
     "traceback": [
      "\u001B[0;31m---------------------------------------------------------------------------\u001B[0m",
      "\u001B[0;31mTypeError\u001B[0m                                 Traceback (most recent call last)",
      "File \u001B[0;32m/Library/Frameworks/Python.framework/Versions/3.11/lib/python3.11/site-packages/pandas/core/ops/array_ops.py:218\u001B[0m, in \u001B[0;36m_na_arithmetic_op\u001B[0;34m(left, right, op, is_cmp)\u001B[0m\n\u001B[1;32m    217\u001B[0m \u001B[38;5;28;01mtry\u001B[39;00m:\n\u001B[0;32m--> 218\u001B[0m     result \u001B[38;5;241m=\u001B[39m \u001B[43mfunc\u001B[49m\u001B[43m(\u001B[49m\u001B[43mleft\u001B[49m\u001B[43m,\u001B[49m\u001B[43m \u001B[49m\u001B[43mright\u001B[49m\u001B[43m)\u001B[49m\n\u001B[1;32m    219\u001B[0m \u001B[38;5;28;01mexcept\u001B[39;00m \u001B[38;5;167;01mTypeError\u001B[39;00m:\n",
      "File \u001B[0;32m/Library/Frameworks/Python.framework/Versions/3.11/lib/python3.11/site-packages/pandas/core/computation/expressions.py:242\u001B[0m, in \u001B[0;36mevaluate\u001B[0;34m(op, a, b, use_numexpr)\u001B[0m\n\u001B[1;32m    240\u001B[0m     \u001B[38;5;28;01mif\u001B[39;00m use_numexpr:\n\u001B[1;32m    241\u001B[0m         \u001B[38;5;66;03m# error: \"None\" not callable\u001B[39;00m\n\u001B[0;32m--> 242\u001B[0m         \u001B[38;5;28;01mreturn\u001B[39;00m \u001B[43m_evaluate\u001B[49m\u001B[43m(\u001B[49m\u001B[43mop\u001B[49m\u001B[43m,\u001B[49m\u001B[43m \u001B[49m\u001B[43mop_str\u001B[49m\u001B[43m,\u001B[49m\u001B[43m \u001B[49m\u001B[43ma\u001B[49m\u001B[43m,\u001B[49m\u001B[43m \u001B[49m\u001B[43mb\u001B[49m\u001B[43m)\u001B[49m  \u001B[38;5;66;03m# type: ignore[misc]\u001B[39;00m\n\u001B[1;32m    243\u001B[0m \u001B[38;5;28;01mreturn\u001B[39;00m _evaluate_standard(op, op_str, a, b)\n",
      "File \u001B[0;32m/Library/Frameworks/Python.framework/Versions/3.11/lib/python3.11/site-packages/pandas/core/computation/expressions.py:73\u001B[0m, in \u001B[0;36m_evaluate_standard\u001B[0;34m(op, op_str, a, b)\u001B[0m\n\u001B[1;32m     72\u001B[0m     _store_test_result(\u001B[38;5;28;01mFalse\u001B[39;00m)\n\u001B[0;32m---> 73\u001B[0m \u001B[38;5;28;01mreturn\u001B[39;00m op(a, b)\n",
      "\u001B[0;31mTypeError\u001B[0m: unsupported operand type(s) for -: 'datetime.time' and 'datetime.time'",
      "\nDuring handling of the above exception, another exception occurred:\n",
      "\u001B[0;31mTypeError\u001B[0m                                 Traceback (most recent call last)",
      "Cell \u001B[0;32mIn[146], line 5\u001B[0m\n\u001B[1;32m      1\u001B[0m \u001B[38;5;66;03m#calculate time difference in hours\u001B[39;00m\n\u001B[1;32m      2\u001B[0m \u001B[38;5;66;03m#df['hours_diff'] = (df.end_time - df.start_time) / pd.Timedelta(hours=1)\u001B[39;00m\n\u001B[1;32m      3\u001B[0m \n\u001B[1;32m      4\u001B[0m \u001B[38;5;66;03m# Calcular a diferença em horas entre 'Simulação Início Completo' e 'Simulação Final Completo'\u001B[39;00m\n\u001B[0;32m----> 5\u001B[0m novo_df[\u001B[38;5;124m'\u001B[39m\u001B[38;5;124mDelta Horas\u001B[39m\u001B[38;5;124m'\u001B[39m] \u001B[38;5;241m=\u001B[39m (\u001B[43mnovo_df\u001B[49m\u001B[43m[\u001B[49m\u001B[38;5;124;43m'\u001B[39;49m\u001B[38;5;124;43mSimulação Final\u001B[39;49m\u001B[38;5;124;43m'\u001B[39;49m\u001B[43m]\u001B[49m\u001B[43m \u001B[49m\u001B[38;5;241;43m-\u001B[39;49m\u001B[43m \u001B[49m\u001B[43mnovo_df\u001B[49m\u001B[43m[\u001B[49m\u001B[38;5;124;43m'\u001B[39;49m\u001B[38;5;124;43mSimulação Início\u001B[39;49m\u001B[38;5;124;43m'\u001B[39;49m\u001B[43m]\u001B[49m)\u001B[38;5;241m/\u001B[39mpd\u001B[38;5;241m.\u001B[39mTimedelta(hours\u001B[38;5;241m=\u001B[39m\u001B[38;5;241m1\u001B[39m)\n",
      "File \u001B[0;32m/Library/Frameworks/Python.framework/Versions/3.11/lib/python3.11/site-packages/pandas/core/ops/common.py:76\u001B[0m, in \u001B[0;36m_unpack_zerodim_and_defer.<locals>.new_method\u001B[0;34m(self, other)\u001B[0m\n\u001B[1;32m     72\u001B[0m             \u001B[38;5;28;01mreturn\u001B[39;00m \u001B[38;5;28mNotImplemented\u001B[39m\n\u001B[1;32m     74\u001B[0m other \u001B[38;5;241m=\u001B[39m item_from_zerodim(other)\n\u001B[0;32m---> 76\u001B[0m \u001B[38;5;28;01mreturn\u001B[39;00m \u001B[43mmethod\u001B[49m\u001B[43m(\u001B[49m\u001B[38;5;28;43mself\u001B[39;49m\u001B[43m,\u001B[49m\u001B[43m \u001B[49m\u001B[43mother\u001B[49m\u001B[43m)\u001B[49m\n",
      "File \u001B[0;32m/Library/Frameworks/Python.framework/Versions/3.11/lib/python3.11/site-packages/pandas/core/arraylike.py:194\u001B[0m, in \u001B[0;36mOpsMixin.__sub__\u001B[0;34m(self, other)\u001B[0m\n\u001B[1;32m    192\u001B[0m \u001B[38;5;129m@unpack_zerodim_and_defer\u001B[39m(\u001B[38;5;124m\"\u001B[39m\u001B[38;5;124m__sub__\u001B[39m\u001B[38;5;124m\"\u001B[39m)\n\u001B[1;32m    193\u001B[0m \u001B[38;5;28;01mdef\u001B[39;00m \u001B[38;5;21m__sub__\u001B[39m(\u001B[38;5;28mself\u001B[39m, other):\n\u001B[0;32m--> 194\u001B[0m     \u001B[38;5;28;01mreturn\u001B[39;00m \u001B[38;5;28;43mself\u001B[39;49m\u001B[38;5;241;43m.\u001B[39;49m\u001B[43m_arith_method\u001B[49m\u001B[43m(\u001B[49m\u001B[43mother\u001B[49m\u001B[43m,\u001B[49m\u001B[43m \u001B[49m\u001B[43moperator\u001B[49m\u001B[38;5;241;43m.\u001B[39;49m\u001B[43msub\u001B[49m\u001B[43m)\u001B[49m\n",
      "File \u001B[0;32m/Library/Frameworks/Python.framework/Versions/3.11/lib/python3.11/site-packages/pandas/core/series.py:6135\u001B[0m, in \u001B[0;36mSeries._arith_method\u001B[0;34m(self, other, op)\u001B[0m\n\u001B[1;32m   6133\u001B[0m \u001B[38;5;28;01mdef\u001B[39;00m \u001B[38;5;21m_arith_method\u001B[39m(\u001B[38;5;28mself\u001B[39m, other, op):\n\u001B[1;32m   6134\u001B[0m     \u001B[38;5;28mself\u001B[39m, other \u001B[38;5;241m=\u001B[39m \u001B[38;5;28mself\u001B[39m\u001B[38;5;241m.\u001B[39m_align_for_op(other)\n\u001B[0;32m-> 6135\u001B[0m     \u001B[38;5;28;01mreturn\u001B[39;00m \u001B[43mbase\u001B[49m\u001B[38;5;241;43m.\u001B[39;49m\u001B[43mIndexOpsMixin\u001B[49m\u001B[38;5;241;43m.\u001B[39;49m\u001B[43m_arith_method\u001B[49m\u001B[43m(\u001B[49m\u001B[38;5;28;43mself\u001B[39;49m\u001B[43m,\u001B[49m\u001B[43m \u001B[49m\u001B[43mother\u001B[49m\u001B[43m,\u001B[49m\u001B[43m \u001B[49m\u001B[43mop\u001B[49m\u001B[43m)\u001B[49m\n",
      "File \u001B[0;32m/Library/Frameworks/Python.framework/Versions/3.11/lib/python3.11/site-packages/pandas/core/base.py:1382\u001B[0m, in \u001B[0;36mIndexOpsMixin._arith_method\u001B[0;34m(self, other, op)\u001B[0m\n\u001B[1;32m   1379\u001B[0m     rvalues \u001B[38;5;241m=\u001B[39m np\u001B[38;5;241m.\u001B[39marange(rvalues\u001B[38;5;241m.\u001B[39mstart, rvalues\u001B[38;5;241m.\u001B[39mstop, rvalues\u001B[38;5;241m.\u001B[39mstep)\n\u001B[1;32m   1381\u001B[0m \u001B[38;5;28;01mwith\u001B[39;00m np\u001B[38;5;241m.\u001B[39merrstate(\u001B[38;5;28mall\u001B[39m\u001B[38;5;241m=\u001B[39m\u001B[38;5;124m\"\u001B[39m\u001B[38;5;124mignore\u001B[39m\u001B[38;5;124m\"\u001B[39m):\n\u001B[0;32m-> 1382\u001B[0m     result \u001B[38;5;241m=\u001B[39m \u001B[43mops\u001B[49m\u001B[38;5;241;43m.\u001B[39;49m\u001B[43marithmetic_op\u001B[49m\u001B[43m(\u001B[49m\u001B[43mlvalues\u001B[49m\u001B[43m,\u001B[49m\u001B[43m \u001B[49m\u001B[43mrvalues\u001B[49m\u001B[43m,\u001B[49m\u001B[43m \u001B[49m\u001B[43mop\u001B[49m\u001B[43m)\u001B[49m\n\u001B[1;32m   1384\u001B[0m \u001B[38;5;28;01mreturn\u001B[39;00m \u001B[38;5;28mself\u001B[39m\u001B[38;5;241m.\u001B[39m_construct_result(result, name\u001B[38;5;241m=\u001B[39mres_name)\n",
      "File \u001B[0;32m/Library/Frameworks/Python.framework/Versions/3.11/lib/python3.11/site-packages/pandas/core/ops/array_ops.py:283\u001B[0m, in \u001B[0;36marithmetic_op\u001B[0;34m(left, right, op)\u001B[0m\n\u001B[1;32m    279\u001B[0m     _bool_arith_check(op, left, right)  \u001B[38;5;66;03m# type: ignore[arg-type]\u001B[39;00m\n\u001B[1;32m    281\u001B[0m     \u001B[38;5;66;03m# error: Argument 1 to \"_na_arithmetic_op\" has incompatible type\u001B[39;00m\n\u001B[1;32m    282\u001B[0m     \u001B[38;5;66;03m# \"Union[ExtensionArray, ndarray[Any, Any]]\"; expected \"ndarray[Any, Any]\"\u001B[39;00m\n\u001B[0;32m--> 283\u001B[0m     res_values \u001B[38;5;241m=\u001B[39m \u001B[43m_na_arithmetic_op\u001B[49m\u001B[43m(\u001B[49m\u001B[43mleft\u001B[49m\u001B[43m,\u001B[49m\u001B[43m \u001B[49m\u001B[43mright\u001B[49m\u001B[43m,\u001B[49m\u001B[43m \u001B[49m\u001B[43mop\u001B[49m\u001B[43m)\u001B[49m  \u001B[38;5;66;03m# type: ignore[arg-type]\u001B[39;00m\n\u001B[1;32m    285\u001B[0m \u001B[38;5;28;01mreturn\u001B[39;00m res_values\n",
      "File \u001B[0;32m/Library/Frameworks/Python.framework/Versions/3.11/lib/python3.11/site-packages/pandas/core/ops/array_ops.py:227\u001B[0m, in \u001B[0;36m_na_arithmetic_op\u001B[0;34m(left, right, op, is_cmp)\u001B[0m\n\u001B[1;32m    219\u001B[0m \u001B[38;5;28;01mexcept\u001B[39;00m \u001B[38;5;167;01mTypeError\u001B[39;00m:\n\u001B[1;32m    220\u001B[0m     \u001B[38;5;28;01mif\u001B[39;00m \u001B[38;5;129;01mnot\u001B[39;00m is_cmp \u001B[38;5;129;01mand\u001B[39;00m (\n\u001B[1;32m    221\u001B[0m         left\u001B[38;5;241m.\u001B[39mdtype \u001B[38;5;241m==\u001B[39m \u001B[38;5;28mobject\u001B[39m \u001B[38;5;129;01mor\u001B[39;00m \u001B[38;5;28mgetattr\u001B[39m(right, \u001B[38;5;124m\"\u001B[39m\u001B[38;5;124mdtype\u001B[39m\u001B[38;5;124m\"\u001B[39m, \u001B[38;5;28;01mNone\u001B[39;00m) \u001B[38;5;241m==\u001B[39m \u001B[38;5;28mobject\u001B[39m\n\u001B[1;32m    222\u001B[0m     ):\n\u001B[0;32m   (...)\u001B[0m\n\u001B[1;32m    225\u001B[0m         \u001B[38;5;66;03m# Don't do this for comparisons, as that will handle complex numbers\u001B[39;00m\n\u001B[1;32m    226\u001B[0m         \u001B[38;5;66;03m#  incorrectly, see GH#32047\u001B[39;00m\n\u001B[0;32m--> 227\u001B[0m         result \u001B[38;5;241m=\u001B[39m \u001B[43m_masked_arith_op\u001B[49m\u001B[43m(\u001B[49m\u001B[43mleft\u001B[49m\u001B[43m,\u001B[49m\u001B[43m \u001B[49m\u001B[43mright\u001B[49m\u001B[43m,\u001B[49m\u001B[43m \u001B[49m\u001B[43mop\u001B[49m\u001B[43m)\u001B[49m\n\u001B[1;32m    228\u001B[0m     \u001B[38;5;28;01melse\u001B[39;00m:\n\u001B[1;32m    229\u001B[0m         \u001B[38;5;28;01mraise\u001B[39;00m\n",
      "File \u001B[0;32m/Library/Frameworks/Python.framework/Versions/3.11/lib/python3.11/site-packages/pandas/core/ops/array_ops.py:163\u001B[0m, in \u001B[0;36m_masked_arith_op\u001B[0;34m(x, y, op)\u001B[0m\n\u001B[1;32m    161\u001B[0m     \u001B[38;5;66;03m# See GH#5284, GH#5035, GH#19448 for historical reference\u001B[39;00m\n\u001B[1;32m    162\u001B[0m     \u001B[38;5;28;01mif\u001B[39;00m mask\u001B[38;5;241m.\u001B[39many():\n\u001B[0;32m--> 163\u001B[0m         result[mask] \u001B[38;5;241m=\u001B[39m \u001B[43mop\u001B[49m\u001B[43m(\u001B[49m\u001B[43mxrav\u001B[49m\u001B[43m[\u001B[49m\u001B[43mmask\u001B[49m\u001B[43m]\u001B[49m\u001B[43m,\u001B[49m\u001B[43m \u001B[49m\u001B[43myrav\u001B[49m\u001B[43m[\u001B[49m\u001B[43mmask\u001B[49m\u001B[43m]\u001B[49m\u001B[43m)\u001B[49m\n\u001B[1;32m    165\u001B[0m \u001B[38;5;28;01melse\u001B[39;00m:\n\u001B[1;32m    166\u001B[0m     \u001B[38;5;28;01mif\u001B[39;00m \u001B[38;5;129;01mnot\u001B[39;00m is_scalar(y):\n",
      "\u001B[0;31mTypeError\u001B[0m: unsupported operand type(s) for -: 'datetime.time' and 'datetime.time'"
     ]
    }
   ],
   "execution_count": 146
  },
  {
   "metadata": {},
   "cell_type": "code",
   "outputs": [],
   "execution_count": null,
   "source": "",
   "id": "f7b2ddf8417bb984"
  }
 ],
 "metadata": {
  "kernelspec": {
   "display_name": "Python 3",
   "language": "python",
   "name": "python3"
  },
  "language_info": {
   "codemirror_mode": {
    "name": "ipython",
    "version": 2
   },
   "file_extension": ".py",
   "mimetype": "text/x-python",
   "name": "python",
   "nbconvert_exporter": "python",
   "pygments_lexer": "ipython2",
   "version": "2.7.6"
  }
 },
 "nbformat": 4,
 "nbformat_minor": 5
}
