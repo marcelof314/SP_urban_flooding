{
 "cells": [
  {
   "cell_type": "code",
   "execution_count": null,
   "id": "initial_id",
   "metadata": {
    "collapsed": true
   },
   "outputs": [],
   "source": [
    ""
   ]
  },
  {
   "metadata": {},
   "cell_type": "markdown",
   "source": "### Bibliotecas",
   "id": "89d89f4728ad38aa"
  },
  {
   "metadata": {},
   "cell_type": "markdown",
   "source": "### Localização dos arquivos",
   "id": "a470c1d090316e85"
  },
  {
   "metadata": {},
   "cell_type": "markdown",
   "source": "### Carregamento e validações dos incidentes do Geosampa",
   "id": "9a8816eb449b3e98"
  },
  {
   "metadata": {},
   "cell_type": "markdown",
   "source": "### Carregamento e validações dos dados de alagamento do CGE-SP",
   "id": "d758be3e3c9d25bb"
  },
  {
   "metadata": {},
   "cell_type": "markdown",
   "source": "### Validações cruzadas entre GeoSampa e CGE-SP",
   "id": "e7982b28653a9436"
  },
  {
   "metadata": {},
   "cell_type": "markdown",
   "source": "### Preparação dos pacotes de simulação",
   "id": "cfba6ec8390dae28"
  },
  {
   "metadata": {},
   "cell_type": "code",
   "outputs": [],
   "execution_count": null,
   "source": "",
   "id": "43f87bd095e1f1e4"
  }
 ],
 "metadata": {
  "kernelspec": {
   "display_name": "Python 3",
   "language": "python",
   "name": "python3"
  },
  "language_info": {
   "codemirror_mode": {
    "name": "ipython",
    "version": 2
   },
   "file_extension": ".py",
   "mimetype": "text/x-python",
   "name": "python",
   "nbconvert_exporter": "python",
   "pygments_lexer": "ipython2",
   "version": "2.7.6"
  }
 },
 "nbformat": 4,
 "nbformat_minor": 5
}
