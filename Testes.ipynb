{
 "cells": [
  {
   "cell_type": "code",
   "id": "initial_id",
   "metadata": {
    "ExecuteTime": {
     "end_time": "2025-01-26T20:57:20.541758Z",
     "start_time": "2025-01-26T20:57:20.404258Z"
    }
   },
   "source": [
    "import osmnx as ox"
   ],
   "outputs": [
    {
     "ename": "ImportError",
     "evalue": "cannot import name 'TopologicalError' from 'shapely.geos' (/usr/local/lib/python3.9/site-packages/shapely/geos.py)",
     "output_type": "error",
     "traceback": [
      "\u001B[0;31m---------------------------------------------------------------------------\u001B[0m",
      "\u001B[0;31mImportError\u001B[0m                               Traceback (most recent call last)",
      "Cell \u001B[0;32mIn [8], line 1\u001B[0m\n\u001B[0;32m----> 1\u001B[0m \u001B[38;5;28;01mimport\u001B[39;00m \u001B[38;5;21;01mosmnx\u001B[39;00m \u001B[38;5;28;01mas\u001B[39;00m \u001B[38;5;21;01mox\u001B[39;00m\n",
      "File \u001B[0;32m/usr/local/lib/python3.9/site-packages/osmnx/__init__.py:3\u001B[0m\n\u001B[1;32m      1\u001B[0m \u001B[38;5;124;03m\"\"\"OSMnx init.\"\"\"\u001B[39;00m\n\u001B[0;32m----> 3\u001B[0m \u001B[38;5;28;01mfrom\u001B[39;00m \u001B[38;5;21;01m.\u001B[39;00m\u001B[38;5;21;01m_api\u001B[39;00m \u001B[38;5;28;01mimport\u001B[39;00m \u001B[38;5;241m*\u001B[39m\n\u001B[1;32m      4\u001B[0m \u001B[38;5;28;01mfrom\u001B[39;00m \u001B[38;5;21;01m.\u001B[39;00m\u001B[38;5;21;01m_version\u001B[39;00m \u001B[38;5;28;01mimport\u001B[39;00m __version__\n",
      "File \u001B[0;32m/usr/local/lib/python3.9/site-packages/osmnx/_api.py:17\u001B[0m\n\u001B[1;32m     15\u001B[0m \u001B[38;5;28;01mfrom\u001B[39;00m \u001B[38;5;21;01m.\u001B[39;00m\u001B[38;5;21;01mgeocoder\u001B[39;00m \u001B[38;5;28;01mimport\u001B[39;00m geocode\n\u001B[1;32m     16\u001B[0m \u001B[38;5;28;01mfrom\u001B[39;00m \u001B[38;5;21;01m.\u001B[39;00m\u001B[38;5;21;01mgeocoder\u001B[39;00m \u001B[38;5;28;01mimport\u001B[39;00m geocode_to_gdf\n\u001B[0;32m---> 17\u001B[0m \u001B[38;5;28;01mfrom\u001B[39;00m \u001B[38;5;21;01m.\u001B[39;00m\u001B[38;5;21;01mgeometries\u001B[39;00m \u001B[38;5;28;01mimport\u001B[39;00m geometries_from_address\n\u001B[1;32m     18\u001B[0m \u001B[38;5;28;01mfrom\u001B[39;00m \u001B[38;5;21;01m.\u001B[39;00m\u001B[38;5;21;01mgeometries\u001B[39;00m \u001B[38;5;28;01mimport\u001B[39;00m geometries_from_bbox\n\u001B[1;32m     19\u001B[0m \u001B[38;5;28;01mfrom\u001B[39;00m \u001B[38;5;21;01m.\u001B[39;00m\u001B[38;5;21;01mgeometries\u001B[39;00m \u001B[38;5;28;01mimport\u001B[39;00m geometries_from_place\n",
      "File \u001B[0;32m/usr/local/lib/python3.9/site-packages/osmnx/geometries.py:21\u001B[0m\n\u001B[1;32m     19\u001B[0m \u001B[38;5;28;01mfrom\u001B[39;00m \u001B[38;5;21;01mshapely\u001B[39;00m\u001B[38;5;21;01m.\u001B[39;00m\u001B[38;5;21;01mgeometry\u001B[39;00m \u001B[38;5;28;01mimport\u001B[39;00m Point\n\u001B[1;32m     20\u001B[0m \u001B[38;5;28;01mfrom\u001B[39;00m \u001B[38;5;21;01mshapely\u001B[39;00m\u001B[38;5;21;01m.\u001B[39;00m\u001B[38;5;21;01mgeometry\u001B[39;00m \u001B[38;5;28;01mimport\u001B[39;00m Polygon\n\u001B[0;32m---> 21\u001B[0m \u001B[38;5;28;01mfrom\u001B[39;00m \u001B[38;5;21;01mshapely\u001B[39;00m\u001B[38;5;21;01m.\u001B[39;00m\u001B[38;5;21;01mgeos\u001B[39;00m \u001B[38;5;28;01mimport\u001B[39;00m TopologicalError\n\u001B[1;32m     22\u001B[0m \u001B[38;5;28;01mfrom\u001B[39;00m \u001B[38;5;21;01mshapely\u001B[39;00m\u001B[38;5;21;01m.\u001B[39;00m\u001B[38;5;21;01mops\u001B[39;00m \u001B[38;5;28;01mimport\u001B[39;00m linemerge\n\u001B[1;32m     23\u001B[0m \u001B[38;5;28;01mfrom\u001B[39;00m \u001B[38;5;21;01mshapely\u001B[39;00m\u001B[38;5;21;01m.\u001B[39;00m\u001B[38;5;21;01mops\u001B[39;00m \u001B[38;5;28;01mimport\u001B[39;00m polygonize\n",
      "\u001B[0;31mImportError\u001B[0m: cannot import name 'TopologicalError' from 'shapely.geos' (/usr/local/lib/python3.9/site-packages/shapely/geos.py)"
     ]
    }
   ],
   "execution_count": 8
  },
  {
   "cell_type": "code",
   "id": "963cd0d61a0697cf",
   "metadata": {
    "ExecuteTime": {
     "end_time": "2025-01-26T20:57:33.544698Z",
     "start_time": "2025-01-26T20:57:33.287934Z"
    }
   },
   "source": [
    "import networkx as nx"
   ],
   "outputs": [],
   "execution_count": 1
  },
  {
   "cell_type": "code",
   "execution_count": 4,
   "id": "7048c0294ac57356",
   "metadata": {
    "ExecuteTime": {
     "end_time": "2025-01-26T20:33:46.956448Z",
     "start_time": "2025-01-26T20:33:46.951782Z"
    }
   },
   "outputs": [],
   "source": [
    "from shapely.errors import TopologicalError"
   ]
  },
  {
   "cell_type": "code",
   "execution_count": 7,
   "id": "df1b36a0-0b43-4a51-b9f3-080d47af1774",
   "metadata": {},
   "outputs": [
    {
     "ename": "ImportError",
     "evalue": "cannot import name 'GEOSException' from 'shapely.errors' (/Library/Frameworks/Python.framework/Versions/3.11/lib/python3.11/site-packages/shapely/errors.py)",
     "output_type": "error",
     "traceback": [
      "\u001B[0;31m---------------------------------------------------------------------------\u001B[0m",
      "\u001B[0;31mImportError\u001B[0m                               Traceback (most recent call last)",
      "Cell \u001B[0;32mIn[7], line 1\u001B[0m\n\u001B[0;32m----> 1\u001B[0m \u001B[38;5;28;01mfrom\u001B[39;00m\u001B[38;5;250m \u001B[39m\u001B[38;5;21;01mshapely\u001B[39;00m\u001B[38;5;21;01m.\u001B[39;00m\u001B[38;5;21;01merrors\u001B[39;00m\u001B[38;5;250m \u001B[39m\u001B[38;5;28;01mimport\u001B[39;00m GEOSException\n",
      "\u001B[0;31mImportError\u001B[0m: cannot import name 'GEOSException' from 'shapely.errors' (/Library/Frameworks/Python.framework/Versions/3.11/lib/python3.11/site-packages/shapely/errors.py)"
     ]
    }
   ],
   "source": [
    "from shapely.errors import GEOSException"
   ]
  },
  {
   "cell_type": "code",
   "id": "62465660-e3ab-4495-9d57-8dfefa563ca0",
   "metadata": {
    "ExecuteTime": {
     "end_time": "2025-01-26T20:57:49.802860Z",
     "start_time": "2025-01-26T20:57:46.976313Z"
    }
   },
   "source": [
    "import osmnx as ox"
   ],
   "outputs": [
    {
     "ename": "ImportError",
     "evalue": "cannot import name 'TopologicalError' from 'shapely.geos' (/usr/local/lib/python3.9/site-packages/shapely/geos.py)",
     "output_type": "error",
     "traceback": [
      "\u001B[0;31m---------------------------------------------------------------------------\u001B[0m",
      "\u001B[0;31mImportError\u001B[0m                               Traceback (most recent call last)",
      "Cell \u001B[0;32mIn [3], line 1\u001B[0m\n\u001B[0;32m----> 1\u001B[0m \u001B[38;5;28;01mimport\u001B[39;00m \u001B[38;5;21;01mosmnx\u001B[39;00m \u001B[38;5;28;01mas\u001B[39;00m \u001B[38;5;21;01mox\u001B[39;00m\n",
      "File \u001B[0;32m/usr/local/lib/python3.9/site-packages/osmnx/__init__.py:3\u001B[0m\n\u001B[1;32m      1\u001B[0m \u001B[38;5;124;03m\"\"\"OSMnx init.\"\"\"\u001B[39;00m\n\u001B[0;32m----> 3\u001B[0m \u001B[38;5;28;01mfrom\u001B[39;00m \u001B[38;5;21;01m.\u001B[39;00m\u001B[38;5;21;01m_api\u001B[39;00m \u001B[38;5;28;01mimport\u001B[39;00m \u001B[38;5;241m*\u001B[39m\n\u001B[1;32m      4\u001B[0m \u001B[38;5;28;01mfrom\u001B[39;00m \u001B[38;5;21;01m.\u001B[39;00m\u001B[38;5;21;01m_version\u001B[39;00m \u001B[38;5;28;01mimport\u001B[39;00m __version__\n",
      "File \u001B[0;32m/usr/local/lib/python3.9/site-packages/osmnx/_api.py:17\u001B[0m\n\u001B[1;32m     15\u001B[0m \u001B[38;5;28;01mfrom\u001B[39;00m \u001B[38;5;21;01m.\u001B[39;00m\u001B[38;5;21;01mgeocoder\u001B[39;00m \u001B[38;5;28;01mimport\u001B[39;00m geocode\n\u001B[1;32m     16\u001B[0m \u001B[38;5;28;01mfrom\u001B[39;00m \u001B[38;5;21;01m.\u001B[39;00m\u001B[38;5;21;01mgeocoder\u001B[39;00m \u001B[38;5;28;01mimport\u001B[39;00m geocode_to_gdf\n\u001B[0;32m---> 17\u001B[0m \u001B[38;5;28;01mfrom\u001B[39;00m \u001B[38;5;21;01m.\u001B[39;00m\u001B[38;5;21;01mgeometries\u001B[39;00m \u001B[38;5;28;01mimport\u001B[39;00m geometries_from_address\n\u001B[1;32m     18\u001B[0m \u001B[38;5;28;01mfrom\u001B[39;00m \u001B[38;5;21;01m.\u001B[39;00m\u001B[38;5;21;01mgeometries\u001B[39;00m \u001B[38;5;28;01mimport\u001B[39;00m geometries_from_bbox\n\u001B[1;32m     19\u001B[0m \u001B[38;5;28;01mfrom\u001B[39;00m \u001B[38;5;21;01m.\u001B[39;00m\u001B[38;5;21;01mgeometries\u001B[39;00m \u001B[38;5;28;01mimport\u001B[39;00m geometries_from_place\n",
      "File \u001B[0;32m/usr/local/lib/python3.9/site-packages/osmnx/geometries.py:21\u001B[0m\n\u001B[1;32m     19\u001B[0m \u001B[38;5;28;01mfrom\u001B[39;00m \u001B[38;5;21;01mshapely\u001B[39;00m\u001B[38;5;21;01m.\u001B[39;00m\u001B[38;5;21;01mgeometry\u001B[39;00m \u001B[38;5;28;01mimport\u001B[39;00m Point\n\u001B[1;32m     20\u001B[0m \u001B[38;5;28;01mfrom\u001B[39;00m \u001B[38;5;21;01mshapely\u001B[39;00m\u001B[38;5;21;01m.\u001B[39;00m\u001B[38;5;21;01mgeometry\u001B[39;00m \u001B[38;5;28;01mimport\u001B[39;00m Polygon\n\u001B[0;32m---> 21\u001B[0m \u001B[38;5;28;01mfrom\u001B[39;00m \u001B[38;5;21;01mshapely\u001B[39;00m\u001B[38;5;21;01m.\u001B[39;00m\u001B[38;5;21;01mgeos\u001B[39;00m \u001B[38;5;28;01mimport\u001B[39;00m TopologicalError\n\u001B[1;32m     22\u001B[0m \u001B[38;5;28;01mfrom\u001B[39;00m \u001B[38;5;21;01mshapely\u001B[39;00m\u001B[38;5;21;01m.\u001B[39;00m\u001B[38;5;21;01mops\u001B[39;00m \u001B[38;5;28;01mimport\u001B[39;00m linemerge\n\u001B[1;32m     23\u001B[0m \u001B[38;5;28;01mfrom\u001B[39;00m \u001B[38;5;21;01mshapely\u001B[39;00m\u001B[38;5;21;01m.\u001B[39;00m\u001B[38;5;21;01mops\u001B[39;00m \u001B[38;5;28;01mimport\u001B[39;00m polygonize\n",
      "\u001B[0;31mImportError\u001B[0m: cannot import name 'TopologicalError' from 'shapely.geos' (/usr/local/lib/python3.9/site-packages/shapely/geos.py)"
     ]
    }
   ],
   "execution_count": 3
  },
  {
   "cell_type": "code",
   "execution_count": null,
   "id": "0716cdd3-80a2-4d02-b2b6-85dffce75ecd",
   "metadata": {},
   "outputs": [],
   "source": []
  }
 ],
 "metadata": {
  "kernelspec": {
   "display_name": "Python 3 (ipykernel)",
   "language": "python",
   "name": "python3"
  },
  "language_info": {
   "codemirror_mode": {
    "name": "ipython",
    "version": 3
   },
   "file_extension": ".py",
   "mimetype": "text/x-python",
   "name": "python",
   "nbconvert_exporter": "python",
   "pygments_lexer": "ipython3",
   "version": "3.11.2"
  }
 },
 "nbformat": 4,
 "nbformat_minor": 5
}
