{
 "cells": [
  {
   "metadata": {},
   "cell_type": "markdown",
   "source": "### Bibliotecas",
   "id": "f4fb7feb4c4b2045"
  },
  {
   "cell_type": "code",
   "id": "cebfac115598a01a",
   "metadata": {
    "collapsed": true,
    "ExecuteTime": {
     "end_time": "2025-01-31T00:45:07.514594Z",
     "start_time": "2025-01-31T00:45:07.183944Z"
    }
   },
   "source": [
    "import geopandas as gpd\n",
    "import rasterio\n",
    "import matplotlib.pyplot as plt\n",
    "import pandas as pd\n",
    "import re\n",
    "from rasterio.plot import show\n",
    "from matplotlib.widgets import RectangleSelector"
   ],
   "outputs": [],
   "execution_count": 1
  },
  {
   "metadata": {},
   "cell_type": "markdown",
   "source": "### Parâmetros",
   "id": "4bad59ccdc7d2a94"
  },
  {
   "metadata": {
    "ExecuteTime": {
     "end_time": "2025-01-31T00:45:10.702795Z",
     "start_time": "2025-01-31T00:45:10.694913Z"
    }
   },
   "cell_type": "code",
   "source": [
    "raster_file = '/Users/marcelofernandes/Library/CloudStorage/GoogleDrive-marcelo.fernandes@alumni.usp.br/.shortcut-targets-by-id/1M--OnzbTYagrNv5Ss9fjWlBxCMmasz-Y/10_Mestrado_2021_Marcelo Fernandes/9_Dissertação/Resultados/Pacote_01/Raw/pct1_h_max_2768400.tif'\n",
    "gdf_file = '/Users/marcelofernandes/Library/CloudStorage/GoogleDrive-marcelo.fernandes@alumni.usp.br/.shortcut-targets-by-id/1M--OnzbTYagrNv5Ss9fjWlBxCMmasz-Y/10_Mestrado_2021_Marcelo Fernandes/8_Dados/SIRGAS_SHP_riscoocorrencia/SIRGAS_SHP_riscoocorrencia_2023.shp'\n",
    "packages_file = '/Users/marcelofernandes/My Drive/Arquivos/pacotes.simul_2023_1120.xls'"
   ],
   "id": "a23f137ed9902a1b",
   "outputs": [],
   "execution_count": 2
  },
  {
   "metadata": {},
   "cell_type": "markdown",
   "source": "### Funções",
   "id": "fab6ac77e0741775"
  },
  {
   "metadata": {
    "ExecuteTime": {
     "end_time": "2025-01-31T00:45:12.837138Z",
     "start_time": "2025-01-31T00:45:12.819284Z"
    }
   },
   "cell_type": "code",
   "source": [
    "def extract_package_and_date(raster_filename, packages_file):\n",
    "    # Extrair número do pacote do nome do arquivo\n",
    "    match = re.search(r\"pct(\\d+)\", raster_filename)\n",
    "    if not match:\n",
    "        raise ValueError(f\"Nome do arquivo inválido: {raster_filename}\")\n",
    "    \n",
    "    package_number = int(match.group(1))\n",
    "    \n",
    "    # Carregar informações dos pacotes\n",
    "    packages = pd.read_excel(packages_file, engine='openpyxl')\n",
    "    if \"Pacote\" not in packages.columns or \"Data evento\" not in packages.columns:\n",
    "        raise ValueError(\"Arquivo de pacotes deve conter colunas 'Pacote' e 'Data evento'.\")\n",
    "    \n",
    "    # Localizar a data correspondente ao pacote\n",
    "    package_info = packages.loc[packages['Pacote'] == package_number]\n",
    "    if package_info.empty:\n",
    "        raise ValueError(f\"Pacote {package_number} não encontrado no arquivo de pacotes.\")\n",
    "    \n",
    "    package_date = package_info.iloc[0]['Data evento']\n",
    "    return package_date\n",
    "\n",
    "def plot_raster_and_points(raster_file, gdf, package_date, xlim=None, ylim=None):\n",
    "    # Ler o raster\n",
    "    with rasterio.open(raster_file) as src:\n",
    "        raster = src.read(1)\n",
    "        transform = src.transform\n",
    "    \n",
    "    # Filtrar o GeoDataFrame pela data\n",
    "    gdf['data'] = pd.to_datetime(gdf['data'])  # Garantir que a coluna date seja datetime\n",
    "    filtered_gdf = gdf[gdf['data'] == pd.to_datetime(package_date)]\n",
    "    \n",
    "    # Separar pontos por tipo de ocorrência\n",
    "    alagamento_gdf = filtered_gdf[filtered_gdf['ocorrencia'] == 'ALAGAMENTO']\n",
    "    inundacao_gdf = filtered_gdf[filtered_gdf['ocorrencia'] == 'INUNDACAO']\n",
    "    \n",
    "    # Plotar o raster\n",
    "    fig, ax = plt.subplots(figsize=(10, 10))\n",
    "    raster_image = show(raster, transform=transform, ax=ax, cmap='Blues', title=f\"Raster e pontos para a data {package_date}\")\n",
    "    \n",
    "    # Adicionar escala (colorbar) ao raster\n",
    "    cbar = plt.colorbar(raster_image.get_images()[0], ax=ax, orientation='vertical')\n",
    "    cbar.set_label('Valores do Raster')\n",
    "    \n",
    "    # Plotar os pontos diferenciados\n",
    "    alagamento_gdf.plot(ax=ax, color='red', marker='o', label='Alagamento', alpha=0.7)\n",
    "    inundacao_gdf.plot(ax=ax, color='green', marker='^', label='Inundação', alpha=0.7)\n",
    "    \n",
    "    # Ajustar os limites manualmente\n",
    "    if xlim:\n",
    "        ax.set_xlim(xlim)\n",
    "    if ylim:\n",
    "        ax.set_ylim(ylim)\n",
    "    \n",
    "    # Adicionar legenda\n",
    "    plt.legend()\n",
    "    plt.show()"
   ],
   "id": "d3764a24a1867990",
   "outputs": [],
   "execution_count": 3
  },
  {
   "metadata": {},
   "cell_type": "markdown",
   "source": "### Programa",
   "id": "87a6c8bf2ca18c45"
  },
  {
   "metadata": {
    "ExecuteTime": {
     "end_time": "2025-01-31T00:45:22.969138Z",
     "start_time": "2025-01-31T00:45:20.818246Z"
    }
   },
   "cell_type": "code",
   "source": [
    "# Carregar o GeoDataFrame\n",
    "gdf = gpd.read_file(gdf_file)\n",
    "\n",
    "# Obter a data do pacote\n",
    "package_date = extract_package_and_date(raster_file, packages_file)\n",
    "\n",
    "# Defina os limites manualmente\n",
    "xlim = (320000, 360000)  # Ajuste os limites do eixo X\n",
    "ylim = (7.375e6, 7.405e6)  # Ajuste os limites do eixo Y\n",
    "\n",
    "# Plotar raster e pontos\n",
    "plot_raster_and_points(raster_file, gdf, package_date, xlim, ylim)"
   ],
   "id": "initial_id",
   "outputs": [
    {
     "ename": "ImportError",
     "evalue": "Pandas requires version '3.1.0' or newer of 'openpyxl' (version '3.0.10' currently installed).",
     "output_type": "error",
     "traceback": [
      "\u001B[0;31m---------------------------------------------------------------------------\u001B[0m",
      "\u001B[0;31mImportError\u001B[0m                               Traceback (most recent call last)",
      "Cell \u001B[0;32mIn [4], line 5\u001B[0m\n\u001B[1;32m      2\u001B[0m gdf \u001B[38;5;241m=\u001B[39m gpd\u001B[38;5;241m.\u001B[39mread_file(gdf_file)\n\u001B[1;32m      4\u001B[0m \u001B[38;5;66;03m# Obter a data do pacote\u001B[39;00m\n\u001B[0;32m----> 5\u001B[0m package_date \u001B[38;5;241m=\u001B[39m extract_package_and_date(raster_file, packages_file)\n\u001B[1;32m      7\u001B[0m \u001B[38;5;66;03m# Defina os limites manualmente\u001B[39;00m\n\u001B[1;32m      8\u001B[0m xlim \u001B[38;5;241m=\u001B[39m (\u001B[38;5;241m320000\u001B[39m, \u001B[38;5;241m360000\u001B[39m)  \u001B[38;5;66;03m# Ajuste os limites do eixo X\u001B[39;00m\n",
      "Cell \u001B[0;32mIn [3], line 10\u001B[0m, in \u001B[0;36mextract_package_and_date\u001B[0;34m(raster_filename, packages_file)\u001B[0m\n\u001B[1;32m      7\u001B[0m package_number \u001B[38;5;241m=\u001B[39m \u001B[38;5;28mint\u001B[39m(match\u001B[38;5;241m.\u001B[39mgroup(\u001B[38;5;241m1\u001B[39m))\n\u001B[1;32m      9\u001B[0m \u001B[38;5;66;03m# Carregar informações dos pacotes\u001B[39;00m\n\u001B[0;32m---> 10\u001B[0m packages \u001B[38;5;241m=\u001B[39m \u001B[43mpd\u001B[49m\u001B[38;5;241;43m.\u001B[39;49m\u001B[43mread_excel\u001B[49m\u001B[43m(\u001B[49m\u001B[43mpackages_file\u001B[49m\u001B[43m,\u001B[49m\u001B[43m \u001B[49m\u001B[43mengine\u001B[49m\u001B[38;5;241;43m=\u001B[39;49m\u001B[38;5;124;43m'\u001B[39;49m\u001B[38;5;124;43mopenpyxl\u001B[39;49m\u001B[38;5;124;43m'\u001B[39;49m\u001B[43m)\u001B[49m\n\u001B[1;32m     11\u001B[0m \u001B[38;5;28;01mif\u001B[39;00m \u001B[38;5;124m\"\u001B[39m\u001B[38;5;124mPacote\u001B[39m\u001B[38;5;124m\"\u001B[39m \u001B[38;5;129;01mnot\u001B[39;00m \u001B[38;5;129;01min\u001B[39;00m packages\u001B[38;5;241m.\u001B[39mcolumns \u001B[38;5;129;01mor\u001B[39;00m \u001B[38;5;124m\"\u001B[39m\u001B[38;5;124mData evento\u001B[39m\u001B[38;5;124m\"\u001B[39m \u001B[38;5;129;01mnot\u001B[39;00m \u001B[38;5;129;01min\u001B[39;00m packages\u001B[38;5;241m.\u001B[39mcolumns:\n\u001B[1;32m     12\u001B[0m     \u001B[38;5;28;01mraise\u001B[39;00m \u001B[38;5;167;01mValueError\u001B[39;00m(\u001B[38;5;124m\"\u001B[39m\u001B[38;5;124mArquivo de pacotes deve conter colunas \u001B[39m\u001B[38;5;124m'\u001B[39m\u001B[38;5;124mPacote\u001B[39m\u001B[38;5;124m'\u001B[39m\u001B[38;5;124m e \u001B[39m\u001B[38;5;124m'\u001B[39m\u001B[38;5;124mData evento\u001B[39m\u001B[38;5;124m'\u001B[39m\u001B[38;5;124m.\u001B[39m\u001B[38;5;124m\"\u001B[39m)\n",
      "File \u001B[0;32m/usr/local/lib/python3.9/site-packages/pandas/io/excel/_base.py:495\u001B[0m, in \u001B[0;36mread_excel\u001B[0;34m(io, sheet_name, header, names, index_col, usecols, dtype, engine, converters, true_values, false_values, skiprows, nrows, na_values, keep_default_na, na_filter, verbose, parse_dates, date_parser, date_format, thousands, decimal, comment, skipfooter, storage_options, dtype_backend, engine_kwargs)\u001B[0m\n\u001B[1;32m    493\u001B[0m \u001B[38;5;28;01mif\u001B[39;00m \u001B[38;5;129;01mnot\u001B[39;00m \u001B[38;5;28misinstance\u001B[39m(io, ExcelFile):\n\u001B[1;32m    494\u001B[0m     should_close \u001B[38;5;241m=\u001B[39m \u001B[38;5;28;01mTrue\u001B[39;00m\n\u001B[0;32m--> 495\u001B[0m     io \u001B[38;5;241m=\u001B[39m \u001B[43mExcelFile\u001B[49m\u001B[43m(\u001B[49m\n\u001B[1;32m    496\u001B[0m \u001B[43m        \u001B[49m\u001B[43mio\u001B[49m\u001B[43m,\u001B[49m\n\u001B[1;32m    497\u001B[0m \u001B[43m        \u001B[49m\u001B[43mstorage_options\u001B[49m\u001B[38;5;241;43m=\u001B[39;49m\u001B[43mstorage_options\u001B[49m\u001B[43m,\u001B[49m\n\u001B[1;32m    498\u001B[0m \u001B[43m        \u001B[49m\u001B[43mengine\u001B[49m\u001B[38;5;241;43m=\u001B[39;49m\u001B[43mengine\u001B[49m\u001B[43m,\u001B[49m\n\u001B[1;32m    499\u001B[0m \u001B[43m        \u001B[49m\u001B[43mengine_kwargs\u001B[49m\u001B[38;5;241;43m=\u001B[39;49m\u001B[43mengine_kwargs\u001B[49m\u001B[43m,\u001B[49m\n\u001B[1;32m    500\u001B[0m \u001B[43m    \u001B[49m\u001B[43m)\u001B[49m\n\u001B[1;32m    501\u001B[0m \u001B[38;5;28;01melif\u001B[39;00m engine \u001B[38;5;129;01mand\u001B[39;00m engine \u001B[38;5;241m!=\u001B[39m io\u001B[38;5;241m.\u001B[39mengine:\n\u001B[1;32m    502\u001B[0m     \u001B[38;5;28;01mraise\u001B[39;00m \u001B[38;5;167;01mValueError\u001B[39;00m(\n\u001B[1;32m    503\u001B[0m         \u001B[38;5;124m\"\u001B[39m\u001B[38;5;124mEngine should not be specified when passing \u001B[39m\u001B[38;5;124m\"\u001B[39m\n\u001B[1;32m    504\u001B[0m         \u001B[38;5;124m\"\u001B[39m\u001B[38;5;124man ExcelFile - ExcelFile already has the engine set\u001B[39m\u001B[38;5;124m\"\u001B[39m\n\u001B[1;32m    505\u001B[0m     )\n",
      "File \u001B[0;32m/usr/local/lib/python3.9/site-packages/pandas/io/excel/_base.py:1567\u001B[0m, in \u001B[0;36mExcelFile.__init__\u001B[0;34m(self, path_or_buffer, engine, storage_options, engine_kwargs)\u001B[0m\n\u001B[1;32m   1564\u001B[0m \u001B[38;5;28mself\u001B[39m\u001B[38;5;241m.\u001B[39mengine \u001B[38;5;241m=\u001B[39m engine\n\u001B[1;32m   1565\u001B[0m \u001B[38;5;28mself\u001B[39m\u001B[38;5;241m.\u001B[39mstorage_options \u001B[38;5;241m=\u001B[39m storage_options\n\u001B[0;32m-> 1567\u001B[0m \u001B[38;5;28mself\u001B[39m\u001B[38;5;241m.\u001B[39m_reader \u001B[38;5;241m=\u001B[39m \u001B[38;5;28;43mself\u001B[39;49m\u001B[38;5;241;43m.\u001B[39;49m\u001B[43m_engines\u001B[49m\u001B[43m[\u001B[49m\u001B[43mengine\u001B[49m\u001B[43m]\u001B[49m\u001B[43m(\u001B[49m\n\u001B[1;32m   1568\u001B[0m \u001B[43m    \u001B[49m\u001B[38;5;28;43mself\u001B[39;49m\u001B[38;5;241;43m.\u001B[39;49m\u001B[43m_io\u001B[49m\u001B[43m,\u001B[49m\n\u001B[1;32m   1569\u001B[0m \u001B[43m    \u001B[49m\u001B[43mstorage_options\u001B[49m\u001B[38;5;241;43m=\u001B[39;49m\u001B[43mstorage_options\u001B[49m\u001B[43m,\u001B[49m\n\u001B[1;32m   1570\u001B[0m \u001B[43m    \u001B[49m\u001B[43mengine_kwargs\u001B[49m\u001B[38;5;241;43m=\u001B[39;49m\u001B[43mengine_kwargs\u001B[49m\u001B[43m,\u001B[49m\n\u001B[1;32m   1571\u001B[0m \u001B[43m\u001B[49m\u001B[43m)\u001B[49m\n",
      "File \u001B[0;32m/usr/local/lib/python3.9/site-packages/pandas/io/excel/_openpyxl.py:552\u001B[0m, in \u001B[0;36mOpenpyxlReader.__init__\u001B[0;34m(self, filepath_or_buffer, storage_options, engine_kwargs)\u001B[0m\n\u001B[1;32m    534\u001B[0m \u001B[38;5;129m@doc\u001B[39m(storage_options\u001B[38;5;241m=\u001B[39m_shared_docs[\u001B[38;5;124m\"\u001B[39m\u001B[38;5;124mstorage_options\u001B[39m\u001B[38;5;124m\"\u001B[39m])\n\u001B[1;32m    535\u001B[0m \u001B[38;5;28;01mdef\u001B[39;00m \u001B[38;5;21m__init__\u001B[39m(\n\u001B[1;32m    536\u001B[0m     \u001B[38;5;28mself\u001B[39m,\n\u001B[0;32m   (...)\u001B[0m\n\u001B[1;32m    539\u001B[0m     engine_kwargs: \u001B[38;5;28mdict\u001B[39m \u001B[38;5;241m|\u001B[39m \u001B[38;5;28;01mNone\u001B[39;00m \u001B[38;5;241m=\u001B[39m \u001B[38;5;28;01mNone\u001B[39;00m,\n\u001B[1;32m    540\u001B[0m ) \u001B[38;5;241m-\u001B[39m\u001B[38;5;241m>\u001B[39m \u001B[38;5;28;01mNone\u001B[39;00m:\n\u001B[1;32m    541\u001B[0m     \u001B[38;5;124;03m\"\"\"\u001B[39;00m\n\u001B[1;32m    542\u001B[0m \u001B[38;5;124;03m    Reader using openpyxl engine.\u001B[39;00m\n\u001B[1;32m    543\u001B[0m \n\u001B[0;32m   (...)\u001B[0m\n\u001B[1;32m    550\u001B[0m \u001B[38;5;124;03m        Arbitrary keyword arguments passed to excel engine.\u001B[39;00m\n\u001B[1;32m    551\u001B[0m \u001B[38;5;124;03m    \"\"\"\u001B[39;00m\n\u001B[0;32m--> 552\u001B[0m     \u001B[43mimport_optional_dependency\u001B[49m\u001B[43m(\u001B[49m\u001B[38;5;124;43m\"\u001B[39;49m\u001B[38;5;124;43mopenpyxl\u001B[39;49m\u001B[38;5;124;43m\"\u001B[39;49m\u001B[43m)\u001B[49m\n\u001B[1;32m    553\u001B[0m     \u001B[38;5;28msuper\u001B[39m()\u001B[38;5;241m.\u001B[39m\u001B[38;5;21m__init__\u001B[39m(\n\u001B[1;32m    554\u001B[0m         filepath_or_buffer,\n\u001B[1;32m    555\u001B[0m         storage_options\u001B[38;5;241m=\u001B[39mstorage_options,\n\u001B[1;32m    556\u001B[0m         engine_kwargs\u001B[38;5;241m=\u001B[39mengine_kwargs,\n\u001B[1;32m    557\u001B[0m     )\n",
      "File \u001B[0;32m/usr/local/lib/python3.9/site-packages/pandas/compat/_optional.py:164\u001B[0m, in \u001B[0;36mimport_optional_dependency\u001B[0;34m(name, extra, errors, min_version)\u001B[0m\n\u001B[1;32m    162\u001B[0m     \u001B[38;5;28;01mreturn\u001B[39;00m \u001B[38;5;28;01mNone\u001B[39;00m\n\u001B[1;32m    163\u001B[0m \u001B[38;5;28;01melif\u001B[39;00m errors \u001B[38;5;241m==\u001B[39m \u001B[38;5;124m\"\u001B[39m\u001B[38;5;124mraise\u001B[39m\u001B[38;5;124m\"\u001B[39m:\n\u001B[0;32m--> 164\u001B[0m     \u001B[38;5;28;01mraise\u001B[39;00m \u001B[38;5;167;01mImportError\u001B[39;00m(msg)\n\u001B[1;32m    165\u001B[0m \u001B[38;5;28;01melse\u001B[39;00m:\n\u001B[1;32m    166\u001B[0m     \u001B[38;5;28;01mreturn\u001B[39;00m \u001B[38;5;28;01mNone\u001B[39;00m\n",
      "\u001B[0;31mImportError\u001B[0m: Pandas requires version '3.1.0' or newer of 'openpyxl' (version '3.0.10' currently installed)."
     ]
    }
   ],
   "execution_count": 4
  },
  {
   "metadata": {
    "ExecuteTime": {
     "end_time": "2024-12-08T14:44:42.900735Z",
     "start_time": "2024-12-08T14:44:42.895565Z"
    }
   },
   "cell_type": "code",
   "source": [
    "import matplotlib.pyplot as plt\n",
    "import numpy as np\n",
    "import pandas as pd\n",
    "import geopandas as gpd\n",
    "import rasterio\n",
    "from rasterio.plot import show\n",
    "from shapely.geometry import Point\n",
    "from shapely.ops import unary_union\n",
    "from rasterio.mask import mask\n",
    "from matplotlib.patches import Polygon as mpl_Polygon\n",
    "import matplotlib.patches as mpatches"
   ],
   "id": "b08b93c34440b7e7",
   "outputs": [],
   "execution_count": 95
  },
  {
   "metadata": {
    "ExecuteTime": {
     "end_time": "2024-12-08T14:47:14.131107Z",
     "start_time": "2024-12-08T14:47:14.116140Z"
    }
   },
   "cell_type": "code",
   "source": [
    "def get_max_raster_value_within_buffer(buffer, raster_file, transform):\n",
    "    # Ler o raster\n",
    "    with rasterio.open(raster_file) as src:\n",
    "        # Obter a máscara do raster dentro do buffer\n",
    "        raster_data, _ = mask(src, [buffer], crop=True)\n",
    "        \n",
    "        # Verificar se há dados válidos no raster\n",
    "        if raster_data.size == 0:\n",
    "            return np.nan\n",
    "        \n",
    "        # Retornar o valor máximo dentro do buffer\n",
    "        return np.nanmax(raster_data)\n",
    "\n",
    "\n",
    "def plot_raster_and_points2(raster_file, gdf, package_date, xlim=None, ylim=None):\n",
    "    # Ler o raster\n",
    "    with rasterio.open(raster_file) as src:\n",
    "        raster = src.read(1)\n",
    "        transform = src.transform\n",
    "    \n",
    "    # Filtrar o GeoDataFrame pela data\n",
    "    gdf['data'] = pd.to_datetime(gdf['data'])  # Garantir que a coluna 'data' seja datetime\n",
    "    filtered_gdf = gdf[gdf['data'] == pd.to_datetime(package_date)]\n",
    "    \n",
    "    # Separar pontos por tipo de ocorrência\n",
    "    alagamento_gdf = filtered_gdf[filtered_gdf['ocorrencia'] == 'ALAGAMENTO']\n",
    "    inundacao_gdf = filtered_gdf[filtered_gdf['ocorrencia'] == 'INUNDACAO']\n",
    "    \n",
    "    # Plotar o raster\n",
    "    fig, ax = plt.subplots(figsize=(10, 10))\n",
    "    raster_image = show(raster, transform=transform, ax=ax, cmap='Blues', title=f\"Raster e pontos para a data {package_date}\")\n",
    "    \n",
    "    # Adicionar escala (colorbar) ao raster\n",
    "    cbar = plt.colorbar(raster_image.get_images()[0], ax=ax, orientation='vertical')\n",
    "    cbar.set_label('Valores do Raster')\n",
    "    \n",
    "    # Plotar os pontos diferenciados\n",
    "    alagamento_gdf.plot(ax=ax, color='red', marker='o', label='Alagamento', alpha=0.7)\n",
    "    inundacao_gdf.plot(ax=ax, color='green', marker='^', label='Inundação', alpha=0.7)\n",
    "    \n",
    "    # Ajustar os limites manualmente\n",
    "    if xlim:\n",
    "        ax.set_xlim(xlim)\n",
    "    if ylim:\n",
    "        ax.set_ylim(ylim)\n",
    "\n",
    "    # Adicionar buffers de diferentes tamanhos e calcular o valor máximo do raster\n",
    "    buffer_sizes = [50, 100, 150]  # Tamanhos dos buffers em metros\n",
    "    for _, point in filtered_gdf.iterrows():\n",
    "        # Criar o ponto e gerar os buffers\n",
    "        point_geom = Point(point.geometry.x, point.geometry.y)\n",
    "        \n",
    "        for size in buffer_sizes:\n",
    "            buffer = point_geom.buffer(size)  # Criar buffer em metros\n",
    "            \n",
    "            # Obter o valor máximo dentro do buffer\n",
    "            max_value = get_max_raster_value_within_buffer(buffer, raster_file, transform)\n",
    "            \n",
    "            # Plotar o buffer utilizando o matplotlib\n",
    "            patch = mpl_Polygon(list(buffer.exterior.coords), edgecolor='black', facecolor='none', linestyle='--', linewidth=1)\n",
    "            ax.add_patch(patch)\n",
    "            \n",
    "    # Adicionar legenda\n",
    "    plt.legend()\n",
    "    plt.show()\n"
   ],
   "id": "8d3a8a262b68e0de",
   "outputs": [],
   "execution_count": 100
  },
  {
   "metadata": {
    "ExecuteTime": {
     "end_time": "2025-01-31T00:33:14.961817Z",
     "start_time": "2025-01-31T00:33:13.822686Z"
    }
   },
   "cell_type": "code",
   "source": [
    "# Carregar o GeoDataFrame\n",
    "gdf = gpd.read_file(gdf_file)\n",
    "\n",
    "# Obter a data do pacote\n",
    "package_date = \"2023-02-01\"  # Exemplo de data de pacote\n",
    "\n",
    "# Criar o gráfico com limites manuais\n",
    "plot_raster_and_points2(raster_file, gdf, package_date)"
   ],
   "id": "65e023dab69c8357",
   "outputs": [
    {
     "ename": "NameError",
     "evalue": "name 'gpd' is not defined",
     "output_type": "error",
     "traceback": [
      "\u001B[0;31m---------------------------------------------------------------------------\u001B[0m",
      "\u001B[0;31mNameError\u001B[0m                                 Traceback (most recent call last)",
      "Cell \u001B[0;32mIn [1], line 2\u001B[0m\n\u001B[1;32m      1\u001B[0m \u001B[38;5;66;03m# Carregar o GeoDataFrame\u001B[39;00m\n\u001B[0;32m----> 2\u001B[0m gdf \u001B[38;5;241m=\u001B[39m gpd\u001B[38;5;241m.\u001B[39mread_file(gdf_file)\n\u001B[1;32m      4\u001B[0m \u001B[38;5;66;03m# Obter a data do pacote\u001B[39;00m\n\u001B[1;32m      5\u001B[0m package_date \u001B[38;5;241m=\u001B[39m \u001B[38;5;124m\"\u001B[39m\u001B[38;5;124m2023-02-01\u001B[39m\u001B[38;5;124m\"\u001B[39m  \u001B[38;5;66;03m# Exemplo de data de pacote\u001B[39;00m\n",
      "\u001B[0;31mNameError\u001B[0m: name 'gpd' is not defined"
     ]
    }
   ],
   "execution_count": 1
  },
  {
   "metadata": {
    "ExecuteTime": {
     "end_time": "2024-12-08T14:59:51.791705Z",
     "start_time": "2024-12-08T14:59:51.781452Z"
    }
   },
   "cell_type": "code",
   "source": [
    "import pandas as pd\n",
    "import geopandas as gpd\n",
    "import rasterio\n",
    "from shapely.geometry import Point\n",
    "from rasterio.mask import mask\n",
    "\n",
    "def get_max_raster_value_within_buffer(buffer, raster_file, transform, crs):\n",
    "    # Ler o raster\n",
    "    with rasterio.open(raster_file) as src:\n",
    "        # Obter a máscara do raster dentro do buffer\n",
    "        raster_data, _ = mask(src, [buffer], crop=True)\n",
    "        \n",
    "        # Verificar se há dados válidos no raster\n",
    "        if raster_data.size == 0:\n",
    "            return None  # Retorna None se não houver dados válidos\n",
    "        \n",
    "        # Retornar o valor máximo dentro do buffer\n",
    "        return raster_data.max()\n",
    "\n",
    "\n",
    "def calculate_buffer_values(raster_file, gdf, package_date, buffer_sizes=[50, 100, 150]):\n",
    "    # Verificar se o CRS do GeoDataFrame está definido\n",
    "    if gdf.crs is None:\n",
    "        # Defina um CRS padrão se necessário. Exemplo: EPSG:4326 (WGS 84)\n",
    "        gdf.set_crs(\"EPSG:31983\", allow_override=True, inplace=True)\n",
    "    \n",
    "    # Filtrar o GeoDataFrame pela data\n",
    "    gdf['data'] = pd.to_datetime(gdf['data'])  # Garantir que a coluna 'data' seja datetime\n",
    "    filtered_gdf = gdf[\n",
    "        (gdf['data'] == pd.to_datetime(package_date)) & \n",
    "        (gdf['ocorrencia'].isin(['INUNDACAO', 'ALAGAMENTO']))\n",
    "    ]\n",
    "    \n",
    "    # Inicializar a lista para armazenar os resultados\n",
    "    results = []\n",
    "\n",
    "    # Iterar sobre cada ponto no GeoDataFrame filtrado\n",
    "    for _, point in filtered_gdf.iterrows():\n",
    "        # Criar o ponto\n",
    "        point_geom = Point(point.geometry.x, point.geometry.y)\n",
    "        \n",
    "        # Dicionário para armazenar os valores dos buffers\n",
    "        buffer_values = {'ponto': point.geometry, 'data': package_date}\n",
    "        \n",
    "        # Calcular o valor máximo para cada buffer\n",
    "        for size in buffer_sizes:\n",
    "            buffer = point_geom.buffer(size)  # Criar buffer em metros\n",
    "            max_value = get_max_raster_value_within_buffer(buffer, raster_file, transform=None, crs=gdf.crs)\n",
    "            buffer_values[f'{size}m'] = max_value\n",
    "        \n",
    "        # Adicionar os resultados\n",
    "        results.append(buffer_values)\n",
    "    \n",
    "    # Criar o DataFrame com os resultados\n",
    "    results_df = pd.DataFrame(results)\n",
    "    return results_df"
   ],
   "id": "16e97aa6044f9b61",
   "outputs": [],
   "execution_count": 109
  },
  {
   "metadata": {
    "ExecuteTime": {
     "end_time": "2024-12-12T10:20:46.484338Z",
     "start_time": "2024-12-12T10:20:44.151416Z"
    }
   },
   "cell_type": "code",
   "source": [
    "# Carregar o GeoDataFrame\n",
    "gdf = gpd.read_file(gdf_file)\n",
    "\n",
    "\n",
    "# Obter a data do pacote\n",
    "package_date = \"2023-02-01\"  # Exemplo de data de pacote\n",
    "\n",
    "# Calcular os valores dos buffers e gerar a tabela\n",
    "buffer_sizes = [15, 25, 50, 100, 200]\n",
    "result_table = calculate_buffer_values(raster_file, gdf, package_date, buffer_sizes)\n",
    "\n",
    "# Exibir a tabela\n",
    "print(result_table)\n",
    "\n",
    "# TODO Gerar uma curva de 10 em 10 metros"
   ],
   "id": "54710b3ec2fadada",
   "outputs": [
    {
     "name": "stdout",
     "output_type": "stream",
     "text": [
      "                                            ponto        data       15m  \\\n",
      "0     POINT (334269.7913694795 7400916.230352445)  2023-02-01  0.003131   \n",
      "1      POINT (351422.44166636 7398375.3963587675)  2023-02-01  0.008020   \n",
      "2     POINT (353288.7214289458 7390108.439041629)  2023-02-01  0.001125   \n",
      "3     POINT (350820.9313081987 7402080.448349796)  2023-02-01  0.808137   \n",
      "4    POINT (353084.74381733045 7390212.823735375)  2023-02-01  0.003042   \n",
      "5    POINT (351366.4223829054 7401519.1796476925)  2023-02-01  0.000000   \n",
      "6     POINT (315503.8288970126 7406528.464668743)  2023-02-01  0.001456   \n",
      "7    POINT (351452.58416253945 7385738.889704838)  2023-02-01  0.000000   \n",
      "8    POINT (350360.39155840117 7393708.581422271)  2023-02-01  0.012778   \n",
      "9    POINT (358311.62264842825 7392391.097566412)  2023-02-01  0.000000   \n",
      "10    POINT (351317.6766456178 7399647.223519541)  2023-02-01  0.010584   \n",
      "11    POINT (351419.5787654092 7399619.142117798)  2023-02-01  0.000000   \n",
      "12    POINT (351360.7626856611 7399607.106318244)  2023-02-01  0.007809   \n",
      "13    POINT (351151.024991274 7395887.7199216075)  2023-02-01  0.000000   \n",
      "14   POINT (328955.13483017916 7378677.513728993)  2023-02-01  0.023571   \n",
      "15  POINT (328622.67366576754 7380554.4881795235)  2023-02-01  0.000964   \n",
      "16     POINT (327260.695046225 7380034.727304595)  2023-02-01  0.801817   \n",
      "\n",
      "         25m       50m      100m      200m  \n",
      "0   0.003258  0.004342  0.768603  0.768603  \n",
      "1   0.010165  0.588315  0.588315  0.588315  \n",
      "2   0.001125  0.003651  0.790194  0.790194  \n",
      "3   0.808137  0.965982  1.051988  1.241724  \n",
      "4   0.004271  0.006372  0.012115  0.212496  \n",
      "5   0.071646  0.071646  2.025493  2.025493  \n",
      "6   0.001456  0.001692  0.781827  0.781827  \n",
      "7   0.000000  0.000000  0.000000  0.000000  \n",
      "8   0.012778  0.016161  1.890859  1.890859  \n",
      "9   0.000000  0.000000  0.000000  0.004778  \n",
      "10  0.332610  0.332610  0.332610  0.911931  \n",
      "11  0.017134  0.185781  0.911931  0.911931  \n",
      "12  0.007809  0.185781  0.911931  0.911931  \n",
      "13  1.171460  2.176059  2.256878  2.385932  \n",
      "14  0.023571  0.023571  0.023571  8.084761  \n",
      "15  0.004669  0.281740  0.453298  0.453298  \n",
      "16  0.861531  0.891928  0.941166  1.228842  \n"
     ]
    }
   ],
   "execution_count": 125
  },
  {
   "metadata": {
    "ExecuteTime": {
     "end_time": "2024-12-12T10:10:43.235631Z",
     "start_time": "2024-12-12T10:10:42.956929Z"
    }
   },
   "cell_type": "code",
   "source": "result_table.info()",
   "id": "49715a37b2393265",
   "outputs": [
    {
     "name": "stdout",
     "output_type": "stream",
     "text": [
      "<class 'pandas.core.frame.DataFrame'>\n",
      "RangeIndex: 17 entries, 0 to 16\n",
      "Data columns (total 5 columns):\n",
      " #   Column  Non-Null Count  Dtype  \n",
      "---  ------  --------------  -----  \n",
      " 0   ponto   17 non-null     object \n",
      " 1   data    17 non-null     object \n",
      " 2   50m     17 non-null     float32\n",
      " 3   100m    17 non-null     float32\n",
      " 4   150m    17 non-null     float32\n",
      "dtypes: float32(3), object(2)\n",
      "memory usage: 608.0+ bytes\n"
     ]
    }
   ],
   "execution_count": 112
  },
  {
   "metadata": {
    "ExecuteTime": {
     "end_time": "2024-12-12T10:21:02.475127Z",
     "start_time": "2024-12-12T10:21:02.464033Z"
    }
   },
   "cell_type": "code",
   "source": [
    "print(len(result_table[result_table['15m']>0.3])/len(result_table))\n",
    "print(len(result_table[result_table['25m']>0.3])/len(result_table))\n",
    "print(len(result_table[result_table['50m']>0.3])/len(result_table))\n",
    "print(len(result_table[result_table['100m']>0.3])/len(result_table))\n",
    "print(len(result_table[result_table['200m']>0.3])/len(result_table))"
   ],
   "id": "3cc0900768d448a1",
   "outputs": [
    {
     "name": "stdout",
     "output_type": "stream",
     "text": [
      "0.11764705882352941\n",
      "0.23529411764705882\n",
      "0.29411764705882354\n",
      "0.7647058823529411\n",
      "0.8235294117647058\n"
     ]
    }
   ],
   "execution_count": 126
  },
  {
   "metadata": {
    "ExecuteTime": {
     "end_time": "2024-12-12T10:19:33.386773Z",
     "start_time": "2024-12-12T10:19:33.377697Z"
    }
   },
   "cell_type": "code",
   "source": "len(result_table[result_table['15m']>0.3])/len(result_table)",
   "id": "a6e71a645585463",
   "outputs": [
    {
     "data": {
      "text/plain": [
       "0.11764705882352941"
      ]
     },
     "execution_count": 122,
     "metadata": {},
     "output_type": "execute_result"
    }
   ],
   "execution_count": 122
  },
  {
   "metadata": {},
   "cell_type": "code",
   "outputs": [],
   "execution_count": null,
   "source": "",
   "id": "9f1cb740782f1ae3"
  }
 ],
 "metadata": {
  "kernelspec": {
   "display_name": "Python 3",
   "language": "python",
   "name": "python3"
  },
  "language_info": {
   "codemirror_mode": {
    "name": "ipython",
    "version": 2
   },
   "file_extension": ".py",
   "mimetype": "text/x-python",
   "name": "python",
   "nbconvert_exporter": "python",
   "pygments_lexer": "ipython2",
   "version": "2.7.6"
  }
 },
 "nbformat": 4,
 "nbformat_minor": 5
}
