{
 "cells": [
  {
   "cell_type": "code",
   "execution_count": null,
   "id": "initial_id",
   "metadata": {
    "ExecuteTime": {
     "end_time": "2025-01-26T20:19:28.865423Z",
     "start_time": "2025-01-26T20:19:28.595106Z"
    }
   },
   "outputs": [],
   "source": [
    "import osmnx as ox"
   ]
  },
  {
   "cell_type": "code",
   "execution_count": 2,
   "id": "963cd0d61a0697cf",
   "metadata": {
    "ExecuteTime": {
     "end_time": "2025-01-26T20:20:03.867994Z",
     "start_time": "2025-01-26T20:20:03.863202Z"
    }
   },
   "outputs": [],
   "source": [
    "import networkx as nx"
   ]
  },
  {
   "cell_type": "code",
   "execution_count": 6,
   "id": "9d913ab39657eed6",
   "metadata": {
    "ExecuteTime": {
     "end_time": "2025-01-26T20:20:17.767398Z",
     "start_time": "2025-01-26T20:20:17.762369Z"
    }
   },
   "outputs": [],
   "source": [
    "import shapely"
   ]
  },
  {
   "cell_type": "code",
   "execution_count": 2,
   "id": "61667c29edf80480",
   "metadata": {
    "ExecuteTime": {
     "end_time": "2025-01-26T20:29:54.152678Z",
     "start_time": "2025-01-26T20:29:54.148059Z"
    }
   },
   "outputs": [],
   "source": [
    "import rasterio"
   ]
  },
  {
   "cell_type": "code",
   "execution_count": 4,
   "id": "7048c0294ac57356",
   "metadata": {
    "ExecuteTime": {
     "end_time": "2025-01-26T20:33:46.956448Z",
     "start_time": "2025-01-26T20:33:46.951782Z"
    }
   },
   "outputs": [],
   "source": [
    "from shapely.errors import TopologicalError"
   ]
  }
 ],
 "metadata": {
  "kernelspec": {
   "display_name": "Python 3 (ipykernel)",
   "language": "python",
   "name": "python3"
  },
  "language_info": {
   "codemirror_mode": {
    "name": "ipython",
    "version": 3
   },
   "file_extension": ".py",
   "mimetype": "text/x-python",
   "name": "python",
   "nbconvert_exporter": "python",
   "pygments_lexer": "ipython3",
   "version": "3.11.2"
  }
 },
 "nbformat": 4,
 "nbformat_minor": 5
}
