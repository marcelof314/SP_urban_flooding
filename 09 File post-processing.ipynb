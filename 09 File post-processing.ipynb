{
 "cells": [
  {
   "metadata": {},
   "cell_type": "markdown",
   "source": "### Bibliotecas",
   "id": "1ffb6ccb8619f2f5"
  },
  {
   "metadata": {
    "ExecuteTime": {
     "end_time": "2024-11-25T23:10:44.557337Z",
     "start_time": "2024-11-25T23:10:44.553701Z"
    }
   },
   "cell_type": "code",
   "source": [
    "import os\n",
    "import re\n",
    "import shutil\n",
    "import zipfile"
   ],
   "id": "7793d7b24828317d",
   "outputs": [],
   "execution_count": 1
  },
  {
   "metadata": {},
   "cell_type": "markdown",
   "source": "### Parâmetros",
   "id": "7fb0502be72f4c48"
  },
  {
   "metadata": {
    "ExecuteTime": {
     "end_time": "2024-11-25T23:19:45.624091Z",
     "start_time": "2024-11-25T23:19:45.621100Z"
    }
   },
   "cell_type": "code",
   "source": [
    "# Caminhos e arquivo de entrada\n",
    "input_zip_file = r'/Volumes/Dados_na_nuvem/Marcelo/Mestrado PTR/pct1_h_files.zip'\n",
    "output_folder = r'/Users/marcelofernandes/Library/CloudStorage/GoogleDrive-marcelo.fernandes@alumni.usp.br/.shortcut-targets-by-id/1M--OnzbTYagrNv5Ss9fjWlBxCMmasz-Y/10_Mestrado_2021_Marcelo Fernandes/9_Dissertação/Processamento/Processados'"
   ],
   "id": "e4e3427f0b36d6a3",
   "outputs": [],
   "execution_count": 7
  },
  {
   "metadata": {
    "ExecuteTime": {
     "end_time": "2024-11-25T23:10:51.592901Z",
     "start_time": "2024-11-25T23:10:51.580621Z"
    }
   },
   "cell_type": "code",
   "source": [
    "# Função para checar acessibilidade de um arquivo\n",
    "def check_file_accessibility(file_path):\n",
    "    if not os.path.exists(file_path):\n",
    "        raise FileNotFoundError(f\"Erro: O arquivo '{file_path}' não foi encontrado.\")\n",
    "    if not os.access(file_path, os.R_OK):\n",
    "        raise PermissionError(f\"Erro: O arquivo '{file_path}' não possui permissão de leitura.\")\n",
    "    print(f\"Arquivo '{file_path}' está acessível para leitura.\")\n",
    "\n",
    "# Função para checar integridade de um arquivo zip\n",
    "def check_zip_integrity(zip_path):\n",
    "    try:\n",
    "        with zipfile.ZipFile(zip_path, 'r') as zip_ref:\n",
    "            if not zip_ref.namelist():\n",
    "                raise ValueError(f\"Erro: O arquivo zip '{zip_path}' está vazio.\")\n",
    "            print(f\"O arquivo zip '{zip_path}' é válido e contém arquivos.\")\n",
    "    except zipfile.BadZipFile:\n",
    "        raise ValueError(f\"Erro: O arquivo zip '{zip_path}' está corrompido.\")\n",
    "\n",
    "# Função para checar acessibilidade do diretório de saída\n",
    "def check_output_directory(output_dir):\n",
    "    if not os.path.exists(output_dir):\n",
    "        try:\n",
    "            os.makedirs(output_dir)\n",
    "            print(f\"Diretório de saída '{output_dir}' foi criado com sucesso.\")\n",
    "        except PermissionError:\n",
    "            raise PermissionError(f\"Erro: Sem permissão para criar o diretório '{output_dir}'.\")\n",
    "    elif not os.access(output_dir, os.W_OK):\n",
    "        raise PermissionError(f\"Erro: Sem permissão de escrita no diretório '{output_dir}'.\")\n",
    "    print(f\"Diretório de saída '{output_dir}' está acessível para escrita.\")"
   ],
   "id": "3304beb393bc3995",
   "outputs": [],
   "execution_count": 3
  },
  {
   "metadata": {
    "ExecuteTime": {
     "end_time": "2024-11-25T23:12:23.133166Z",
     "start_time": "2024-11-25T23:12:22.891514Z"
    }
   },
   "cell_type": "code",
   "source": [
    "# Executando as verificações\n",
    "print(\"Realizando verificações de integridade...\")\n",
    "check_file_accessibility(input_zip_file)\n",
    "check_zip_integrity(input_zip_file)\n",
    "check_output_directory(output_folder)\n",
    "print(\"Verificações concluídas. Todos os arquivos e diretórios estão em ordem.\")"
   ],
   "id": "15c57ca3d85df648",
   "outputs": [
    {
     "name": "stdout",
     "output_type": "stream",
     "text": [
      "Realizando verificações de integridade...\n",
      "Arquivo '/Volumes/Dados_na_nuvem/Marcelo/Mestrado PTR/pct1_h_files.zip' está acessível para leitura.\n",
      "O arquivo zip '/Volumes/Dados_na_nuvem/Marcelo/Mestrado PTR/pct1_h_files.zip' é válido e contém arquivos.\n"
     ]
    },
    {
     "ename": "OSError",
     "evalue": "[Errno 22] Invalid argument",
     "output_type": "error",
     "traceback": [
      "\u001B[0;31m---------------------------------------------------------------------------\u001B[0m",
      "\u001B[0;31mOSError\u001B[0m                                   Traceback (most recent call last)",
      "Cell \u001B[0;32mIn[6], line 4\u001B[0m\n\u001B[1;32m      2\u001B[0m \u001B[38;5;28mprint\u001B[39m(\u001B[38;5;124m\"\u001B[39m\u001B[38;5;124mRealizando verificações de integridade...\u001B[39m\u001B[38;5;124m\"\u001B[39m)\n\u001B[1;32m      3\u001B[0m check_file_accessibility(input_zip_file)\n\u001B[0;32m----> 4\u001B[0m \u001B[43mcheck_zip_integrity\u001B[49m\u001B[43m(\u001B[49m\u001B[43minput_zip_file\u001B[49m\u001B[43m)\u001B[49m\n\u001B[1;32m      5\u001B[0m \u001B[38;5;66;03m#check_output_directory(output_folder)\u001B[39;00m\n\u001B[1;32m      6\u001B[0m \u001B[38;5;28mprint\u001B[39m(\u001B[38;5;124m\"\u001B[39m\u001B[38;5;124mVerificações concluídas. Todos os arquivos e diretórios estão em ordem.\u001B[39m\u001B[38;5;124m\"\u001B[39m)\n",
      "Cell \u001B[0;32mIn[3], line 12\u001B[0m, in \u001B[0;36mcheck_zip_integrity\u001B[0;34m(zip_path)\u001B[0m\n\u001B[1;32m     10\u001B[0m \u001B[38;5;28;01mdef\u001B[39;00m \u001B[38;5;21mcheck_zip_integrity\u001B[39m(zip_path):\n\u001B[1;32m     11\u001B[0m     \u001B[38;5;28;01mtry\u001B[39;00m:\n\u001B[0;32m---> 12\u001B[0m \u001B[43m        \u001B[49m\u001B[38;5;28;43;01mwith\u001B[39;49;00m\u001B[43m \u001B[49m\u001B[43mzipfile\u001B[49m\u001B[38;5;241;43m.\u001B[39;49m\u001B[43mZipFile\u001B[49m\u001B[43m(\u001B[49m\u001B[43mzip_path\u001B[49m\u001B[43m,\u001B[49m\u001B[43m \u001B[49m\u001B[38;5;124;43m'\u001B[39;49m\u001B[38;5;124;43mr\u001B[39;49m\u001B[38;5;124;43m'\u001B[39;49m\u001B[43m)\u001B[49m\u001B[43m \u001B[49m\u001B[38;5;28;43;01mas\u001B[39;49;00m\u001B[43m \u001B[49m\u001B[43mzip_ref\u001B[49m\u001B[43m:\u001B[49m\n\u001B[1;32m     13\u001B[0m \u001B[43m            \u001B[49m\u001B[38;5;28;43;01mif\u001B[39;49;00m\u001B[43m \u001B[49m\u001B[38;5;129;43;01mnot\u001B[39;49;00m\u001B[43m \u001B[49m\u001B[43mzip_ref\u001B[49m\u001B[38;5;241;43m.\u001B[39;49m\u001B[43mnamelist\u001B[49m\u001B[43m(\u001B[49m\u001B[43m)\u001B[49m\u001B[43m:\u001B[49m\n\u001B[1;32m     14\u001B[0m \u001B[43m                \u001B[49m\u001B[38;5;28;43;01mraise\u001B[39;49;00m\u001B[43m \u001B[49m\u001B[38;5;167;43;01mValueError\u001B[39;49;00m\u001B[43m(\u001B[49m\u001B[38;5;124;43mf\u001B[39;49m\u001B[38;5;124;43m\"\u001B[39;49m\u001B[38;5;124;43mErro: O arquivo zip \u001B[39;49m\u001B[38;5;124;43m'\u001B[39;49m\u001B[38;5;132;43;01m{\u001B[39;49;00m\u001B[43mzip_path\u001B[49m\u001B[38;5;132;43;01m}\u001B[39;49;00m\u001B[38;5;124;43m'\u001B[39;49m\u001B[38;5;124;43m está vazio.\u001B[39;49m\u001B[38;5;124;43m\"\u001B[39;49m\u001B[43m)\u001B[49m\n",
      "File \u001B[0;32m/Library/Frameworks/Python.framework/Versions/3.11/lib/python3.11/zipfile.py:1342\u001B[0m, in \u001B[0;36mZipFile.__exit__\u001B[0;34m(self, type, value, traceback)\u001B[0m\n\u001B[1;32m   1341\u001B[0m \u001B[38;5;28;01mdef\u001B[39;00m \u001B[38;5;21m__exit__\u001B[39m(\u001B[38;5;28mself\u001B[39m, \u001B[38;5;28mtype\u001B[39m, value, traceback):\n\u001B[0;32m-> 1342\u001B[0m     \u001B[38;5;28;43mself\u001B[39;49m\u001B[38;5;241;43m.\u001B[39;49m\u001B[43mclose\u001B[49m\u001B[43m(\u001B[49m\u001B[43m)\u001B[49m\n",
      "File \u001B[0;32m/Library/Frameworks/Python.framework/Versions/3.11/lib/python3.11/zipfile.py:1892\u001B[0m, in \u001B[0;36mZipFile.close\u001B[0;34m(self)\u001B[0m\n\u001B[1;32m   1890\u001B[0m fp \u001B[38;5;241m=\u001B[39m \u001B[38;5;28mself\u001B[39m\u001B[38;5;241m.\u001B[39mfp\n\u001B[1;32m   1891\u001B[0m \u001B[38;5;28mself\u001B[39m\u001B[38;5;241m.\u001B[39mfp \u001B[38;5;241m=\u001B[39m \u001B[38;5;28;01mNone\u001B[39;00m\n\u001B[0;32m-> 1892\u001B[0m \u001B[38;5;28;43mself\u001B[39;49m\u001B[38;5;241;43m.\u001B[39;49m\u001B[43m_fpclose\u001B[49m\u001B[43m(\u001B[49m\u001B[43mfp\u001B[49m\u001B[43m)\u001B[49m\n",
      "File \u001B[0;32m/Library/Frameworks/Python.framework/Versions/3.11/lib/python3.11/zipfile.py:1992\u001B[0m, in \u001B[0;36mZipFile._fpclose\u001B[0;34m(self, fp)\u001B[0m\n\u001B[1;32m   1990\u001B[0m \u001B[38;5;28mself\u001B[39m\u001B[38;5;241m.\u001B[39m_fileRefCnt \u001B[38;5;241m-\u001B[39m\u001B[38;5;241m=\u001B[39m \u001B[38;5;241m1\u001B[39m\n\u001B[1;32m   1991\u001B[0m \u001B[38;5;28;01mif\u001B[39;00m \u001B[38;5;129;01mnot\u001B[39;00m \u001B[38;5;28mself\u001B[39m\u001B[38;5;241m.\u001B[39m_fileRefCnt \u001B[38;5;129;01mand\u001B[39;00m \u001B[38;5;129;01mnot\u001B[39;00m \u001B[38;5;28mself\u001B[39m\u001B[38;5;241m.\u001B[39m_filePassed:\n\u001B[0;32m-> 1992\u001B[0m     \u001B[43mfp\u001B[49m\u001B[38;5;241;43m.\u001B[39;49m\u001B[43mclose\u001B[49m\u001B[43m(\u001B[49m\u001B[43m)\u001B[49m\n",
      "\u001B[0;31mOSError\u001B[0m: [Errno 22] Invalid argument"
     ]
    }
   ],
   "execution_count": 6
  },
  {
   "metadata": {
    "ExecuteTime": {
     "end_time": "2024-11-25T23:20:16.684422Z",
     "start_time": "2024-11-25T23:20:16.680312Z"
    }
   },
   "cell_type": "code",
   "source": "check_output_directory(output_folder)",
   "id": "bfd21577c42e682b",
   "outputs": [
    {
     "name": "stdout",
     "output_type": "stream",
     "text": [
      "Diretório de saída '/Users/marcelofernandes/Library/CloudStorage/GoogleDrive-marcelo.fernandes@alumni.usp.br/.shortcut-targets-by-id/1M--OnzbTYagrNv5Ss9fjWlBxCMmasz-Y/10_Mestrado_2021_Marcelo Fernandes/9_Dissertação/Processamento/Processados' está acessível para escrita.\n"
     ]
    }
   ],
   "execution_count": 8
  },
  {
   "metadata": {
    "ExecuteTime": {
     "end_time": "2024-11-24T21:17:29.286219Z",
     "start_time": "2024-11-24T19:28:10.005117Z"
    }
   },
   "cell_type": "code",
   "source": [
    "import os\n",
    "import re\n",
    "import shutil\n",
    "import zipfile\n",
    "\n",
    "# Início do processo\n",
    "print(\"Iniciando o processamento do arquivo zipado...\")\n",
    "\n",
    "# Extrair o número do pacote no nome do arquivo zip\n",
    "print(f\"Analisando o nome do arquivo zip: {os.path.basename(input_zip_file)}\")\n",
    "zip_basename = os.path.basename(input_zip_file)\n",
    "match = re.search(r\"pct(\\d{1,2})_\", zip_basename, re.IGNORECASE)\n",
    "if not match:\n",
    "    raise ValueError(\"Erro: O nome do arquivo zip deve conter o padrão 'pctXX_'.\")\n",
    "\n",
    "package_number = match.group(1)\n",
    "raw_files_folder = os.path.join(os.path.dirname(input_zip_file), f\"Pacote_{package_number}\")\n",
    "\n",
    "# Criar diretório para arquivos extraídos\n",
    "print(f\"Criando diretório para os arquivos extraídos: {raw_files_folder}\")\n",
    "os.makedirs(raw_files_folder, exist_ok=True)\n",
    "\n",
    "# Extrair o arquivo zip para o diretório de raw files\n",
    "print(f\"Extraindo os arquivos do zip para o diretório: {raw_files_folder}\")\n",
    "with zipfile.ZipFile(input_zip_file, 'r') as zip_ref:\n",
    "    zip_ref.extractall(raw_files_folder)\n",
    "print(\"Arquivos extraídos com sucesso.\")\n",
    "\n",
    "# Criar a pasta de saída\n",
    "print(f\"Verificando a existência da pasta de saída: {output_folder}\")\n",
    "os.makedirs(output_folder, exist_ok=True)"
   ],
   "id": "b52e0e41fed554af",
   "outputs": [],
   "execution_count": null
  },
  {
   "metadata": {
    "ExecuteTime": {
     "end_time": "2024-11-25T23:26:35.557728Z",
     "start_time": "2024-11-25T23:26:32.246050Z"
    }
   },
   "cell_type": "code",
   "source": [
    "raw_files_folder = '/Users/marcelofernandes/Library/CloudStorage/GoogleDrive-marcelo.fernandes@alumni.usp.br/.shortcut-targets-by-id/1M--OnzbTYagrNv5Ss9fjWlBxCMmasz-Y/10_Mestrado_2021_Marcelo Fernandes/9_Dissertação/Processamento/pct1_h_files' \n",
    "# Regex para identificar números em notação científica\n",
    "scientific_notation_pattern = re.compile(r'-?\\d+\\.\\d+e[+-]\\d+')\n",
    "\n",
    "# Função para converter notação científica para número inteiro\n",
    "def convert_scientific_to_float(match):\n",
    "    return f\"{float(match.group()):.0f}\"\n",
    "\n",
    "\n",
    "# Processar arquivos extraídos\n",
    "print(\"Iniciando o processamento dos arquivos '.asc'...\")\n",
    "for filename in os.listdir(raw_files_folder):\n",
    "    if filename.endswith(\".asc\"):\n",
    "        print(f\"Processando arquivo: {filename}\")\n",
    "        # Verificar e converter o nome do arquivo\n",
    "        new_filename = scientific_notation_pattern.sub(convert_scientific_to_float, filename)\n",
    "        \n",
    "        # Alterar a extensão do arquivo para .tif\n",
    "        new_filename = os.path.splitext(new_filename)[0] + \".tif\"\n",
    "        \n",
    "        # Caminhos completos do arquivo de origem e destino\n",
    "        src = os.path.join(raw_files_folder, filename)\n",
    "        dst = os.path.join(output_folder, new_filename)\n",
    "        \n",
    "        try:\n",
    "            # Copiar e renomear o arquivo\n",
    "            shutil.copyfile(src, dst)\n",
    "            print(f\"Arquivo '{filename}' copiado e renomeado para '{new_filename}'.\")\n",
    "        except Exception as e:\n",
    "            print(f\"Erro ao processar '{filename}': {e}\")\n",
    "\n",
    "print(\"Processamento dos arquivos '.asc' concluído.\")\n",
    "print(\"Todos os arquivos foram processados com sucesso.\")"
   ],
   "id": "1ff0e59f7d76a783",
   "outputs": [
    {
     "name": "stdout",
     "output_type": "stream",
     "text": [
      "Iniciando o processamento dos arquivos '.asc'...\n",
      "Processando arquivo: pct1_h_2.7648e+06.asc\n",
      "Arquivo 'pct1_h_2.7648e+06.asc' copiado e renomeado para 'pct1_h_2764800.tif'.\n",
      "Processando arquivo: pct1_h_2.736e+06.asc\n",
      "Arquivo 'pct1_h_2.736e+06.asc' copiado e renomeado para 'pct1_h_2736000.tif'.\n",
      "Processando arquivo: pct1_h_2.7396e+06.asc\n",
      "Arquivo 'pct1_h_2.7396e+06.asc' copiado e renomeado para 'pct1_h_2739600.tif'.\n",
      "Processando arquivo: pct1_h_2.754e+06.asc\n",
      "Arquivo 'pct1_h_2.754e+06.asc' copiado e renomeado para 'pct1_h_2754000.tif'.\n",
      "Processando arquivo: pct1_h_2.718e+06.asc\n",
      "Arquivo 'pct1_h_2.718e+06.asc' copiado e renomeado para 'pct1_h_2718000.tif'.\n",
      "Processando arquivo: pct1_h_max_2.7684e+06.asc\n",
      "Arquivo 'pct1_h_max_2.7684e+06.asc' copiado e renomeado para 'pct1_h_max_2768400.tif'.\n",
      "Processando arquivo: pct1_h_2.7468e+06.asc\n",
      "Arquivo 'pct1_h_2.7468e+06.asc' copiado e renomeado para 'pct1_h_2746800.tif'.\n",
      "Processando arquivo: pct1_h_2.6928e+06.asc\n",
      "Arquivo 'pct1_h_2.6928e+06.asc' copiado e renomeado para 'pct1_h_2692800.tif'.\n",
      "Processando arquivo: pct1_h_2.7324e+06.asc\n",
      "Arquivo 'pct1_h_2.7324e+06.asc' copiado e renomeado para 'pct1_h_2732400.tif'.\n",
      "Processando arquivo: pct1_h_2.6964e+06.asc\n",
      "Arquivo 'pct1_h_2.6964e+06.asc' copiado e renomeado para 'pct1_h_2696400.tif'.\n",
      "Processando arquivo: pct1_h_2.7144e+06.asc\n",
      "Arquivo 'pct1_h_2.7144e+06.asc' copiado e renomeado para 'pct1_h_2714400.tif'.\n",
      "Processando arquivo: pct1_h_2.7684e+06.asc\n",
      "Arquivo 'pct1_h_2.7684e+06.asc' copiado e renomeado para 'pct1_h_2768400.tif'.\n",
      "Processando arquivo: pct1_h_2.7612e+06.asc\n",
      "Arquivo 'pct1_h_2.7612e+06.asc' copiado e renomeado para 'pct1_h_2761200.tif'.\n",
      "Processando arquivo: pct1_h_2.7432e+06.asc\n",
      "Arquivo 'pct1_h_2.7432e+06.asc' copiado e renomeado para 'pct1_h_2743200.tif'.\n",
      "Processando arquivo: pct1_h_2.7108e+06.asc\n",
      "Arquivo 'pct1_h_2.7108e+06.asc' copiado e renomeado para 'pct1_h_2710800.tif'.\n",
      "Processando arquivo: pct1_h_2.7036e+06.asc\n",
      "Arquivo 'pct1_h_2.7036e+06.asc' copiado e renomeado para 'pct1_h_2703600.tif'.\n",
      "Processando arquivo: pct1_h_2.7072e+06.asc\n",
      "Arquivo 'pct1_h_2.7072e+06.asc' copiado e renomeado para 'pct1_h_2707200.tif'.\n",
      "Processando arquivo: pct1_h_2.7288e+06.asc\n",
      "Arquivo 'pct1_h_2.7288e+06.asc' copiado e renomeado para 'pct1_h_2728800.tif'.\n",
      "Processando arquivo: pct1_h_2.7e+06.asc\n",
      "Arquivo 'pct1_h_2.7e+06.asc' copiado e renomeado para 'pct1_h_2700000.tif'.\n",
      "Processando arquivo: pct1_h_2.7252e+06.asc\n",
      "Arquivo 'pct1_h_2.7252e+06.asc' copiado e renomeado para 'pct1_h_2725200.tif'.\n",
      "Processando arquivo: pct1_h_2.7216e+06.asc\n",
      "Arquivo 'pct1_h_2.7216e+06.asc' copiado e renomeado para 'pct1_h_2721600.tif'.\n",
      "Processando arquivo: pct1_h_2.7504e+06.asc\n",
      "Arquivo 'pct1_h_2.7504e+06.asc' copiado e renomeado para 'pct1_h_2750400.tif'.\n",
      "Processando arquivo: pct1_h_2.7576e+06.asc\n",
      "Arquivo 'pct1_h_2.7576e+06.asc' copiado e renomeado para 'pct1_h_2757600.tif'.\n",
      "Processamento dos arquivos '.asc' concluído.\n",
      "Todos os arquivos foram processados com sucesso.\n"
     ]
    }
   ],
   "execution_count": 10
  },
  {
   "metadata": {
    "ExecuteTime": {
     "end_time": "2024-11-26T00:50:32.849890Z",
     "start_time": "2024-11-26T00:43:21.360071Z"
    }
   },
   "cell_type": "code",
   "source": [
    "import os\n",
    "import numpy as np\n",
    "import rasterio\n",
    "from rasterio.transform import from_origin\n",
    "from rasterio.crs import CRS\n",
    "\n",
    "# Criar a pasta de saída, se não existir\n",
    "os.makedirs(output_folder, exist_ok=True)\n",
    "\n",
    "# Lista de arquivos .tif\n",
    "tif_files = [file for file in os.listdir(output_folder) if file.endswith('.tif')]\n",
    "\n",
    "# Parâmetros do CRS e transformações\n",
    "target_epsg_code = 31983\n",
    "target_crs = CRS.from_epsg(target_epsg_code)\n",
    "xmin, ymin, xmax, ymax = (313394.4779, 7343769.0758, 360591.7331, 7416126.9551)\n",
    "res = 29.1591\n",
    "transform = from_origin(xmin, ymax, res, res)\n",
    "\n",
    "# Configurações para GeoTIFF\n",
    "geo_tiff_config = {\n",
    "    \"driver\": \"GTiff\",\n",
    "    \"count\": 1,  # Número de bandas\n",
    "    \"dtype\": 'float32',  # Tipo de dados\n",
    "    \"crs\": target_crs,\n",
    "    \"transform\": transform,\n",
    "}\n",
    "\n",
    "print(\"Iniciando a conversão dos arquivos .asc para GeoTIFF...\")\n",
    "\n",
    "# Loop para converter os arquivos .tif\n",
    "for asc_name in tif_files:\n",
    "    asc_path = os.path.join(output_folder, asc_name)\n",
    "    output_name = f\"{os.path.splitext(asc_name)[0]}.tif\"\n",
    "    output_path = os.path.join(output_folder, output_name)\n",
    "    \n",
    "    try:\n",
    "        # Carregar os dados do arquivo .asc\n",
    "        data = np.loadtxt(asc_path, skiprows=6)  # Ajuste skiprows conforme necessário\n",
    "        data = np.maximum(data, 0)  # Substituir valores negativos por 0\n",
    "        \n",
    "        # Atualizar altura e largura no GeoTIFF config\n",
    "        geo_tiff_config.update({\"height\": data.shape[0], \"width\": data.shape[1]})\n",
    "        \n",
    "        # Criar o GeoTIFF\n",
    "        with rasterio.open(output_path, 'w', **geo_tiff_config) as dst:\n",
    "            dst.write(data, 1)\n",
    "        \n",
    "        print(f\"Arquivo convertido: {asc_name} -> {output_name}\")\n",
    "    \n",
    "    except Exception as e:\n",
    "        print(f\"Erro ao processar o arquivo {asc_name}: {e}\")\n",
    "\n",
    "print(\"Conversão concluída com sucesso.\")"
   ],
   "id": "85ccde4f4e374c37",
   "outputs": [
    {
     "name": "stdout",
     "output_type": "stream",
     "text": [
      "Iniciando a conversão dos arquivos .asc para GeoTIFF...\n",
      "Arquivo convertido: pct1_h_2692800.tif -> pct1_h_2692800.tif\n",
      "Arquivo convertido: pct1_h_2768400.tif -> pct1_h_2768400.tif\n",
      "Arquivo convertido: pct1_h_2710800.tif -> pct1_h_2710800.tif\n",
      "Arquivo convertido: pct1_h_2728800.tif -> pct1_h_2728800.tif\n",
      "Arquivo convertido: pct1_h_2750400.tif -> pct1_h_2750400.tif\n",
      "Arquivo convertido: pct1_h_2721600.tif -> pct1_h_2721600.tif\n",
      "Arquivo convertido: pct1_h_2707200.tif -> pct1_h_2707200.tif\n",
      "Arquivo convertido: pct1_h_2703600.tif -> pct1_h_2703600.tif\n",
      "Arquivo convertido: pct1_h_2725200.tif -> pct1_h_2725200.tif\n",
      "Arquivo convertido: pct1_h_2739600.tif -> pct1_h_2739600.tif\n",
      "Arquivo convertido: pct1_h_2754000.tif -> pct1_h_2754000.tif\n",
      "Arquivo convertido: pct1_h_2714400.tif -> pct1_h_2714400.tif\n",
      "Arquivo convertido: pct1_h_2743200.tif -> pct1_h_2743200.tif\n",
      "Arquivo convertido: pct1_h_2696400.tif -> pct1_h_2696400.tif\n",
      "Arquivo convertido: pct1_h_2718000.tif -> pct1_h_2718000.tif\n",
      "Arquivo convertido: pct1_h_2732400.tif -> pct1_h_2732400.tif\n",
      "Arquivo convertido: pct1_h_2746800.tif -> pct1_h_2746800.tif\n",
      "Arquivo convertido: pct1_h_2761200.tif -> pct1_h_2761200.tif\n",
      "Arquivo convertido: pct1_h_max_2768400.tif -> pct1_h_max_2768400.tif\n",
      "Arquivo convertido: pct1_h_2736000.tif -> pct1_h_2736000.tif\n",
      "Arquivo convertido: pct1_h_2700000.tif -> pct1_h_2700000.tif\n",
      "Arquivo convertido: pct1_h_2764800.tif -> pct1_h_2764800.tif\n",
      "Arquivo convertido: pct1_h_2757600.tif -> pct1_h_2757600.tif\n",
      "Conversão concluída com sucesso.\n"
     ]
    }
   ],
   "execution_count": 23
  },
  {
   "metadata": {
    "ExecuteTime": {
     "end_time": "2024-11-25T23:41:21.064484Z",
     "start_time": "2024-11-25T23:41:20.381174Z"
    }
   },
   "cell_type": "code",
   "source": [
    "import os\n",
    "import geopandas as gpd\n",
    "\n",
    "# Caminho do arquivo\n",
    "path = '/Users/marcelofernandes/PycharmProjects/SP_urban_flooding/bounding_box_bacia.json'\n",
    "\n",
    "# Verificar se o arquivo existe\n",
    "if os.path.exists(path):\n",
    "    print(\"Arquivo encontrado!\")\n",
    "    if os.access(path, os.R_OK):\n",
    "        try:\n",
    "            # Tentar carregar com GeoPandas\n",
    "            bounding_box_baseline = gpd.read_file(path)\n",
    "            print(\"Bounding box carregado com sucesso!\")\n",
    "        except Exception as e:\n",
    "            print(f\"Erro ao carregar o bounding box com GeoPandas: {e}\")\n",
    "    else:\n",
    "        print(\"Arquivo encontrado, mas sem permissão de leitura!\")\n",
    "else:\n",
    "    print(\"Arquivo não encontrado!\")\n"
   ],
   "id": "3aeb7e9efd48e682",
   "outputs": [
    {
     "name": "stdout",
     "output_type": "stream",
     "text": [
      "Arquivo encontrado!\n",
      "Bounding box carregado com sucesso!\n"
     ]
    }
   ],
   "execution_count": 19
  },
  {
   "metadata": {
    "ExecuteTime": {
     "end_time": "2024-11-25T23:55:15.802517Z",
     "start_time": "2024-11-25T23:55:15.704467Z"
    }
   },
   "cell_type": "code",
   "source": [
    "import os\n",
    "import rasterio\n",
    "from rasterio.mask import mask\n",
    "import geopandas as gpd\n",
    "\n",
    "# Diretórios e configurações\n",
    "clipped_folder = os.path.join(output_folder, \"clipped_files\")  # Diretório para salvar os arquivos clipados\n",
    "os.makedirs(clipped_folder, exist_ok=True)\n",
    "\n",
    "# Converter geometria do bounding box para o formato esperado pelo rasterio\n",
    "bounding_box_geometry = [geom for geom in bounding_box_baseline.geometry]\n",
    "\n",
    "# Processar arquivos .tif\n",
    "print(\"Iniciando a clipagem dos arquivos .tif...\")\n",
    "for filename in os.listdir(output_folder):\n",
    "    if filename.endswith(\".tif\"):\n",
    "        print(f\"Processando arquivo: {filename}\")\n",
    "        src_path = os.path.join(output_folder, filename)\n",
    "        \n",
    "        try:\n",
    "            # Abrir o arquivo raster\n",
    "            with rasterio.open(src_path) as src:\n",
    "                # Checar CRS\n",
    "                if bounding_box_baseline.crs != src.crs:\n",
    "                    bounding_box_baseline = bounding_box_baseline.to_crs(src.crs)\n",
    "                \n",
    "                # Verificar sobreposição\n",
    "                raster_bounds = box(*src.bounds)\n",
    "                bounding_box_union = bounding_box_baseline.unary_union\n",
    "                if not raster_bounds.intersects(bounding_box_union):\n",
    "                    print(f\"A geometria do bounding box não se sobrepõe ao raster: {filename}\")\n",
    "                    continue\n",
    "                \n",
    "                # Realizar a clipagem\n",
    "                out_image, out_transform = mask(src, [bounding_box_union], crop=True)\n",
    "                out_meta = src.meta.copy()\n",
    "                out_meta.update({\n",
    "                    \"driver\": \"GTiff\",\n",
    "                    \"height\": out_image.shape[1],\n",
    "                    \"width\": out_image.shape[2],\n",
    "                    \"transform\": out_transform,\n",
    "                    \"crs\": src.crs\n",
    "                })\n",
    "                \n",
    "                # Salvar o arquivo clipado\n",
    "                clipped_filename = os.path.splitext(filename)[0] + \"_clp_ARCDV.tif\"\n",
    "                output_path = os.path.join(clipped_folder, clipped_filename)\n",
    "                with rasterio.open(output_path, \"w\", **out_meta) as dest:\n",
    "                    dest.write(out_image)\n",
    "                \n",
    "                # Definir o caminho de saída com o novo nome\n",
    "                clipped_filename = os.path.splitext(filename)[0] + \"_clp_ARCDV.tif\"\n",
    "                output_path = os.path.join(clipped_folder, clipped_filename)\n",
    "                \n",
    "                # Salvar o arquivo clipado\n",
    "                with rasterio.open(output_path, \"w\", **out_meta) as dest:\n",
    "                    dest.write(out_image)\n",
    "                    \n",
    "                print(f\"Arquivo clipado salvo em: {output_path}\")\n",
    "        except Exception as e:\n",
    "            print(f\"Erro ao processar '{filename}': {e}\")\n",
    "\n",
    "print(\"Clipagem concluída para todos os arquivos .tif.\")"
   ],
   "id": "927a8ca93e5cb0fe",
   "outputs": [
    {
     "name": "stdout",
     "output_type": "stream",
     "text": [
      "Iniciando a clipagem dos arquivos .tif...\n",
      "Processando arquivo: pct1_h_2692800.tif\n",
      "Erro ao processar 'pct1_h_2692800.tif': Must pass either crs or epsg.\n",
      "Processando arquivo: pct1_h_2768400.tif\n",
      "Erro ao processar 'pct1_h_2768400.tif': Must pass either crs or epsg.\n",
      "Processando arquivo: pct1_h_2710800.tif\n",
      "Erro ao processar 'pct1_h_2710800.tif': Must pass either crs or epsg.\n",
      "Processando arquivo: pct1_h_2728800.tif\n",
      "Erro ao processar 'pct1_h_2728800.tif': Must pass either crs or epsg.\n",
      "Processando arquivo: pct1_h_2750400.tif\n",
      "Erro ao processar 'pct1_h_2750400.tif': Must pass either crs or epsg.\n",
      "Processando arquivo: pct1_h_2721600.tif\n",
      "Erro ao processar 'pct1_h_2721600.tif': Must pass either crs or epsg.\n",
      "Processando arquivo: pct1_h_2707200.tif\n",
      "Erro ao processar 'pct1_h_2707200.tif': Must pass either crs or epsg.\n",
      "Processando arquivo: pct1_h_2703600.tif\n",
      "Erro ao processar 'pct1_h_2703600.tif': Must pass either crs or epsg.\n",
      "Processando arquivo: pct1_h_2725200.tif\n",
      "Erro ao processar 'pct1_h_2725200.tif': Must pass either crs or epsg.\n",
      "Processando arquivo: pct1_h_2739600.tif\n",
      "Erro ao processar 'pct1_h_2739600.tif': Must pass either crs or epsg.\n",
      "Processando arquivo: pct1_h_2754000.tif\n",
      "Erro ao processar 'pct1_h_2754000.tif': Must pass either crs or epsg.\n",
      "Processando arquivo: pct1_h_2714400.tif\n",
      "Erro ao processar 'pct1_h_2714400.tif': Must pass either crs or epsg.\n",
      "Processando arquivo: pct1_h_2743200.tif\n",
      "Erro ao processar 'pct1_h_2743200.tif': Must pass either crs or epsg.\n",
      "Processando arquivo: pct1_h_2696400.tif\n",
      "Erro ao processar 'pct1_h_2696400.tif': Must pass either crs or epsg.\n",
      "Processando arquivo: pct1_h_2718000.tif\n",
      "Erro ao processar 'pct1_h_2718000.tif': Must pass either crs or epsg.\n",
      "Processando arquivo: pct1_h_2732400.tif\n",
      "Erro ao processar 'pct1_h_2732400.tif': Must pass either crs or epsg.\n",
      "Processando arquivo: pct1_h_2746800.tif\n",
      "Erro ao processar 'pct1_h_2746800.tif': Must pass either crs or epsg.\n",
      "Processando arquivo: pct1_h_2761200.tif\n",
      "Erro ao processar 'pct1_h_2761200.tif': Must pass either crs or epsg.\n",
      "Processando arquivo: pct1_h_max_2768400.tif\n",
      "Erro ao processar 'pct1_h_max_2768400.tif': Must pass either crs or epsg.\n",
      "Processando arquivo: pct1_h_2736000.tif\n",
      "Erro ao processar 'pct1_h_2736000.tif': Must pass either crs or epsg.\n",
      "Processando arquivo: pct1_h_2700000.tif\n",
      "Erro ao processar 'pct1_h_2700000.tif': Must pass either crs or epsg.\n",
      "Processando arquivo: pct1_h_2764800.tif\n",
      "Erro ao processar 'pct1_h_2764800.tif': Must pass either crs or epsg.\n",
      "Processando arquivo: pct1_h_2757600.tif\n",
      "Erro ao processar 'pct1_h_2757600.tif': Must pass either crs or epsg.\n",
      "Clipagem concluída para todos os arquivos .tif.\n"
     ]
    }
   ],
   "execution_count": 21
  },
  {
   "metadata": {},
   "cell_type": "code",
   "outputs": [],
   "execution_count": null,
   "source": "",
   "id": "b4720241d990d895"
  }
 ],
 "metadata": {
  "kernelspec": {
   "display_name": "Python 3",
   "language": "python",
   "name": "python3"
  },
  "language_info": {
   "codemirror_mode": {
    "name": "ipython",
    "version": 2
   },
   "file_extension": ".py",
   "mimetype": "text/x-python",
   "name": "python",
   "nbconvert_exporter": "python",
   "pygments_lexer": "ipython2",
   "version": "2.7.6"
  }
 },
 "nbformat": 4,
 "nbformat_minor": 5
}
