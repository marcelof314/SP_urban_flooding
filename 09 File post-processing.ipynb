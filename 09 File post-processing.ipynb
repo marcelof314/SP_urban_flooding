{
 "cells": [
  {
   "metadata": {},
   "cell_type": "markdown",
   "source": "### Bibliotecas",
   "id": "1ffb6ccb8619f2f5"
  },
  {
   "metadata": {
    "ExecuteTime": {
     "end_time": "2024-12-03T20:36:03.406465Z",
     "start_time": "2024-12-03T20:36:03.402274Z"
    }
   },
   "cell_type": "code",
   "source": [
    "import os\n",
    "import re\n",
    "import shutil\n",
    "import zipfile"
   ],
   "id": "7793d7b24828317d",
   "outputs": [],
   "execution_count": 2
  },
  {
   "metadata": {},
   "cell_type": "markdown",
   "source": "### Parâmetros",
   "id": "7fb0502be72f4c48"
  },
  {
   "metadata": {
    "ExecuteTime": {
     "end_time": "2024-12-03T20:37:57.749451Z",
     "start_time": "2024-12-03T20:37:57.745596Z"
    }
   },
   "cell_type": "code",
   "source": [
    "# Caminhos e arquivo de entrada\n",
    "input_zip_file = r'/Volumes/Dados_na_nuvem/Marcelo/Mestrado PTR/pct1_h_files.zip'\n",
    "output_folder = r'/Users/marcelofernandes/Library/CloudStorage/GoogleDrive-marcelo.fernandes@alumni.usp.br/.shortcut-targets-by-id/1M--OnzbTYagrNv5Ss9fjWlBxCMmasz-Y/10_Mestrado_2021_Marcelo Fernandes/9_Dissertação/Resultados'"
   ],
   "id": "e4e3427f0b36d6a3",
   "outputs": [],
   "execution_count": 5
  },
  {
   "metadata": {},
   "cell_type": "markdown",
   "source": "### Estrutura de pastas",
   "id": "c9c35106e30e1f3e"
  },
  {
   "metadata": {
    "ExecuteTime": {
     "end_time": "2024-12-03T20:35:10.536147Z",
     "start_time": "2024-12-03T20:35:10.533218Z"
    }
   },
   "cell_type": "code",
   "source": [
    "# O objetivo é criar uma estrutura mestra de arquivos para auxiliar na organização e interpretação dos resultados.\n",
    "# Resultados/\n",
    "# └── Pacote_01/\n",
    "#    ├── Raw/\n",
    "#    └── Bacias/\n",
    "#        └── Aricanduva/\n",
    "#            └── Clipado/"
   ],
   "id": "a226a77a58af0e2e",
   "outputs": [],
   "execution_count": 1
  },
  {
   "metadata": {
    "ExecuteTime": {
     "end_time": "2024-12-03T20:47:17.147684Z",
     "start_time": "2024-12-03T20:47:17.141754Z"
    }
   },
   "cell_type": "code",
   "source": [
    "def criar_pacote(base_path, pacote_num, bacia_nome):\n",
    "    # Construir caminhos\n",
    "    pacote_path = os.path.join(base_path, f\"Pacote_{pacote_num:02d}\")\n",
    "    raw_path = os.path.join(pacote_path, \"Raw\")\n",
    "    bacias_path = os.path.join(pacote_path, \"Bacias\", bacia_nome)\n",
    "    clipado_path = os.path.join(bacias_path, \"Clipado\")\n",
    "    \n",
    "    # Criar pastas\n",
    "    os.makedirs(raw_path, exist_ok=True)\n",
    "    os.makedirs(clipado_path, exist_ok=True)\n",
    "    \n",
    "    print(f\"Estrutura criada para {pacote_path}\")\n",
    "    print(f\"Incluindo bacia '{bacia_nome}' com diretório 'Clipado'.\")"
   ],
   "id": "3c434ad74fbe856a",
   "outputs": [],
   "execution_count": 8
  },
  {
   "metadata": {
    "ExecuteTime": {
     "end_time": "2024-12-03T20:47:21.056583Z",
     "start_time": "2024-12-03T20:47:21.051494Z"
    }
   },
   "cell_type": "code",
   "source": [
    "# Parâmetros\n",
    "pacote_num = 1          # Número do pacote a ser criado\n",
    "bacia_nome = \"Aricanduva\"  # Nome da bacia\n",
    "\n",
    "# Criar o pacote\n",
    "criar_pacote(output_folder, pacote_num, bacia_nome)"
   ],
   "id": "9859f8b95f5364a5",
   "outputs": [
    {
     "name": "stdout",
     "output_type": "stream",
     "text": [
      "Estrutura criada para /Users/marcelofernandes/Library/CloudStorage/GoogleDrive-marcelo.fernandes@alumni.usp.br/.shortcut-targets-by-id/1M--OnzbTYagrNv5Ss9fjWlBxCMmasz-Y/10_Mestrado_2021_Marcelo Fernandes/9_Dissertação/Resultados/Pacote_01\n",
      "Incluindo bacia 'Aricanduva' com diretório 'Clipado'.\n"
     ]
    }
   ],
   "execution_count": 9
  },
  {
   "metadata": {},
   "cell_type": "markdown",
   "source": "### Verificações de integridade do arquivo",
   "id": "2c35b0b26ee46741"
  },
  {
   "metadata": {
    "ExecuteTime": {
     "end_time": "2024-12-03T20:48:11.596457Z",
     "start_time": "2024-12-03T20:48:11.587764Z"
    }
   },
   "cell_type": "code",
   "source": [
    "# Função para checar acessibilidade de um arquivo\n",
    "def check_file_accessibility(file_path):\n",
    "    if not os.path.exists(file_path):\n",
    "        raise FileNotFoundError(f\"Erro: O arquivo '{file_path}' não foi encontrado.\")\n",
    "    if not os.access(file_path, os.R_OK):\n",
    "        raise PermissionError(f\"Erro: O arquivo '{file_path}' não possui permissão de leitura.\")\n",
    "    print(f\"Arquivo '{file_path}' está acessível para leitura.\")\n",
    "\n",
    "# Função para checar integridade de um arquivo zip\n",
    "def check_zip_integrity(zip_path):\n",
    "    try:\n",
    "        with zipfile.ZipFile(zip_path, 'r') as zip_ref:\n",
    "            if not zip_ref.namelist():\n",
    "                raise ValueError(f\"Erro: O arquivo zip '{zip_path}' está vazio.\")\n",
    "            print(f\"O arquivo zip '{zip_path}' é válido e contém arquivos.\")\n",
    "    except zipfile.BadZipFile:\n",
    "        raise ValueError(f\"Erro: O arquivo zip '{zip_path}' está corrompido.\")\n",
    "\n",
    "# Função para checar acessibilidade do diretório de saída\n",
    "def check_output_directory(output_dir):\n",
    "    if not os.path.exists(output_dir):\n",
    "        try:\n",
    "            os.makedirs(output_dir)\n",
    "            print(f\"Diretório de saída '{output_dir}' foi criado com sucesso.\")\n",
    "        except PermissionError:\n",
    "            raise PermissionError(f\"Erro: Sem permissão para criar o diretório '{output_dir}'.\")\n",
    "    elif not os.access(output_dir, os.W_OK):\n",
    "        raise PermissionError(f\"Erro: Sem permissão de escrita no diretório '{output_dir}'.\")\n",
    "    print(f\"Diretório de saída '{output_dir}' está acessível para escrita.\")"
   ],
   "id": "3304beb393bc3995",
   "outputs": [],
   "execution_count": 10
  },
  {
   "metadata": {
    "ExecuteTime": {
     "end_time": "2024-12-03T20:50:04.701463Z",
     "start_time": "2024-12-03T20:50:04.561279Z"
    }
   },
   "cell_type": "code",
   "source": [
    "# Executando as verificações\n",
    "print(\"Realizando verificações de integridade...\")\n",
    "check_file_accessibility(input_zip_file)\n",
    "check_zip_integrity(input_zip_file)\n",
    "check_output_directory(output_folder)\n",
    "print(\"Verificações concluídas. Todos os arquivos e diretórios estão em ordem.\")"
   ],
   "id": "15c57ca3d85df648",
   "outputs": [
    {
     "name": "stdout",
     "output_type": "stream",
     "text": [
      "Realizando verificações de integridade...\n",
      "Arquivo '/Volumes/Dados_na_nuvem/Marcelo/Mestrado PTR/pct1_h_files.zip' está acessível para leitura.\n",
      "O arquivo zip '/Volumes/Dados_na_nuvem/Marcelo/Mestrado PTR/pct1_h_files.zip' é válido e contém arquivos.\n",
      "Diretório de saída '/Users/marcelofernandes/Library/CloudStorage/GoogleDrive-marcelo.fernandes@alumni.usp.br/.shortcut-targets-by-id/1M--OnzbTYagrNv5Ss9fjWlBxCMmasz-Y/10_Mestrado_2021_Marcelo Fernandes/9_Dissertação/Resultados' está acessível para escrita.\n",
      "Verificações concluídas. Todos os arquivos e diretórios estão em ordem.\n"
     ]
    }
   ],
   "execution_count": 12
  },
  {
   "metadata": {},
   "cell_type": "markdown",
   "source": "### Descompactar e ajustes nos nomes",
   "id": "c7a2dbd0e1c06283"
  },
  {
   "metadata": {
    "ExecuteTime": {
     "end_time": "2024-12-03T21:26:26.692706Z",
     "start_time": "2024-12-03T21:17:59.425294Z"
    }
   },
   "cell_type": "code",
   "source": [
    "import os\n",
    "import re\n",
    "import shutil\n",
    "import zipfile\n",
    "\n",
    "# Início do processo\n",
    "print(\"Iniciando o processamento do arquivo zipado...\")\n",
    "\n",
    "pacote_path = os.path.join(output_folder, f\"Pacote_{pacote_num:02d}\")\n",
    "raw_files_folder = os.path.join(pacote_path, \"Raw\")\n",
    "\n",
    "# Extrair o arquivo zip para o diretório de raw files\n",
    "print(f\"Extraindo os arquivos do zip para o diretório: {raw_files_folder}\")\n",
    "with zipfile.ZipFile(input_zip_file, 'r') as zip_ref:\n",
    "    zip_ref.extractall(raw_files_folder)\n",
    "print(\"Arquivos extraídos com sucesso.\")"
   ],
   "id": "b52e0e41fed554af",
   "outputs": [
    {
     "name": "stdout",
     "output_type": "stream",
     "text": [
      "Iniciando o processamento do arquivo zipado...\n",
      "Extraindo os arquivos do zip para o diretório: /Users/marcelofernandes/Library/CloudStorage/GoogleDrive-marcelo.fernandes@alumni.usp.br/.shortcut-targets-by-id/1M--OnzbTYagrNv5Ss9fjWlBxCMmasz-Y/10_Mestrado_2021_Marcelo Fernandes/9_Dissertação/Resultados/Pacote_01/Raw\n",
      "Arquivos extraídos com sucesso.\n"
     ]
    }
   ],
   "execution_count": 18
  },
  {
   "metadata": {
    "ExecuteTime": {
     "end_time": "2024-12-03T21:27:43.978541Z",
     "start_time": "2024-12-03T21:27:42.190932Z"
    }
   },
   "cell_type": "code",
   "source": [
    "# Regex para identificar números em notação científica\n",
    "scientific_notation_pattern = re.compile(r'(-?\\d+\\.\\d+e[+-]?\\d+)')\n",
    "\n",
    "# Função para converter notação científica para número inteiro\n",
    "def convert_scientific_to_float(match):\n",
    "    return f\"{float(match.group()):.0f}\"\n",
    "\n",
    "# Processar arquivos extraídos\n",
    "print(\"Iniciando o processamento dos arquivos '.asc'...\")\n",
    "\n",
    "for filename in os.listdir(raw_files_folder):\n",
    "    if filename.endswith(\".asc\"):\n",
    "        print(f\"Processando arquivo: {filename}\")\n",
    "        \n",
    "        # Verificar e converter o nome do arquivo\n",
    "        new_filename = scientific_notation_pattern.sub(convert_scientific_to_float, filename)\n",
    "        \n",
    "        # Caminhos completos do arquivo de origem e destino\n",
    "        src = os.path.join(raw_files_folder, filename)\n",
    "        dst = os.path.join(raw_files_folder, new_filename)\n",
    "        \n",
    "        try:\n",
    "            # Copiar e renomear o arquivo\n",
    "            shutil.copyfile(src, dst)\n",
    "            print(f\"Arquivo '{filename}' copiado e renomeado para '{new_filename}'.\")\n",
    "            \n",
    "            # Apagar o arquivo original\n",
    "            os.remove(src)\n",
    "            print(f\"Arquivo original '{filename}' removido com sucesso.\")\n",
    "        except Exception as e:\n",
    "            print(f\"Erro ao processar '{filename}': {e}\")\n",
    "\n",
    "print(\"Processamento dos arquivos '.asc' concluído.\")\n",
    "print(\"Todos os arquivos foram processados com sucesso.\")"
   ],
   "id": "1ff0e59f7d76a783",
   "outputs": [
    {
     "name": "stdout",
     "output_type": "stream",
     "text": [
      "Iniciando o processamento dos arquivos '.asc'...\n",
      "Processando arquivo: pct1_h_2.7648e+06.asc\n",
      "Arquivo 'pct1_h_2.7648e+06.asc' copiado e renomeado para 'pct1_h_2764800.asc'.\n",
      "Arquivo original 'pct1_h_2.7648e+06.asc' removido com sucesso.\n",
      "Processando arquivo: pct1_h_2.736e+06.asc\n",
      "Arquivo 'pct1_h_2.736e+06.asc' copiado e renomeado para 'pct1_h_2736000.asc'.\n",
      "Arquivo original 'pct1_h_2.736e+06.asc' removido com sucesso.\n",
      "Processando arquivo: pct1_h_2.7396e+06.asc\n",
      "Arquivo 'pct1_h_2.7396e+06.asc' copiado e renomeado para 'pct1_h_2739600.asc'.\n",
      "Arquivo original 'pct1_h_2.7396e+06.asc' removido com sucesso.\n",
      "Processando arquivo: pct1_h_2.754e+06.asc\n",
      "Arquivo 'pct1_h_2.754e+06.asc' copiado e renomeado para 'pct1_h_2754000.asc'.\n",
      "Arquivo original 'pct1_h_2.754e+06.asc' removido com sucesso.\n",
      "Processando arquivo: pct1_h_2.718e+06.asc\n",
      "Arquivo 'pct1_h_2.718e+06.asc' copiado e renomeado para 'pct1_h_2718000.asc'.\n",
      "Arquivo original 'pct1_h_2.718e+06.asc' removido com sucesso.\n",
      "Processando arquivo: pct1_h_max_2.7684e+06.asc\n",
      "Arquivo 'pct1_h_max_2.7684e+06.asc' copiado e renomeado para 'pct1_h_max_2768400.asc'.\n",
      "Arquivo original 'pct1_h_max_2.7684e+06.asc' removido com sucesso.\n",
      "Processando arquivo: pct1_h_2.7468e+06.asc\n",
      "Arquivo 'pct1_h_2.7468e+06.asc' copiado e renomeado para 'pct1_h_2746800.asc'.\n",
      "Arquivo original 'pct1_h_2.7468e+06.asc' removido com sucesso.\n",
      "Processando arquivo: pct1_h_2.6928e+06.asc\n",
      "Arquivo 'pct1_h_2.6928e+06.asc' copiado e renomeado para 'pct1_h_2692800.asc'.\n",
      "Arquivo original 'pct1_h_2.6928e+06.asc' removido com sucesso.\n",
      "Processando arquivo: pct1_h_2.7324e+06.asc\n",
      "Arquivo 'pct1_h_2.7324e+06.asc' copiado e renomeado para 'pct1_h_2732400.asc'.\n",
      "Arquivo original 'pct1_h_2.7324e+06.asc' removido com sucesso.\n",
      "Processando arquivo: pct1_h_2.6964e+06.asc\n",
      "Arquivo 'pct1_h_2.6964e+06.asc' copiado e renomeado para 'pct1_h_2696400.asc'.\n",
      "Arquivo original 'pct1_h_2.6964e+06.asc' removido com sucesso.\n",
      "Processando arquivo: pct1_h_2.7144e+06.asc\n",
      "Arquivo 'pct1_h_2.7144e+06.asc' copiado e renomeado para 'pct1_h_2714400.asc'.\n",
      "Arquivo original 'pct1_h_2.7144e+06.asc' removido com sucesso.\n",
      "Processando arquivo: pct1_h_2.7684e+06.asc\n",
      "Arquivo 'pct1_h_2.7684e+06.asc' copiado e renomeado para 'pct1_h_2768400.asc'.\n",
      "Arquivo original 'pct1_h_2.7684e+06.asc' removido com sucesso.\n",
      "Processando arquivo: pct1_h_2.7612e+06.asc\n",
      "Arquivo 'pct1_h_2.7612e+06.asc' copiado e renomeado para 'pct1_h_2761200.asc'.\n",
      "Arquivo original 'pct1_h_2.7612e+06.asc' removido com sucesso.\n",
      "Processando arquivo: pct1_h_2.7432e+06.asc\n",
      "Arquivo 'pct1_h_2.7432e+06.asc' copiado e renomeado para 'pct1_h_2743200.asc'.\n",
      "Arquivo original 'pct1_h_2.7432e+06.asc' removido com sucesso.\n",
      "Processando arquivo: pct1_h_2.7108e+06.asc\n",
      "Arquivo 'pct1_h_2.7108e+06.asc' copiado e renomeado para 'pct1_h_2710800.asc'.\n",
      "Arquivo original 'pct1_h_2.7108e+06.asc' removido com sucesso.\n",
      "Processando arquivo: pct1_h_2.7036e+06.asc\n",
      "Arquivo 'pct1_h_2.7036e+06.asc' copiado e renomeado para 'pct1_h_2703600.asc'.\n",
      "Arquivo original 'pct1_h_2.7036e+06.asc' removido com sucesso.\n",
      "Processando arquivo: pct1_h_2.7072e+06.asc\n",
      "Arquivo 'pct1_h_2.7072e+06.asc' copiado e renomeado para 'pct1_h_2707200.asc'.\n",
      "Arquivo original 'pct1_h_2.7072e+06.asc' removido com sucesso.\n",
      "Processando arquivo: pct1_h_2.7288e+06.asc\n",
      "Arquivo 'pct1_h_2.7288e+06.asc' copiado e renomeado para 'pct1_h_2728800.asc'.\n",
      "Arquivo original 'pct1_h_2.7288e+06.asc' removido com sucesso.\n",
      "Processando arquivo: pct1_h_2.7e+06.asc\n",
      "Arquivo 'pct1_h_2.7e+06.asc' copiado e renomeado para 'pct1_h_2700000.asc'.\n",
      "Arquivo original 'pct1_h_2.7e+06.asc' removido com sucesso.\n",
      "Processando arquivo: pct1_h_2.7252e+06.asc\n",
      "Arquivo 'pct1_h_2.7252e+06.asc' copiado e renomeado para 'pct1_h_2725200.asc'.\n",
      "Arquivo original 'pct1_h_2.7252e+06.asc' removido com sucesso.\n",
      "Processando arquivo: pct1_h_2.7216e+06.asc\n",
      "Arquivo 'pct1_h_2.7216e+06.asc' copiado e renomeado para 'pct1_h_2721600.asc'.\n",
      "Arquivo original 'pct1_h_2.7216e+06.asc' removido com sucesso.\n",
      "Processando arquivo: pct1_h_2.7504e+06.asc\n",
      "Arquivo 'pct1_h_2.7504e+06.asc' copiado e renomeado para 'pct1_h_2750400.asc'.\n",
      "Arquivo original 'pct1_h_2.7504e+06.asc' removido com sucesso.\n",
      "Processando arquivo: pct1_h_2.7576e+06.asc\n",
      "Arquivo 'pct1_h_2.7576e+06.asc' copiado e renomeado para 'pct1_h_2757600.asc'.\n",
      "Arquivo original 'pct1_h_2.7576e+06.asc' removido com sucesso.\n",
      "Processamento dos arquivos '.asc' concluído.\n",
      "Todos os arquivos foram processados com sucesso.\n"
     ]
    }
   ],
   "execution_count": 19
  },
  {
   "metadata": {},
   "cell_type": "markdown",
   "source": "### Criar os .TIF",
   "id": "e0774fb7a8629b84"
  },
  {
   "metadata": {
    "ExecuteTime": {
     "end_time": "2024-12-03T21:37:11.526539Z",
     "start_time": "2024-12-03T21:36:55.768173Z"
    }
   },
   "cell_type": "code",
   "source": [
    "import os\n",
    "import numpy as np\n",
    "import rasterio\n",
    "from rasterio.transform import from_origin\n",
    "from rasterio.crs import CRS\n",
    "\n",
    "# Lista de arquivos .tif\n",
    "asc_files = [file for file in os.listdir(raw_files_folder) if file.endswith('.asc')]\n",
    "\n",
    "# Parâmetros do CRS e transformações\n",
    "target_epsg_code = 31983\n",
    "target_crs = CRS.from_epsg(target_epsg_code)\n",
    "xmin, ymin, xmax, ymax = (313394.4779, 7343769.0758, 360591.7331, 7416126.9551)\n",
    "res = 29.1591\n",
    "transform = from_origin(xmin, ymax, res, res)\n",
    "\n",
    "# Configurações para GeoTIFF\n",
    "geo_tiff_config = {\n",
    "    \"driver\": \"GTiff\",\n",
    "    \"count\": 1,  # Número de bandas\n",
    "    \"dtype\": 'float32',  # Tipo de dados\n",
    "    \"crs\": target_crs,\n",
    "    \"transform\": transform,\n",
    "}\n",
    "\n",
    "print(\"Iniciando a conversão dos arquivos .asc para GeoTIFF...\")\n",
    "\n",
    "# Loop para converter os arquivos .tif\n",
    "for asc_name in asc_files:\n",
    "    asc_path = os.path.join(raw_files_folder, asc_name)\n",
    "    output_name = f\"{os.path.splitext(asc_name)[0]}.tif\"\n",
    "    output_path = os.path.join(raw_files_folder, output_name)\n",
    "    \n",
    "    try:\n",
    "        # Carregar os dados do arquivo .asc\n",
    "        data = np.loadtxt(asc_path, skiprows=6)  # Ajuste skiprows conforme necessário\n",
    "        data = np.maximum(data, 0)  # Substituir valores negativos por 0\n",
    "        \n",
    "        # Atualizar altura e largura no GeoTIFF config\n",
    "        geo_tiff_config.update({\"height\": data.shape[0], \"width\": data.shape[1]})\n",
    "        \n",
    "        # Criar o GeoTIFF\n",
    "        with rasterio.open(output_path, 'w', **geo_tiff_config) as dst:\n",
    "            dst.write(data, 1)\n",
    "        \n",
    "        print(f\"Arquivo convertido: {asc_name} -> {output_name}\")\n",
    "        \n",
    "        # Apagar o arquivo original\n",
    "        src = os.path.join(raw_files_folder, asc_name)\n",
    "        os.remove(src)\n",
    "        print(f\"Arquivo original '{asc_name}' removido com sucesso.\")\n",
    "        \n",
    "    except Exception as e:\n",
    "        print(f\"Erro ao processar o arquivo {asc_name}: {e}\")\n",
    "\n",
    "print(\"Conversão concluída com sucesso.\")"
   ],
   "id": "85ccde4f4e374c37",
   "outputs": [
    {
     "name": "stdout",
     "output_type": "stream",
     "text": [
      "Iniciando a conversão dos arquivos .asc para GeoTIFF...\n",
      "Arquivo convertido: pct1_h_2707200.asc -> pct1_h_2707200.tif\n",
      "Arquivo original 'pct1_h_2707200.asc' removido com sucesso.\n",
      "Arquivo convertido: pct1_h_2721600.asc -> pct1_h_2721600.tif\n",
      "Arquivo original 'pct1_h_2721600.asc' removido com sucesso.\n",
      "Arquivo convertido: pct1_h_2728800.asc -> pct1_h_2728800.tif\n",
      "Arquivo original 'pct1_h_2728800.asc' removido com sucesso.\n",
      "Arquivo convertido: pct1_h_2750400.asc -> pct1_h_2750400.tif\n",
      "Arquivo original 'pct1_h_2750400.asc' removido com sucesso.\n",
      "Arquivo convertido: pct1_h_2768400.asc -> pct1_h_2768400.tif\n",
      "Arquivo original 'pct1_h_2768400.asc' removido com sucesso.\n",
      "Arquivo convertido: pct1_h_2710800.asc -> pct1_h_2710800.tif\n",
      "Arquivo original 'pct1_h_2710800.asc' removido com sucesso.\n",
      "Arquivo convertido: pct1_h_2692800.asc -> pct1_h_2692800.tif\n",
      "Arquivo original 'pct1_h_2692800.asc' removido com sucesso.\n",
      "Arquivo convertido: pct1_h_2754000.asc -> pct1_h_2754000.tif\n",
      "Arquivo original 'pct1_h_2754000.asc' removido com sucesso.\n",
      "Arquivo convertido: pct1_h_2725200.asc -> pct1_h_2725200.tif\n",
      "Arquivo original 'pct1_h_2725200.asc' removido com sucesso.\n",
      "Arquivo convertido: pct1_h_2703600.asc -> pct1_h_2703600.tif\n",
      "Arquivo original 'pct1_h_2703600.asc' removido com sucesso.\n",
      "Arquivo convertido: pct1_h_2739600.asc -> pct1_h_2739600.tif\n",
      "Arquivo original 'pct1_h_2739600.asc' removido com sucesso.\n",
      "Arquivo convertido: pct1_h_2718000.asc -> pct1_h_2718000.tif\n",
      "Arquivo original 'pct1_h_2718000.asc' removido com sucesso.\n",
      "Arquivo convertido: pct1_h_2732400.asc -> pct1_h_2732400.tif\n",
      "Arquivo original 'pct1_h_2732400.asc' removido com sucesso.\n",
      "Arquivo convertido: pct1_h_2746800.asc -> pct1_h_2746800.tif\n",
      "Arquivo original 'pct1_h_2746800.asc' removido com sucesso.\n",
      "Arquivo convertido: pct1_h_2743200.asc -> pct1_h_2743200.tif\n",
      "Arquivo original 'pct1_h_2743200.asc' removido com sucesso.\n",
      "Arquivo convertido: pct1_h_2696400.asc -> pct1_h_2696400.tif\n",
      "Arquivo original 'pct1_h_2696400.asc' removido com sucesso.\n",
      "Arquivo convertido: pct1_h_2714400.asc -> pct1_h_2714400.tif\n",
      "Arquivo original 'pct1_h_2714400.asc' removido com sucesso.\n",
      "Arquivo convertido: pct1_h_2757600.asc -> pct1_h_2757600.tif\n",
      "Arquivo original 'pct1_h_2757600.asc' removido com sucesso.\n",
      "Arquivo convertido: pct1_h_2736000.asc -> pct1_h_2736000.tif\n",
      "Arquivo original 'pct1_h_2736000.asc' removido com sucesso.\n",
      "Arquivo convertido: pct1_h_2764800.asc -> pct1_h_2764800.tif\n",
      "Arquivo original 'pct1_h_2764800.asc' removido com sucesso.\n",
      "Arquivo convertido: pct1_h_2700000.asc -> pct1_h_2700000.tif\n",
      "Arquivo original 'pct1_h_2700000.asc' removido com sucesso.\n",
      "Arquivo convertido: pct1_h_2761200.asc -> pct1_h_2761200.tif\n",
      "Arquivo original 'pct1_h_2761200.asc' removido com sucesso.\n",
      "Arquivo convertido: pct1_h_max_2768400.asc -> pct1_h_max_2768400.tif\n",
      "Arquivo original 'pct1_h_max_2768400.asc' removido com sucesso.\n",
      "Conversão concluída com sucesso.\n"
     ]
    }
   ],
   "execution_count": 23
  },
  {
   "metadata": {},
   "cell_type": "markdown",
   "source": "### Carregar bounding box",
   "id": "c0528b6241230003"
  },
  {
   "metadata": {
    "ExecuteTime": {
     "end_time": "2024-12-03T21:50:49.912178Z",
     "start_time": "2024-12-03T21:50:49.901748Z"
    }
   },
   "cell_type": "code",
   "source": [
    "import os\n",
    "import geopandas as gpd\n",
    "\n",
    "# Caminho do arquivo\n",
    "path = '/Users/marcelofernandes/PycharmProjects/SP_urban_flooding/bounding_box_bacia.json'\n",
    "\n",
    "# Verificar se o arquivo existe\n",
    "if os.path.exists(path):\n",
    "    print(\"Arquivo encontrado!\")\n",
    "    if os.access(path, os.R_OK):\n",
    "        try:\n",
    "            # Tentar carregar com GeoPandas\n",
    "            bounding_box_baseline = gpd.read_file(path)\n",
    "            print(\"Bounding box carregado com sucesso!\")\n",
    "        except Exception as e:\n",
    "            print(f\"Erro ao carregar o bounding box com GeoPandas: {e}\")\n",
    "    else:\n",
    "        print(\"Arquivo encontrado, mas sem permissão de leitura!\")\n",
    "else:\n",
    "    print(\"Arquivo não encontrado!\")\n"
   ],
   "id": "3aeb7e9efd48e682",
   "outputs": [
    {
     "name": "stdout",
     "output_type": "stream",
     "text": [
      "Arquivo encontrado!\n",
      "Bounding box carregado com sucesso!\n"
     ]
    }
   ],
   "execution_count": 26
  },
  {
   "metadata": {},
   "cell_type": "markdown",
   "source": "### Clipagem da raster de acordo com bounding box da bacia",
   "id": "c93cadf4f1d9cada"
  },
  {
   "metadata": {
    "ExecuteTime": {
     "end_time": "2024-12-03T21:57:38.728806Z",
     "start_time": "2024-12-03T21:57:37.959005Z"
    }
   },
   "cell_type": "code",
   "source": [
    "import os\n",
    "import rasterio\n",
    "from rasterio.mask import mask\n",
    "import geopandas as gpd\n",
    "from shapely.geometry import box\n",
    "\n",
    "# Diretórios e configurações\n",
    "pacote_path = os.path.join(output_folder, f\"Pacote_{pacote_num:02d}\")\n",
    "raw_path = os.path.join(pacote_path, \"Raw\")\n",
    "bacias_path = os.path.join(pacote_path, \"Bacias\", bacia_nome)\n",
    "clipado_path = os.path.join(bacias_path, \"Clipado\") # Diretório para salvar os arquivos clipados\n",
    "\n",
    "# Converter geometria do bounding box para o formato esperado pelo rasterio\n",
    "bounding_box_geometry = [geom for geom in bounding_box_baseline.geometry]\n",
    "\n",
    "# Processar arquivos .tif\n",
    "print(\"Iniciando a clipagem dos arquivos .tif...\")\n",
    "for filename in os.listdir(raw_path):\n",
    "    if filename.endswith(\".tif\"):\n",
    "        print(f\"Processando arquivo: {filename}\")\n",
    "        src_path = os.path.join(raw_path, filename)\n",
    "        \n",
    "        try:\n",
    "            # Abrir o arquivo raster\n",
    "            with rasterio.open(src_path) as src:\n",
    "                # Checar CRS\n",
    "                if bounding_box_baseline.crs != src.crs:\n",
    "                    bounding_box_baseline = bounding_box_baseline.to_crs(src.crs)\n",
    "                \n",
    "                # Verificar sobreposição\n",
    "                raster_bounds = box(*src.bounds)\n",
    "                # Usar union_all() em vez de unary_union\n",
    "                bounding_box_union = bounding_box_baseline.geometry.union_all()\n",
    "                if not raster_bounds.intersects(bounding_box_union):\n",
    "                    print(f\"A geometria do bounding box não se sobrepõe ao raster: {filename}\")\n",
    "                    continue\n",
    "                \n",
    "                # Realizar a clipagem\n",
    "                out_image, out_transform = mask(src, [bounding_box_union], crop=True)\n",
    "                out_meta = src.meta.copy()\n",
    "                out_meta.update({\n",
    "                    \"driver\": \"GTiff\",\n",
    "                    \"height\": out_image.shape[1],\n",
    "                    \"width\": out_image.shape[2],\n",
    "                    \"transform\": out_transform,\n",
    "                    \"crs\": src.crs\n",
    "                })\n",
    "                \n",
    "                # Salvar o arquivo clipado\n",
    "                clipped_filename = os.path.splitext(filename)[0] + \"_clp.tif\"\n",
    "                output_path = os.path.join(clipado_path, clipped_filename)\n",
    "                with rasterio.open(output_path, \"w\", **out_meta) as dest:\n",
    "                    dest.write(out_image)\n",
    "                \n",
    "                # Definir o caminho de saída com o novo nome\n",
    "                clipped_filename = os.path.splitext(filename)[0] + \"_clp.tif\"\n",
    "                output_path = os.path.join(clipado_path, clipped_filename)\n",
    "                \n",
    "                # Salvar o arquivo clipado\n",
    "                with rasterio.open(output_path, \"w\", **out_meta) as dest:\n",
    "                    dest.write(out_image)\n",
    "                    \n",
    "                print(f\"Arquivo clipado salvo em: {output_path}\")\n",
    "        except Exception as e:\n",
    "            print(f\"Erro ao processar '{filename}': {e}\")\n",
    "\n",
    "print(\"Clipagem concluída para todos os arquivos .tif.\")"
   ],
   "id": "927a8ca93e5cb0fe",
   "outputs": [
    {
     "name": "stdout",
     "output_type": "stream",
     "text": [
      "Iniciando a clipagem dos arquivos .tif...\n",
      "Processando arquivo: pct1_h_2692800.tif\n",
      "Arquivo clipado salvo em: /Users/marcelofernandes/Library/CloudStorage/GoogleDrive-marcelo.fernandes@alumni.usp.br/.shortcut-targets-by-id/1M--OnzbTYagrNv5Ss9fjWlBxCMmasz-Y/10_Mestrado_2021_Marcelo Fernandes/9_Dissertação/Resultados/Pacote_01/Bacias/Aricanduva/Clipado/pct1_h_2692800_clp.tif\n",
      "Processando arquivo: pct1_h_2768400.tif\n",
      "Arquivo clipado salvo em: /Users/marcelofernandes/Library/CloudStorage/GoogleDrive-marcelo.fernandes@alumni.usp.br/.shortcut-targets-by-id/1M--OnzbTYagrNv5Ss9fjWlBxCMmasz-Y/10_Mestrado_2021_Marcelo Fernandes/9_Dissertação/Resultados/Pacote_01/Bacias/Aricanduva/Clipado/pct1_h_2768400_clp.tif\n",
      "Processando arquivo: pct1_h_2710800.tif\n",
      "Arquivo clipado salvo em: /Users/marcelofernandes/Library/CloudStorage/GoogleDrive-marcelo.fernandes@alumni.usp.br/.shortcut-targets-by-id/1M--OnzbTYagrNv5Ss9fjWlBxCMmasz-Y/10_Mestrado_2021_Marcelo Fernandes/9_Dissertação/Resultados/Pacote_01/Bacias/Aricanduva/Clipado/pct1_h_2710800_clp.tif\n",
      "Processando arquivo: pct1_h_2728800.tif\n",
      "Arquivo clipado salvo em: /Users/marcelofernandes/Library/CloudStorage/GoogleDrive-marcelo.fernandes@alumni.usp.br/.shortcut-targets-by-id/1M--OnzbTYagrNv5Ss9fjWlBxCMmasz-Y/10_Mestrado_2021_Marcelo Fernandes/9_Dissertação/Resultados/Pacote_01/Bacias/Aricanduva/Clipado/pct1_h_2728800_clp.tif\n",
      "Processando arquivo: pct1_h_2750400.tif\n",
      "Arquivo clipado salvo em: /Users/marcelofernandes/Library/CloudStorage/GoogleDrive-marcelo.fernandes@alumni.usp.br/.shortcut-targets-by-id/1M--OnzbTYagrNv5Ss9fjWlBxCMmasz-Y/10_Mestrado_2021_Marcelo Fernandes/9_Dissertação/Resultados/Pacote_01/Bacias/Aricanduva/Clipado/pct1_h_2750400_clp.tif\n",
      "Processando arquivo: pct1_h_2721600.tif\n",
      "Arquivo clipado salvo em: /Users/marcelofernandes/Library/CloudStorage/GoogleDrive-marcelo.fernandes@alumni.usp.br/.shortcut-targets-by-id/1M--OnzbTYagrNv5Ss9fjWlBxCMmasz-Y/10_Mestrado_2021_Marcelo Fernandes/9_Dissertação/Resultados/Pacote_01/Bacias/Aricanduva/Clipado/pct1_h_2721600_clp.tif\n",
      "Processando arquivo: pct1_h_2707200.tif\n",
      "Arquivo clipado salvo em: /Users/marcelofernandes/Library/CloudStorage/GoogleDrive-marcelo.fernandes@alumni.usp.br/.shortcut-targets-by-id/1M--OnzbTYagrNv5Ss9fjWlBxCMmasz-Y/10_Mestrado_2021_Marcelo Fernandes/9_Dissertação/Resultados/Pacote_01/Bacias/Aricanduva/Clipado/pct1_h_2707200_clp.tif\n",
      "Processando arquivo: pct1_h_2703600.tif\n",
      "Arquivo clipado salvo em: /Users/marcelofernandes/Library/CloudStorage/GoogleDrive-marcelo.fernandes@alumni.usp.br/.shortcut-targets-by-id/1M--OnzbTYagrNv5Ss9fjWlBxCMmasz-Y/10_Mestrado_2021_Marcelo Fernandes/9_Dissertação/Resultados/Pacote_01/Bacias/Aricanduva/Clipado/pct1_h_2703600_clp.tif\n",
      "Processando arquivo: pct1_h_2725200.tif\n",
      "Arquivo clipado salvo em: /Users/marcelofernandes/Library/CloudStorage/GoogleDrive-marcelo.fernandes@alumni.usp.br/.shortcut-targets-by-id/1M--OnzbTYagrNv5Ss9fjWlBxCMmasz-Y/10_Mestrado_2021_Marcelo Fernandes/9_Dissertação/Resultados/Pacote_01/Bacias/Aricanduva/Clipado/pct1_h_2725200_clp.tif\n",
      "Processando arquivo: pct1_h_2739600.tif\n",
      "Arquivo clipado salvo em: /Users/marcelofernandes/Library/CloudStorage/GoogleDrive-marcelo.fernandes@alumni.usp.br/.shortcut-targets-by-id/1M--OnzbTYagrNv5Ss9fjWlBxCMmasz-Y/10_Mestrado_2021_Marcelo Fernandes/9_Dissertação/Resultados/Pacote_01/Bacias/Aricanduva/Clipado/pct1_h_2739600_clp.tif\n",
      "Processando arquivo: pct1_h_2754000.tif\n",
      "Arquivo clipado salvo em: /Users/marcelofernandes/Library/CloudStorage/GoogleDrive-marcelo.fernandes@alumni.usp.br/.shortcut-targets-by-id/1M--OnzbTYagrNv5Ss9fjWlBxCMmasz-Y/10_Mestrado_2021_Marcelo Fernandes/9_Dissertação/Resultados/Pacote_01/Bacias/Aricanduva/Clipado/pct1_h_2754000_clp.tif\n",
      "Processando arquivo: pct1_h_2714400.tif\n",
      "Arquivo clipado salvo em: /Users/marcelofernandes/Library/CloudStorage/GoogleDrive-marcelo.fernandes@alumni.usp.br/.shortcut-targets-by-id/1M--OnzbTYagrNv5Ss9fjWlBxCMmasz-Y/10_Mestrado_2021_Marcelo Fernandes/9_Dissertação/Resultados/Pacote_01/Bacias/Aricanduva/Clipado/pct1_h_2714400_clp.tif\n",
      "Processando arquivo: pct1_h_2743200.tif\n",
      "Arquivo clipado salvo em: /Users/marcelofernandes/Library/CloudStorage/GoogleDrive-marcelo.fernandes@alumni.usp.br/.shortcut-targets-by-id/1M--OnzbTYagrNv5Ss9fjWlBxCMmasz-Y/10_Mestrado_2021_Marcelo Fernandes/9_Dissertação/Resultados/Pacote_01/Bacias/Aricanduva/Clipado/pct1_h_2743200_clp.tif\n",
      "Processando arquivo: pct1_h_2696400.tif\n",
      "Arquivo clipado salvo em: /Users/marcelofernandes/Library/CloudStorage/GoogleDrive-marcelo.fernandes@alumni.usp.br/.shortcut-targets-by-id/1M--OnzbTYagrNv5Ss9fjWlBxCMmasz-Y/10_Mestrado_2021_Marcelo Fernandes/9_Dissertação/Resultados/Pacote_01/Bacias/Aricanduva/Clipado/pct1_h_2696400_clp.tif\n",
      "Processando arquivo: pct1_h_2718000.tif\n",
      "Arquivo clipado salvo em: /Users/marcelofernandes/Library/CloudStorage/GoogleDrive-marcelo.fernandes@alumni.usp.br/.shortcut-targets-by-id/1M--OnzbTYagrNv5Ss9fjWlBxCMmasz-Y/10_Mestrado_2021_Marcelo Fernandes/9_Dissertação/Resultados/Pacote_01/Bacias/Aricanduva/Clipado/pct1_h_2718000_clp.tif\n",
      "Processando arquivo: pct1_h_2732400.tif\n",
      "Arquivo clipado salvo em: /Users/marcelofernandes/Library/CloudStorage/GoogleDrive-marcelo.fernandes@alumni.usp.br/.shortcut-targets-by-id/1M--OnzbTYagrNv5Ss9fjWlBxCMmasz-Y/10_Mestrado_2021_Marcelo Fernandes/9_Dissertação/Resultados/Pacote_01/Bacias/Aricanduva/Clipado/pct1_h_2732400_clp.tif\n",
      "Processando arquivo: pct1_h_2746800.tif\n",
      "Arquivo clipado salvo em: /Users/marcelofernandes/Library/CloudStorage/GoogleDrive-marcelo.fernandes@alumni.usp.br/.shortcut-targets-by-id/1M--OnzbTYagrNv5Ss9fjWlBxCMmasz-Y/10_Mestrado_2021_Marcelo Fernandes/9_Dissertação/Resultados/Pacote_01/Bacias/Aricanduva/Clipado/pct1_h_2746800_clp.tif\n",
      "Processando arquivo: pct1_h_2761200.tif\n",
      "Arquivo clipado salvo em: /Users/marcelofernandes/Library/CloudStorage/GoogleDrive-marcelo.fernandes@alumni.usp.br/.shortcut-targets-by-id/1M--OnzbTYagrNv5Ss9fjWlBxCMmasz-Y/10_Mestrado_2021_Marcelo Fernandes/9_Dissertação/Resultados/Pacote_01/Bacias/Aricanduva/Clipado/pct1_h_2761200_clp.tif\n",
      "Processando arquivo: pct1_h_max_2768400.tif\n",
      "Arquivo clipado salvo em: /Users/marcelofernandes/Library/CloudStorage/GoogleDrive-marcelo.fernandes@alumni.usp.br/.shortcut-targets-by-id/1M--OnzbTYagrNv5Ss9fjWlBxCMmasz-Y/10_Mestrado_2021_Marcelo Fernandes/9_Dissertação/Resultados/Pacote_01/Bacias/Aricanduva/Clipado/pct1_h_max_2768400_clp.tif\n",
      "Processando arquivo: pct1_h_2736000.tif\n",
      "Arquivo clipado salvo em: /Users/marcelofernandes/Library/CloudStorage/GoogleDrive-marcelo.fernandes@alumni.usp.br/.shortcut-targets-by-id/1M--OnzbTYagrNv5Ss9fjWlBxCMmasz-Y/10_Mestrado_2021_Marcelo Fernandes/9_Dissertação/Resultados/Pacote_01/Bacias/Aricanduva/Clipado/pct1_h_2736000_clp.tif\n",
      "Processando arquivo: pct1_h_2700000.tif\n",
      "Arquivo clipado salvo em: /Users/marcelofernandes/Library/CloudStorage/GoogleDrive-marcelo.fernandes@alumni.usp.br/.shortcut-targets-by-id/1M--OnzbTYagrNv5Ss9fjWlBxCMmasz-Y/10_Mestrado_2021_Marcelo Fernandes/9_Dissertação/Resultados/Pacote_01/Bacias/Aricanduva/Clipado/pct1_h_2700000_clp.tif\n",
      "Processando arquivo: pct1_h_2764800.tif\n",
      "Arquivo clipado salvo em: /Users/marcelofernandes/Library/CloudStorage/GoogleDrive-marcelo.fernandes@alumni.usp.br/.shortcut-targets-by-id/1M--OnzbTYagrNv5Ss9fjWlBxCMmasz-Y/10_Mestrado_2021_Marcelo Fernandes/9_Dissertação/Resultados/Pacote_01/Bacias/Aricanduva/Clipado/pct1_h_2764800_clp.tif\n",
      "Processando arquivo: pct1_h_2757600.tif\n",
      "Arquivo clipado salvo em: /Users/marcelofernandes/Library/CloudStorage/GoogleDrive-marcelo.fernandes@alumni.usp.br/.shortcut-targets-by-id/1M--OnzbTYagrNv5Ss9fjWlBxCMmasz-Y/10_Mestrado_2021_Marcelo Fernandes/9_Dissertação/Resultados/Pacote_01/Bacias/Aricanduva/Clipado/pct1_h_2757600_clp.tif\n",
      "Clipagem concluída para todos os arquivos .tif.\n"
     ]
    }
   ],
   "execution_count": 30
  },
  {
   "metadata": {},
   "cell_type": "markdown",
   "source": "### Transferindo o TIF de alagamento para a rede viária",
   "id": "3cba32ca8807326a"
  },
  {
   "metadata": {},
   "cell_type": "code",
   "outputs": [],
   "execution_count": null,
   "source": "",
   "id": "b4720241d990d895"
  }
 ],
 "metadata": {
  "kernelspec": {
   "display_name": "Python 3",
   "language": "python",
   "name": "python3"
  },
  "language_info": {
   "codemirror_mode": {
    "name": "ipython",
    "version": 2
   },
   "file_extension": ".py",
   "mimetype": "text/x-python",
   "name": "python",
   "nbconvert_exporter": "python",
   "pygments_lexer": "ipython2",
   "version": "2.7.6"
  }
 },
 "nbformat": 4,
 "nbformat_minor": 5
}
