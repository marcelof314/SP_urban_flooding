{
 "cells": [
  {
   "metadata": {},
   "cell_type": "markdown",
   "source": "### Bibliotecas",
   "id": "4b981687ce2c4603"
  },
  {
   "metadata": {
    "ExecuteTime": {
     "end_time": "2024-07-08T13:23:40.924934Z",
     "start_time": "2024-07-08T13:23:39.274569Z"
    }
   },
   "cell_type": "code",
   "source": [
    "import geopandas as gpd\n",
    "import matplotlib.pyplot as plt\n",
    "from shapely.geometry import box\n",
    "import osmnx as ox\n",
    "import networkx as nx\n",
    "from itertools import combinations\n",
    "import multiprocessing as mp\n",
    "\n",
    "print(f'Utilizando a versão {ox.__version__} do OSMNX')\n",
    "\n",
    "print(f'Eu tenho {mp.cpu_count()} CPUs disponíveis')"
   ],
   "id": "a89f26398d81acbf",
   "outputs": [
    {
     "name": "stdout",
     "output_type": "stream",
     "text": [
      "Utilizando a versão 1.9.3 do OSMNX\n",
      "Eu tenho 8 CPUs disponíveis\n"
     ]
    }
   ],
   "execution_count": 1
  },
  {
   "metadata": {},
   "cell_type": "markdown",
   "source": "### Parâmetros",
   "id": "800b854062192884"
  },
  {
   "metadata": {
    "ExecuteTime": {
     "end_time": "2024-07-08T13:24:19.034427Z",
     "start_time": "2024-07-08T13:24:19.030221Z"
    }
   },
   "cell_type": "code",
   "source": [
    "caminho = '/Users/marcelofernandes/Library/CloudStorage/GoogleDrive-marcelo.fernandes@alumni.usp.br/.shortcut-targets-by-id/1M--OnzbTYagrNv5Ss9fjWlBxCMmasz-Y/10_Mestrado_2021_Marcelo Fernandes/6_Qualificação/Mapas temáticos e figuras/BACIA_HIDROGRAFICA/SIRGAS_BACIAHIDROGRAFICA.shp'\n",
    "\n",
    "my_crs = '4326'  # Verificar em EPSG.io um projeção que te dê o resultado em metros\n",
    "\n",
    "pesquisa_OD = '/Users/marcelofernandes/Library/CloudStorage/GoogleDrive-marcelo.fernandes@alumni.usp.br/.shortcut-targets-by-id/1M--OnzbTYagrNv5Ss9fjWlBxCMmasz-Y/10_Mestrado_2021_Marcelo Fernandes/8_Dados/Pesquisa OD 2017/OD-2017/Mapas-OD2017/Shape-OD2017/Zonas_2017_region.shp'\n",
    "plt.style.use('ggplot')\n",
    "\n",
    "arquivo_matrizOD = '/Users/marcelofernandes/Library/CloudStorage/GoogleDrive-marcelo.fernandes@alumni.usp.br/.shortcut-targets-by-id/1M--OnzbTYagrNv5Ss9fjWlBxCMmasz-Y/10_Mestrado_2021_Marcelo Fernandes/4_Códigos/Dados/OD-2017/Tabelas-OD2017/Tab25_OD2017.xlsx'\n",
    "\n",
    "verbose = False  # Flag para pular algumas atividades, com o objetivo de economizar memória.\n",
    "\n",
    "ox.settings.log_console = True\n",
    "ox.settings.use_cache = True"
   ],
   "id": "fc51291b1db7e2f",
   "outputs": [],
   "execution_count": 2
  },
  {
   "metadata": {
    "ExecuteTime": {
     "end_time": "2024-07-08T13:38:24.354880Z",
     "start_time": "2024-07-08T13:38:22.618713Z"
    }
   },
   "cell_type": "code",
   "source": [
    "# Carregar o grafo de um arquivo GraphML e o bounding box\n",
    "try:\n",
    "    G_baseline = ox.load_graphml(filepath='network_baseline_vel_updated.graphml')\n",
    "    print('Grafo carregado com sucesso!')\n",
    "except:\n",
    "    print('Arquivo não encontrado')\n",
    "\n",
    "try:\n",
    "    bounding_box_baseline = gpd.read_file('bounding_box_bacia.json')\n",
    "    print('Bounding box carregado com sucesso!')\n",
    "except:\n",
    "    print('Bounding box não encontrado')\n",
    "    \n",
    "node_baseline, edges_baseline = ox.graph_to_gdfs(G_baseline)"
   ],
   "id": "48de378f58fdbaf",
   "outputs": [
    {
     "name": "stdout",
     "output_type": "stream",
     "text": [
      "Grafo carregado com sucesso!\n",
      "Bounding box carregado com sucesso!\n"
     ]
    }
   ],
   "execution_count": 6
  },
  {
   "metadata": {},
   "cell_type": "markdown",
   "source": "### Carregar os pontos da pesquisa OD referentes a bacia",
   "id": "940c07557f457ea0"
  },
  {
   "metadata": {
    "ExecuteTime": {
     "end_time": "2024-07-08T13:30:09.863614Z",
     "start_time": "2024-07-08T13:28:49.058612Z"
    }
   },
   "cell_type": "code",
   "source": [
    "# Read the shapefile\n",
    "gdf_OD = gpd.read_file(pesquisa_OD)\n",
    "\n",
    "# Verifica o sistema de coordenadas\n",
    "gdf_OD.crs\n",
    "\n",
    "# Atribuição do esquema de projeção\n",
    "gdf_OD = gdf_OD.to_crs(my_crs)\n",
    "\n",
    "# Filtrando para o munícipio de São Paulo\n",
    "gdf_indices = gdf_OD.index[gdf_OD['NomeMunici'] == 'São Paulo']\n",
    "gdf_OD_SP = gdf_OD.loc[gdf_indices]\n",
    "\n",
    "# Obtendo os centroides\n",
    "gdf_OD_SP[\"centroid\"] = gdf_OD_SP[\"geometry\"].centroid\n",
    "\n",
    "if verbose:\n",
    "    gdf_OD_SP['centroid'].explore(\n",
    "        #                            column = \"NumeroZona\",\n",
    "        #                            tooltip = \"NumeroZona\",\n",
    "        #                            popup = True,\n",
    "        #                            tiles = \"CartoDB dark_matter\",\n",
    "        #                            cmap = \"inferno_r\")\n",
    "    )"
   ],
   "id": "c1c866390a35840",
   "outputs": [
    {
     "name": "stderr",
     "output_type": "stream",
     "text": [
      "/var/folders/8y/8z4lzw294m5c0kf05d8ww4r00000gn/T/ipykernel_27691/3141057998.py:15: UserWarning: Geometry is in a geographic CRS. Results from 'centroid' are likely incorrect. Use 'GeoSeries.to_crs()' to re-project geometries to a projected CRS before this operation.\n",
      "\n",
      "  gdf_OD_SP[\"centroid\"] = gdf_OD_SP[\"geometry\"].centroid\n"
     ]
    }
   ],
   "execution_count": 5
  },
  {
   "metadata": {
    "ExecuteTime": {
     "end_time": "2024-07-08T13:39:08.879692Z",
     "start_time": "2024-07-08T13:39:08.864003Z"
    }
   },
   "cell_type": "code",
   "source": [
    "centroides_df = gpd.GeoDataFrame(gdf_OD_SP[['NumeroZona', 'NomeZona']], geometry=gdf_OD_SP['centroid'])\n",
    "centroides_dentro = gpd.sjoin(centroides_df, bounding_box_baseline, how='inner', predicate='within')\n",
    "\n",
    "# Remover a coluna de índice criada pelo sjoin\n",
    "centroides_dentro = centroides_dentro.drop(columns=['index_right'])\n",
    "\n",
    "# Redefinir o índice\n",
    "centroides_dentro = centroides_dentro.reset_index(drop=True)\n",
    "\n",
    "centroides_dentro.shape"
   ],
   "id": "7285728b2a174fab",
   "outputs": [
    {
     "data": {
      "text/plain": [
       "(65, 3)"
      ]
     },
     "execution_count": 7,
     "metadata": {},
     "output_type": "execute_result"
    }
   ],
   "execution_count": 7
  },
  {
   "metadata": {
    "ExecuteTime": {
     "end_time": "2024-07-08T14:35:30.803251Z",
     "start_time": "2024-07-08T14:35:28.674866Z"
    }
   },
   "cell_type": "code",
   "source": [
    "# 1. Aproximar os pontos de centroides_dentro à rede\n",
    "centroides_dentro['nearest_node_baseline'] = centroides_dentro['geometry'].apply(\n",
    "    lambda point: ox.distance.nearest_nodes(G_baseline, point.x, point.y)\n",
    ")"
   ],
   "id": "365969f49990f47",
   "outputs": [],
   "execution_count": 35
  },
  {
   "metadata": {},
   "cell_type": "markdown",
   "source": "### Calcular o baseline (caminhos mínimos, sem chuva)",
   "id": "561b8b3620fc046"
  },
  {
   "metadata": {
    "ExecuteTime": {
     "end_time": "2024-07-08T13:58:28.107197Z",
     "start_time": "2024-07-08T13:58:28.103755Z"
    }
   },
   "cell_type": "code",
   "source": [
    "def listar_atributos_arestas(G):\n",
    "    atributos = set()\n",
    "    for _, _, dados in G.edges(data=True):\n",
    "        atributos.update(dados.keys())\n",
    "    return atributos"
   ],
   "id": "f45733dfe2f8eed4",
   "outputs": [],
   "execution_count": 18
  },
  {
   "metadata": {
    "ExecuteTime": {
     "end_time": "2024-07-08T14:30:33.200258Z",
     "start_time": "2024-07-08T14:30:33.194258Z"
    }
   },
   "cell_type": "code",
   "source": [
    "# Função para adicionar tempo de viagem às arestas\n",
    "def add_edge_travel_times(G, referencia):\n",
    "    for u, v, key, data in G.edges(keys=True, data=True):\n",
    "        length = data.get('length', 0)  # Certifique-se de que length esteja definido\n",
    "        vel_ref = data.get(referencia, 0)  # Certifique-se de que vel_ref esteja definido\n",
    "        \n",
    "        if vel_ref == 0:\n",
    "            travel_time_ref = float('inf')  # Indica que o tempo de viagem é infinito\n",
    "        else:\n",
    "            travel_time_ref = (length*3.6) / vel_ref  #*(3600/1000)  # Convertendo para segundos\n",
    "        nome = 'travel_time_' + referencia\n",
    "        G.edges[u, v, key][nome] = travel_time_ref\n",
    "        \n",
    "        edges_to_remove = [(u, v) for u, v, data in G.edges(data=True) if data.get(nome) == float('inf')]\n",
    "\n",
    "        # Remover as arestas com tempo de viagem igual a infinito\n",
    "        G.remove_edges_from(edges_to_remove)\n",
    "    return G"
   ],
   "id": "c9ee825b6967eb42",
   "outputs": [],
   "execution_count": 32
  },
  {
   "metadata": {
    "ExecuteTime": {
     "end_time": "2024-07-08T14:31:26.745444Z",
     "start_time": "2024-07-08T14:30:47.835916Z"
    }
   },
   "cell_type": "code",
   "source": [
    "# Adicionar velocidade aos eixos e calcular o tempo de viagem\n",
    "referencia = 'speed_kph'\n",
    "G_mod = add_edge_travel_times(G_baseline, referencia)"
   ],
   "id": "ae49912af82522d7",
   "outputs": [],
   "execution_count": 33
  },
  {
   "metadata": {
    "ExecuteTime": {
     "end_time": "2024-07-08T14:54:51.976980Z",
     "start_time": "2024-07-08T14:54:42.276842Z"
    }
   },
   "cell_type": "code",
   "source": [
    "import pandas as pd\n",
    "import itertools\n",
    "import time\n",
    "\n",
    "# Carregar a planilha no DataFrame\n",
    "# Considerando que a primeira linha contém os cabeçalhos e as zonas começam de 1\n",
    "matriz_od_25 = pd.read_excel(arquivo_matrizOD, header=7, index_col=0)\n",
    "# Exibir as primeiras linhas do DataFrame para verificação\n",
    "print(matriz_od_25.head())"
   ],
   "id": "3f35069adfa02f13",
   "outputs": [
    {
     "name": "stdout",
     "output_type": "stream",
     "text": [
      "              1           2    3           4           5           6  \\\n",
      "NaN         NaN         NaN  NaN         NaN         NaN         NaN   \n",
      "1    128.247095   86.383235  0.0  191.877452  105.088345  151.710615   \n",
      "2     86.383235    0.000000  0.0    0.000000  612.400416  256.941702   \n",
      "3      0.000000    0.000000  0.0    0.000000  194.857696    0.000000   \n",
      "4      0.000000  214.428586  0.0  372.251396  455.222595    0.000000   \n",
      "\n",
      "              7           8          9   10  ...  509  510  511  512  513  \\\n",
      "NaN         NaN         NaN        NaN  NaN  ...  NaN  NaN  NaN  NaN  NaN   \n",
      "1    234.477033    0.000000   0.000000  0.0  ...  0.0  0.0  0.0  0.0  0.0   \n",
      "2      0.000000    0.000000  92.275009  0.0  ...  0.0  0.0  0.0  0.0  0.0   \n",
      "3      0.000000    0.000000   0.000000  0.0  ...  0.0  0.0  0.0  0.0  0.0   \n",
      "4      0.000000  159.375738   0.000000  0.0  ...  0.0  0.0  0.0  0.0  0.0   \n",
      "\n",
      "     514  515        516  517         Total  \n",
      "NaN  NaN  NaN        NaN  NaN           NaN  \n",
      "1    0.0  0.0    0.00000  0.0  17176.130259  \n",
      "2    0.0  0.0    0.00000  0.0  27434.252890  \n",
      "3    0.0  0.0  301.38861  0.0   9807.025846  \n",
      "4    0.0  0.0    0.00000  0.0  16763.509216  \n",
      "\n",
      "[5 rows x 518 columns]\n"
     ]
    }
   ],
   "execution_count": 39
  },
  {
   "metadata": {
    "ExecuteTime": {
     "end_time": "2024-07-08T14:32:41.089374Z",
     "start_time": "2024-07-08T14:32:41.084389Z"
    }
   },
   "cell_type": "code",
   "source": [
    "# 1. Função para obter o número de viagens da matriz OD\n",
    "def get_number_of_trips(node1, node2, referencia, od_matrix):\n",
    "    zone1 = centroides_dentro.loc[centroides_dentro[referencia] == node1, 'NumeroZona'].values[0]\n",
    "    zone2 = centroides_dentro.loc[centroides_dentro[referencia] == node2, 'NumeroZona'].values[0]\n",
    "    return od_matrix.loc[zone1, zone2]"
   ],
   "id": "87de4e25461d137f",
   "outputs": [],
   "execution_count": 34
  },
  {
   "metadata": {
    "ExecuteTime": {
     "end_time": "2024-07-08T15:00:16.062065Z",
     "start_time": "2024-07-08T15:00:16.059026Z"
    }
   },
   "cell_type": "code",
   "source": [
    "# Definição da função para encontrar o caminho mínimo\n",
    "def caminho_minimo(G, source, target, weight):\n",
    "    # Encontrar o caminho mais curto\n",
    "    path = nx.shortest_path(G, source=source, target=target, weight=weight)\n",
    "    path_cost = nx.path_weight(G, path, weight=weight)\n",
    "    return path, path_cost"
   ],
   "id": "beab300109e2b66",
   "outputs": [],
   "execution_count": 52
  },
  {
   "metadata": {
    "ExecuteTime": {
     "end_time": "2024-07-08T15:02:27.912851Z",
     "start_time": "2024-07-08T15:02:27.907008Z"
    }
   },
   "cell_type": "code",
   "source": [
    " def calcula_caminho_minimo(gdf_OD, referencia_OD, G, referencia):\n",
    "    data = []\n",
    "    data_batch = []\n",
    "    start_time = time.time()\n",
    "    for node1, node2 in itertools.product(gdf_OD[referencia_OD], repeat=2):\n",
    "        if node1 == node2:\n",
    "            continue  # Ignorar pares onde origem e destino são iguais\n",
    "        try:\n",
    "            # Obter o número de viagens entre node1 e node2\n",
    "            num_trips = get_number_of_trips(node1, node2, 'nearest_node_baseline', matriz_od_25)\n",
    "            if num_trips > 0:\n",
    "                # Calcular o caminho mínimo pelo tempo de viagem ponderado\n",
    "                if node1 in G.nodes and node2 in G.nodes:\n",
    "                    # Calcular o caminho mais curto\n",
    "                    caminho_com, tempo_com = caminho_minimo(G, node1, node2, referencia)\n",
    "                    weighted_time_rain = tempo_com * num_trips\n",
    "                else:\n",
    "                    print(f\"Nó(s) {node1} ou {node2} não encontrado(s) no grafo.\")\n",
    "                    continue\n",
    "                data_batch.append({\n",
    "                    'index': len(data) + 1,\n",
    "                    'Origem': node1,\n",
    "                    'Destino': node2,\n",
    "                    'Num_viagens': num_trips,\n",
    "                    'Tempo com chuva (min)': tempo_com / 60,\n",
    "                    'Nós com chuva': len(caminho_com),\n",
    "                    'Tempo ponderado com chuva (min)': weighted_time_rain / 60\n",
    "                        })\n",
    "\n",
    "        except nx.NetworkXNoPath:\n",
    "            # Se não houver caminho entre os nós, ignore esse par\n",
    "            continue\n",
    "            \n",
    "    # Parar o cronômetro e calcular o tempo de processamento\n",
    "    end_time = time.time()\n",
    "    processing_time = end_time - start_time\n",
    "    print(f\"Tempo de processamento: {processing_time / 60:.2f} minutos\")\n",
    "    print(f'Foram calculadas {len(index)} viagens')\n",
    "    print(f'O tempo médio de viagens entre os pares OD foi de {}')\n",
    "            \n",
    "    # Criar DataFrame e salvar em CSV\n",
    "    tempos_e_viagens_arquivo = pd.DataFrame(data_batch)\n",
    "    #output_file = output_dir / f'tempo_e_viagens_{first_unprocessed_file}.csv'\n",
    "    #tempos_e_viagens_arquivo.to_csv(output_file, index=False)\n",
    "    #print(f\"Dados salvos em {output_file}\")\n",
    "    #tempos_e_viagens_arquivo\n",
    "    return tempos_e_viagens_arquivo"
   ],
   "id": "a64c37629c78b87a",
   "outputs": [],
   "execution_count": 54
  },
  {
   "metadata": {
    "ExecuteTime": {
     "end_time": "2024-07-08T15:02:43.127210Z",
     "start_time": "2024-07-08T15:02:33.905663Z"
    }
   },
   "cell_type": "code",
   "source": "tempos_e_viagens_arquivo = calcula_caminho_minimo(centroides_dentro,'nearest_node_baseline', G_mod, 'travel_time_speed_kph')",
   "id": "2ef31e89bd9420b2",
   "outputs": [
    {
     "name": "stdout",
     "output_type": "stream",
     "text": [
      "Tempo de processamento: 0.15 minutos\n"
     ]
    }
   ],
   "execution_count": 55
  },
  {
   "metadata": {
    "ExecuteTime": {
     "end_time": "2024-07-08T15:04:16.778453Z",
     "start_time": "2024-07-08T15:04:16.768410Z"
    }
   },
   "cell_type": "code",
   "source": "tempos_e_viafens_arquivo",
   "id": "ebdd5ed1a3ac34dd",
   "outputs": [
    {
     "data": {
      "text/plain": [
       "     index      Origem     Destino  Num_viagens  Tempo com chuva (min)  \\\n",
       "0        1   340185206  4499663530  1322.714416               3.340624   \n",
       "1        1   340185206   458457689   696.854080               3.045976   \n",
       "2        1   340185206   129958225   520.898998               7.474322   \n",
       "3        1   340185206   130009969   433.082541               6.091142   \n",
       "4        1   340185206   433999406   126.223527               9.661934   \n",
       "..     ...         ...         ...          ...                    ...   \n",
       "846      1  1645957962  1071641620   522.664724               8.881170   \n",
       "847      1  1645957962  1040335345   459.687636               4.869896   \n",
       "848      1  1645957962  6358057222  1482.042049               3.078090   \n",
       "849      1  1645957962  1095092347   343.050791               6.627123   \n",
       "850      1  1645957962   155371115   228.100245               4.678218   \n",
       "\n",
       "     Nós com chuva  Tempo ponderado com chuva (min)  \n",
       "0               15                      4418.691390  \n",
       "1               12                      2122.600524  \n",
       "2               35                      3893.366892  \n",
       "3               31                      2637.967428  \n",
       "4               43                      1219.563433  \n",
       "..             ...                              ...  \n",
       "846             42                      4641.874270  \n",
       "847             29                      2238.631162  \n",
       "848             18                      4561.859254  \n",
       "849             24                      2273.439785  \n",
       "850             11                      1067.102603  \n",
       "\n",
       "[851 rows x 7 columns]"
      ],
      "text/html": [
       "<div>\n",
       "<style scoped>\n",
       "    .dataframe tbody tr th:only-of-type {\n",
       "        vertical-align: middle;\n",
       "    }\n",
       "\n",
       "    .dataframe tbody tr th {\n",
       "        vertical-align: top;\n",
       "    }\n",
       "\n",
       "    .dataframe thead th {\n",
       "        text-align: right;\n",
       "    }\n",
       "</style>\n",
       "<table border=\"1\" class=\"dataframe\">\n",
       "  <thead>\n",
       "    <tr style=\"text-align: right;\">\n",
       "      <th></th>\n",
       "      <th>index</th>\n",
       "      <th>Origem</th>\n",
       "      <th>Destino</th>\n",
       "      <th>Num_viagens</th>\n",
       "      <th>Tempo com chuva (min)</th>\n",
       "      <th>Nós com chuva</th>\n",
       "      <th>Tempo ponderado com chuva (min)</th>\n",
       "    </tr>\n",
       "  </thead>\n",
       "  <tbody>\n",
       "    <tr>\n",
       "      <th>0</th>\n",
       "      <td>1</td>\n",
       "      <td>340185206</td>\n",
       "      <td>4499663530</td>\n",
       "      <td>1322.714416</td>\n",
       "      <td>3.340624</td>\n",
       "      <td>15</td>\n",
       "      <td>4418.691390</td>\n",
       "    </tr>\n",
       "    <tr>\n",
       "      <th>1</th>\n",
       "      <td>1</td>\n",
       "      <td>340185206</td>\n",
       "      <td>458457689</td>\n",
       "      <td>696.854080</td>\n",
       "      <td>3.045976</td>\n",
       "      <td>12</td>\n",
       "      <td>2122.600524</td>\n",
       "    </tr>\n",
       "    <tr>\n",
       "      <th>2</th>\n",
       "      <td>1</td>\n",
       "      <td>340185206</td>\n",
       "      <td>129958225</td>\n",
       "      <td>520.898998</td>\n",
       "      <td>7.474322</td>\n",
       "      <td>35</td>\n",
       "      <td>3893.366892</td>\n",
       "    </tr>\n",
       "    <tr>\n",
       "      <th>3</th>\n",
       "      <td>1</td>\n",
       "      <td>340185206</td>\n",
       "      <td>130009969</td>\n",
       "      <td>433.082541</td>\n",
       "      <td>6.091142</td>\n",
       "      <td>31</td>\n",
       "      <td>2637.967428</td>\n",
       "    </tr>\n",
       "    <tr>\n",
       "      <th>4</th>\n",
       "      <td>1</td>\n",
       "      <td>340185206</td>\n",
       "      <td>433999406</td>\n",
       "      <td>126.223527</td>\n",
       "      <td>9.661934</td>\n",
       "      <td>43</td>\n",
       "      <td>1219.563433</td>\n",
       "    </tr>\n",
       "    <tr>\n",
       "      <th>...</th>\n",
       "      <td>...</td>\n",
       "      <td>...</td>\n",
       "      <td>...</td>\n",
       "      <td>...</td>\n",
       "      <td>...</td>\n",
       "      <td>...</td>\n",
       "      <td>...</td>\n",
       "    </tr>\n",
       "    <tr>\n",
       "      <th>846</th>\n",
       "      <td>1</td>\n",
       "      <td>1645957962</td>\n",
       "      <td>1071641620</td>\n",
       "      <td>522.664724</td>\n",
       "      <td>8.881170</td>\n",
       "      <td>42</td>\n",
       "      <td>4641.874270</td>\n",
       "    </tr>\n",
       "    <tr>\n",
       "      <th>847</th>\n",
       "      <td>1</td>\n",
       "      <td>1645957962</td>\n",
       "      <td>1040335345</td>\n",
       "      <td>459.687636</td>\n",
       "      <td>4.869896</td>\n",
       "      <td>29</td>\n",
       "      <td>2238.631162</td>\n",
       "    </tr>\n",
       "    <tr>\n",
       "      <th>848</th>\n",
       "      <td>1</td>\n",
       "      <td>1645957962</td>\n",
       "      <td>6358057222</td>\n",
       "      <td>1482.042049</td>\n",
       "      <td>3.078090</td>\n",
       "      <td>18</td>\n",
       "      <td>4561.859254</td>\n",
       "    </tr>\n",
       "    <tr>\n",
       "      <th>849</th>\n",
       "      <td>1</td>\n",
       "      <td>1645957962</td>\n",
       "      <td>1095092347</td>\n",
       "      <td>343.050791</td>\n",
       "      <td>6.627123</td>\n",
       "      <td>24</td>\n",
       "      <td>2273.439785</td>\n",
       "    </tr>\n",
       "    <tr>\n",
       "      <th>850</th>\n",
       "      <td>1</td>\n",
       "      <td>1645957962</td>\n",
       "      <td>155371115</td>\n",
       "      <td>228.100245</td>\n",
       "      <td>4.678218</td>\n",
       "      <td>11</td>\n",
       "      <td>1067.102603</td>\n",
       "    </tr>\n",
       "  </tbody>\n",
       "</table>\n",
       "<p>851 rows × 7 columns</p>\n",
       "</div>"
      ]
     },
     "execution_count": 56,
     "metadata": {},
     "output_type": "execute_result"
    }
   ],
   "execution_count": 56
  }
 ],
 "metadata": {
  "kernelspec": {
   "display_name": "Python 3",
   "language": "python",
   "name": "python3"
  },
  "language_info": {
   "codemirror_mode": {
    "name": "ipython",
    "version": 2
   },
   "file_extension": ".py",
   "mimetype": "text/x-python",
   "name": "python",
   "nbconvert_exporter": "python",
   "pygments_lexer": "ipython2",
   "version": "2.7.6"
  }
 },
 "nbformat": 4,
 "nbformat_minor": 5
}
