{
 "cells": [
  {
   "cell_type": "code",
   "id": "initial_id",
   "metadata": {
    "collapsed": true,
    "ExecuteTime": {
     "end_time": "2024-07-23T23:29:11.225970Z",
     "start_time": "2024-07-23T23:28:59.822175Z"
    }
   },
   "source": [
    "import geopandas as gpd\n",
    "import matplotlib.pyplot as plt\n",
    "from shapely.geometry import box\n",
    "import osmnx as ox\n",
    "import networkx as nx\n",
    "from itertools import combinations\n",
    "import multiprocessing as mp\n",
    "\n",
    "print(f'Utilizando a versão {ox.__version__} do OSMNX')\n",
    "\n",
    "print(f'Eu tenho {mp.cpu_count()} CPUs disponíveis')"
   ],
   "execution_count": 1,
   "outputs": []
  },
  {
   "metadata": {
    "ExecuteTime": {
     "end_time": "2024-07-23T23:29:30.722292Z",
     "start_time": "2024-07-23T23:29:30.716727Z"
    }
   },
   "cell_type": "code",
   "source": [
    "caminho = '/Users/marcelofernandes/Library/CloudStorage/GoogleDrive-marcelo.fernandes@alumni.usp.br/.shortcut-targets-by-id/1M--OnzbTYagrNv5Ss9fjWlBxCMmasz-Y/10_Mestrado_2021_Marcelo Fernandes/6_Qualificação/Mapas temáticos e figuras/BACIA_HIDROGRAFICA/SIRGAS_BACIAHIDROGRAFICA.shp'\n",
    "my_crs = '4326' # Verificar em EPSG.io um projeção que te dê o resultado em metros\n",
    "pesquisa_OD = '/Users/marcelofernandes/Library/CloudStorage/GoogleDrive-marcelo.fernandes@alumni.usp.br/.shortcut-targets-by-id/1M--OnzbTYagrNv5Ss9fjWlBxCMmasz-Y/10_Mestrado_2021_Marcelo Fernandes/8_Dados/Pesquisa OD 2017/OD-2017/Mapas-OD2017/Shape-OD2017/Zonas_2017_region.shp'\n",
    "plt.style.use('ggplot')\n",
    "\n",
    "verbose = False     # Flag para pular algumas atividades, com o objetivo de economizar memória.\n"
   ],
   "id": "b378021070eb482a",
   "execution_count": 2,
   "outputs": []
  },
  {
   "metadata": {
    "ExecuteTime": {
     "end_time": "2024-07-23T23:30:17.818199Z",
     "start_time": "2024-07-23T23:30:16.559049Z"
    }
   },
   "cell_type": "code",
   "source": [
    "# Informações relevantes sobre os sistemas de coordenadas do GeoSampa\n",
    "#Nota técnica: No GeoSampa são fornecidos arquivos tanto na projeção SAD69(96) como SIRGAS2000 e WGS84. \n",
    "#A projeção em SAD69(96) é fornecida apenas em caráter de compatibilidade com bases antigas, visto que, em 2014,\n",
    "#foi definida a projeção UTM/SIRGAS2000 (EPGS: 31983) como a nova referência para o Sistema Geodésico Brasileiro (SGB)\n",
    "# e para o Sistema Cartográfico Nacional (SCN). Desde então são consideradas oficiais apenas as informações\n",
    "# produzidas tendo o Sirgas2000 como sistema geodésico.\n",
    "\n",
    "# Read the shapefile\n",
    "gdf = gpd.read_file(caminho)\n",
    "\n",
    "# Atribuição do esquema de projeção\n",
    "gdf = gdf.set_crs(epsg=31983)\n",
    "gdf = gdf.to_crs(my_crs)\n",
    "\n",
    "# Verifica o sistema de coordenadas\n",
    "print(f'O sistema de coordendadas utilizado é o {gdf.crs}')\n",
    "\n",
    "# Plotar o geodataframe\n",
    "gdf.plot(figsize=(12,12))\n",
    "\n",
    "# Verifica os nomes das bacias presentes no arquivo\n",
    "bacias_unicas = gdf['BACIA_NOME'].unique()\n",
    "#print(bacias_unicas)\n",
    "\n",
    "# Bacia desejada\n",
    "bacia = 'Aricanduva'\n",
    "\n",
    "# Filtrar as linhas que contêm a palavra procurada\n",
    "linhas_contendo_bacia = filter(lambda linha: bacia in linha, bacias_unicas)\n",
    "\n",
    "# Converter o resultado de volta para uma lista, se necessário\n",
    "linhas_contendo_bacia = list(linhas_contendo_bacia)\n",
    "\n",
    "# Exibir as linhas encontradas\n",
    "\n",
    "for linha in linhas_contendo_bacia:\n",
    "    print(linha)"
   ],
   "id": "bf1da887e952aa3a",
   "execution_count": 4,
   "outputs": []
  },
  {
   "metadata": {
    "ExecuteTime": {
     "end_time": "2024-07-23T23:30:59.510924Z",
     "start_time": "2024-07-23T23:30:59.497680Z"
    }
   },
   "cell_type": "code",
   "source": "gdf.info()",
   "id": "413f3096d01b87e6",
   "execution_count": 6,
   "outputs": []
  },
  {
   "metadata": {
    "ExecuteTime": {
     "end_time": "2024-07-23T23:49:51.232528Z",
     "start_time": "2024-07-23T23:49:51.205197Z"
    }
   },
   "cell_type": "code",
   "source": "caminhos_rios = '/Users/marcelofernandes/Library/CloudStorage/GoogleDrive-marcelo.fernandes@alumni.usp.br/.shortcut-targets-by-id/1M--OnzbTYagrNv5Ss9fjWlBxCMmasz-Y/10_Mestrado_2021_Marcelo Fernandes/8_Dados/Ughri16_hidrografia/Ughri16_hidrografia.shp'",
   "id": "c8375d4282818cd7",
   "execution_count": 7,
   "outputs": []
  },
  {
   "metadata": {
    "ExecuteTime": {
     "end_time": "2024-07-23T23:56:41.353968Z",
     "start_time": "2024-07-23T23:56:39.728698Z"
    }
   },
   "cell_type": "code",
   "source": [
    "# Read the shapefile\n",
    "gdf_rios = gpd.read_file(caminhos_rios)\n",
    "\n",
    "#gdf_rios = gdf.to_crs(31983)\n",
    "gdf_rios = gdf_rios.to_crs(4326)\n",
    "\n",
    "# Verifica o sistema de coordenadas\n",
    "print(f'O sistema de coordendadas utilizado é o {gdf_rios.crs}')\n",
    "\n",
    "# Plotar o geodataframe\n",
    "gdf_rios.plot(figsize=(12,12))"
   ],
   "id": "8b630a33220e7689",
   "execution_count": 15,
   "outputs": []
  },
  {
   "metadata": {
    "ExecuteTime": {
     "end_time": "2024-07-23T23:59:27.450570Z",
     "start_time": "2024-07-23T23:59:26.725848Z"
    }
   },
   "cell_type": "code",
   "source": [
    "# Read the shapefile\n",
    "gdf_OD = gpd.read_file(pesquisa_OD)\n",
    "\n",
    "# Verifica o sistema de coordenadas\n",
    "gdf_OD.crs\n",
    "\n",
    "# Atribuição do esquema de projeção\n",
    "gdf_OD = gdf_OD.to_crs(my_crs)\n",
    "\n",
    "# Filtrando para o munícipio de São Paulo\n",
    "gdf_indices=gdf_OD.index[gdf_OD['NomeMunici']=='São Paulo']\n",
    "gdf_OD_SP = gdf_OD.loc[gdf_indices]\n",
    "gdf_OD_SP.plot(figsize=(12,12))"
   ],
   "id": "671002ec4a5ba16c",
   "execution_count": 17,
   "outputs": []
  },
  {
   "metadata": {
    "ExecuteTime": {
     "end_time": "2024-07-24T00:03:59.428564Z",
     "start_time": "2024-07-24T00:03:59.423351Z"
    }
   },
   "cell_type": "code",
   "source": [
    "import geopandas as gpd\n",
    "\n",
    "# Verificando e ajustando os sistemas de coordenadas, se necessário\n",
    "if gdf_rios.crs != gdf_OD_SP.crs:\n",
    "    gdf_rios = gdf_rios.to_crs(gdf_OD_SP.crs)\n",
    "\n",
    "# Filtrando os rios que estão dentro da cidade de São Paulo\n",
    "sao_paulo_polygon = gdf_OD_SP.geometry.iloc[0]\n",
    "gdf_rios_in_sp = gdf_rios[gdf_rios.geometry.within(sao_paulo_polygon)]\n",
    "\n",
    "#gdf_rios_in_sp.plot(figsize=(12,12))\n",
    "\n",
    "# Salvando o resultado em um novo arquivo\n",
    "#gdf_rios_in_sp.to_file('rios_dentro_de_SP.shp')\n",
    "#gdf_rios_in_sp.to_file('rios_dentro_de_SP.geojson', driver='GeoJSON')\n"
   ],
   "id": "1b11e95671ac1b3c",
   "execution_count": 19,
   "outputs": []
  },
  {
   "metadata": {
    "ExecuteTime": {
     "end_time": "2024-07-24T00:05:10.454157Z",
     "start_time": "2024-07-24T00:05:10.080713Z"
    }
   },
   "cell_type": "code",
   "source": [
    "# Plotando o resultado\n",
    "fig, ax = plt.subplots(1, 1, figsize=(10, 10))\n",
    "gdf_OD_SP.boundary.plot(ax=ax, linewidth=1, color='black')\n",
    "gdf_rios_in_sp.plot(ax=ax, color='blue')\n",
    "\n",
    "plt.title('Rios dentro da Cidade de São Paulo')\n",
    "plt.xlabel('Longitude')\n",
    "plt.ylabel('Latitude')\n",
    "plt.show()"
   ],
   "id": "6868fb98fc614316",
   "execution_count": 21,
   "outputs": []
  },
  {
   "metadata": {
    "ExecuteTime": {
     "end_time": "2024-07-24T00:38:44.400918Z",
     "start_time": "2024-07-24T00:38:43.497508Z"
    }
   },
   "cell_type": "code",
   "source": [
    "import geopandas as gpd\n",
    "from shapely.ops import unary_union\n",
    "from shapely.geometry import Polygon, MultiPolygon\n",
    "import matplotlib.pyplot as plt\n",
    "\n",
    "# Função para corrigir geometrias inválidas\n",
    "def make_valid(geom):\n",
    "    if not geom.is_valid:\n",
    "        return geom.buffer(0)\n",
    "    return geom\n",
    "\n",
    "# Aplicando a função de correção a todas as geometrias\n",
    "gdf_OD_SP['geometry'] = gdf_OD_SP['geometry'].apply(make_valid)\n",
    "\n",
    "# Filtrando apenas geometrias válidas\n",
    "gdf_OD_SP = gdf_OD_SP[gdf_OD_SP['geometry'].notnull()]\n",
    "\n",
    "# Unindo todas as geometrias em uma única geometria\n",
    "exterior = unary_union(gdf_OD_SP.geometry)\n",
    "\n",
    "# Certificando-se de que o resultado seja um polígono ou multipolígono\n",
    "if isinstance(exterior, (Polygon, MultiPolygon)):\n",
    "    gdf_exterior = gpd.GeoDataFrame(geometry=[exterior], crs=gdf.crs)\n",
    "else:\n",
    "    raise ValueError(\"Resultado não é um polígono ou multipolígono válido.\")\n",
    "\n",
    "# Plotando o resultado\n",
    "fig, ax = plt.subplots(1, 1, figsize=(10, 10))\n",
    "gdf.boundary.plot(ax=ax, linewidth=1, color='black', linestyle='--')\n",
    "gdf_exterior.boundary.plot(ax=ax, linewidth=2, color='red')\n",
    "\n",
    "plt.title('Contorno Externo do Dataset')\n",
    "plt.xlabel('Longitude')\n",
    "plt.ylabel('Latitude')\n",
    "plt.show()"
   ],
   "id": "979faeeef1bc78cc",
   "execution_count": 46,
   "outputs": []
  },
  {
   "metadata": {
    "ExecuteTime": {
     "end_time": "2024-07-24T00:35:58.512516Z",
     "start_time": "2024-07-24T00:35:58.313001Z"
    }
   },
   "cell_type": "code",
   "source": "exterior = unary_union(gdf_OD_SP.geometry)",
   "id": "1d0af4d35f5f7ff6",
   "execution_count": 45,
   "outputs": []
  },
  {
   "metadata": {
    "ExecuteTime": {
     "end_time": "2024-07-24T00:24:28.006433Z",
     "start_time": "2024-07-24T00:24:28.002820Z"
    }
   },
   "cell_type": "code",
   "source": "caminhos_drenagem = '/Users/marcelofernandes/Library/CloudStorage/GoogleDrive-marcelo.fernandes@alumni.usp.br/.shortcut-targets-by-id/1M--OnzbTYagrNv5Ss9fjWlBxCMmasz-Y/10_Mestrado_2021_Marcelo Fernandes/8_Dados/SIRGAS_SHP_hidrolinha/SIRGAS_SHP_hidrolinha.shp'",
   "id": "607ab15c09dd4b7e",
   "execution_count": 32,
   "outputs": []
  },
  {
   "metadata": {
    "ExecuteTime": {
     "end_time": "2024-07-24T00:27:55.850480Z",
     "start_time": "2024-07-24T00:27:53.763081Z"
    }
   },
   "cell_type": "code",
   "source": [
    "# Read the shapefile\n",
    "gdf_drenagem = gpd.read_file(caminhos_drenagem)\n",
    "\n",
    "# Verifica o sistema de coordenadas\n",
    "#gdf_corpos.crs\n",
    "\n",
    "# Atribuição do esquema de projeção\n",
    "#gdf_drenagem = gdf_drenagem.to_crs(4326)\n",
    "gdf_drenagem = gdf_drenagem.set_crs(31983)\n",
    "\n",
    "# Filtrando para o munícipio de São Paulo\n",
    "#gdf_indices=gdf_OD.index[gdf_OD['NomeMunici']=='São Paulo']\n",
    "#gdf_OD_SP = gdf_OD.loc[gdf_indices]\n",
    "gdf_drenagem.plot(figsize=(12,12))"
   ],
   "id": "829aa9c8b2115ae4",
   "execution_count": 38,
   "outputs": []
  },
  {
   "metadata": {
    "ExecuteTime": {
     "end_time": "2024-07-24T00:41:49.651984Z",
     "start_time": "2024-07-24T00:41:01.033309Z"
    }
   },
   "cell_type": "code",
   "source": [
    "import geopandas as gpd\n",
    "\n",
    "# Verificando e ajustando os sistemas de coordenadas, se necessário\n",
    "if gdf_drenagem.crs != gdf_exterior.crs:\n",
    "    print('Datasets com diferentes sistemas de coordenadas')\n",
    "    gdf_drenagem = gdf_drenagem.to_crs(gdf_exterior.crs)\n",
    "\n",
    "# Filtrando os rios que estão dentro da cidade de São Paulo\n",
    "sao_paulo_polygon = gdf_exterior.geometry.iloc[0]\n",
    "gdf_rios_in_sp = gdf_drenagem[gdf_drenagem.geometry.within(sao_paulo_polygon)]\n",
    "\n",
    "gdf_rios_in_sp.plot(figsize=(12,12))\n",
    "\n",
    "# Salvando o resultado em um novo arquivo\n",
    "#gdf_rios_in_sp.to_file('rios_dentro_de_SP.shp')\n",
    "#gdf_rios_in_sp.to_file('rios_dentro_de_SP.geojson', driver='GeoJSON')"
   ],
   "id": "8fa2b89f3aed05fb",
   "execution_count": 50,
   "outputs": []
  },
  {
   "metadata": {
    "ExecuteTime": {
     "end_time": "2024-07-24T00:40:07.994614Z",
     "start_time": "2024-07-24T00:40:07.824400Z"
    }
   },
   "cell_type": "code",
   "source": "gdf_exterior.boundary.plot(linewidth=2, color='red')",
   "id": "851b148b03f3bb2a",
   "execution_count": 49,
   "outputs": []
  },
  {
   "metadata": {
    "ExecuteTime": {
     "end_time": "2024-07-24T00:45:23.609484Z",
     "start_time": "2024-07-24T00:44:38.036138Z"
    }
   },
   "cell_type": "code",
   "source": [
    "import geopandas as gpd\n",
    "import matplotlib.pyplot as plt\n",
    "\n",
    "# Supondo que gdf_drenagem e gdf_exterior já foram carregados previamente\n",
    "\n",
    "# Verificando e ajustando os sistemas de coordenadas, se necessário\n",
    "if gdf_drenagem.crs != gdf_exterior.crs:\n",
    "    print('Datasets com diferentes sistemas de coordenadas')\n",
    "    gdf_drenagem = gdf_drenagem.to_crs(gdf_exterior.crs)\n",
    "\n",
    "# Filtrando os rios que tocam o contorno exterior da cidade de São Paulo\n",
    "sao_paulo_polygon = gdf_exterior.geometry.iloc[0]\n",
    "gdf_rios_tocando_sp = gdf_drenagem[gdf_drenagem.geometry.touches(sao_paulo_polygon)]\n",
    "\n",
    "# Plotando o resultado\n",
    "fig, ax = plt.subplots(1, 1, figsize=(12, 12))\n",
    "gdf_exterior.boundary.plot(ax=ax, linewidth=1, color='black', linestyle='--', label='Contorno de SP')\n",
    "gdf_rios_tocando_sp.plot(ax=ax, color='blue', label='Rios tocando SP')\n",
    "\n",
    "plt.title('Rios que Tocam a Cidade de São Paulo')\n",
    "plt.xlabel('Longitude')\n",
    "plt.ylabel('Latitude')\n",
    "plt.legend()\n",
    "plt.show()\n",
    "\n",
    "# Salvando o resultado em um novo arquivo\n",
    "#gdf_rios_tocando_sp.to_file('rios_tocando_SP.shp')\n",
    "#gdf_rios_tocando_sp.to_file('rios_tocando_SP.geojson', driver='GeoJSON')\n"
   ],
   "id": "f9eda776587aa4c5",
   "execution_count": 51,
   "outputs": []
  },
  {
   "metadata": {
    "ExecuteTime": {
     "end_time": "2024-07-24T00:46:32.457092Z",
     "start_time": "2024-07-24T00:46:32.450708Z"
    }
   },
   "cell_type": "code",
   "source": "gdf_rios_tocando_sp",
   "id": "64321a1d8b14229",
   "execution_count": 52,
   "outputs": []
  },
  {
   "metadata": {
    "ExecuteTime": {
     "end_time": "2024-07-24T00:51:26.096643Z",
     "start_time": "2024-07-24T00:51:26.087198Z"
    }
   },
   "cell_type": "code",
   "source": [
    "import geopandas as gpd\n",
    "import matplotlib.pyplot as plt\n",
    "\n",
    "# Supondo que gdf_drenagem e gdf_exterior já foram carregados previamente\n",
    "\n",
    "gdf_exterior = gdf_exterior.set_crs(31983, allow_override=True)\n",
    "gdf_drenagem = gdf_drenagem.set_crs(31983, allow_override=True)"
   ],
   "id": "7a48cae76f2ddca0",
   "execution_count": 57,
   "outputs": []
  },
  {
   "metadata": {
    "ExecuteTime": {
     "end_time": "2024-07-24T00:54:16.506841Z",
     "start_time": "2024-07-24T00:54:15.742593Z"
    }
   },
   "cell_type": "code",
   "source": [
    "# Verificando e ajustando os sistemas de coordenadas, se necessário\n",
    "if gdf_drenagem.crs != gdf_exterior.crs:\n",
    "    print('Datasets com diferentes sistemas de coordenadas')\n",
    "    gdf_drenagem = gdf_drenagem.to_crs(gdf_exterior.crs)\n",
    "\n",
    "# Criando um buffer de 5 metros ao redor do contorno exterior\n",
    "buffer_5m = gdf_exterior.geometry.buffer(5)\n",
    "\n",
    "# Filtrando os rios que tocam o buffer\n",
    "buffer_union = buffer_5m.unary_union if hasattr(buffer_5m, 'unary_union') else buffer_5m.union_all()\n",
    "gdf_rios_tocando_buffer = gdf_drenagem[gdf_drenagem.geometry.touches(buffer_union)]"
   ],
   "id": "871f51cd8919fa10",
   "execution_count": 62,
   "outputs": []
  },
  {
   "metadata": {
    "ExecuteTime": {
     "end_time": "2024-07-24T00:57:37.465204Z",
     "start_time": "2024-07-24T00:57:35.752402Z"
    }
   },
   "cell_type": "code",
   "source": [
    "# Plotando o resultado\n",
    "fig, ax = plt.subplots(1, 1, figsize=(12, 12))\n",
    "gdf_exterior.boundary.plot(ax=ax, linewidth=1, color='black', linestyle='--', label='Contorno de SP')\n",
    "gdf_drenagem.plot(ax=ax, color='blue', alpha=0.3, label='Rios de Drenagem')\n",
    "#buffer_5m.boundary.plot(ax=ax, linewidth=1, color='red', linestyle='-', label='Buffer de 5m')\n",
    "gdf_rios_tocando_buffer.plot(ax=ax, color='green', label='Rios tocando o Buffer')\n",
    "\n",
    "plt.title('Rios que Tocam o Buffer de 5m ao Redor da Cidade de São Paulo')\n",
    "plt.xlabel('Longitude')\n",
    "plt.ylabel('Latitude')\n",
    "plt.legend()\n",
    "plt.show()\n",
    "\n",
    "# Salvando o resultado em um novo arquivo\n",
    "#gdf_rios_tocando_buffer.to_file('rios_tocando_buffer_SP.shp')\n",
    "#gdf_rios_tocando_buffer.to_file('rios_tocando_buffer_SP.geojson', driver='GeoJSON')\n"
   ],
   "id": "d357f0b6b7bf33aa",
   "execution_count": 66,
   "outputs": []
  },
  {
   "metadata": {
    "ExecuteTime": {
     "end_time": "2024-07-24T00:48:41.615197Z",
     "start_time": "2024-07-24T00:48:41.610086Z"
    }
   },
   "cell_type": "code",
   "source": "gdf_exterior.crs",
   "id": "2a6c97a7720fcbd3",
   "execution_count": 54,
   "outputs": []
  },
  {
   "metadata": {},
   "cell_type": "code",
   "execution_count": null,
   "source": "",
   "id": "ec97bd266f9dd20c",
   "outputs": []
  }
 ],
 "metadata": {
  "kernelspec": {
   "display_name": "Python 3",
   "language": "python",
   "name": "python3"
  },
  "language_info": {
   "codemirror_mode": {
    "name": "ipython",
    "version": 2
   },
   "file_extension": ".py",
   "mimetype": "text/x-python",
   "name": "python",
   "nbconvert_exporter": "python",
   "pygments_lexer": "ipython2",
   "version": "2.7.6"
  }
 },
 "nbformat": 4,
 "nbformat_minor": 5
}
